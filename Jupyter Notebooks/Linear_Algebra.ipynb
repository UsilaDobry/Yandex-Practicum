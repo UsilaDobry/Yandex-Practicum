{
 "cells": [
  {
   "cell_type": "markdown",
   "metadata": {
    "toc": true,
    "pycharm": {
     "name": "#%% md\n"
    }
   },
   "source": [
    "<h1>Содержание<span class=\"tocSkip\"></span></h1>\n",
    "<div class=\"toc\"><ul class=\"toc-item\"><li><span><a href=\"#Загрузка-данных\" data-toc-modified-id=\"Загрузка-данных-1\"><span class=\"toc-item-num\">1&nbsp;&nbsp;</span>Загрузка данных</a></span><ul class=\"toc-item\"><li><span><a href=\"#Описание-данных\" data-toc-modified-id=\"Описание-данных-1.1\"><span class=\"toc-item-num\">1.1&nbsp;&nbsp;</span>Описание данных</a></span></li><li><span><a href=\"#Изучение-данных\" data-toc-modified-id=\"Изучение-данных-1.2\"><span class=\"toc-item-num\">1.2&nbsp;&nbsp;</span>Изучение данных</a></span><ul class=\"toc-item\"><li><span><a href=\"#Общая-информация\" data-toc-modified-id=\"Общая-информация-1.2.1\"><span class=\"toc-item-num\">1.2.1&nbsp;&nbsp;</span>Общая информация</a></span></li><li><span><a href=\"#Описательные-статистики\" data-toc-modified-id=\"Описательные-статистики-1.2.2\"><span class=\"toc-item-num\">1.2.2&nbsp;&nbsp;</span>Описательные статистики</a></span></li><li><span><a href=\"#Зависимости-признаков-и-целевой-метки\" data-toc-modified-id=\"Зависимости-признаков-и-целевой-метки-1.2.3\"><span class=\"toc-item-num\">1.2.3&nbsp;&nbsp;</span>Зависимости признаков и целевой метки</a></span></li><li><span><a href=\"#Распределения-признаков-и-целевой-метки\" data-toc-modified-id=\"Распределения-признаков-и-целевой-метки-1.2.4\"><span class=\"toc-item-num\">1.2.4&nbsp;&nbsp;</span>Распределения признаков и целевой метки</a></span></li></ul></li><li><span><a href=\"#Выделение-признаков-и-целевой-метки\" data-toc-modified-id=\"Выделение-признаков-и-целевой-метки-1.3\"><span class=\"toc-item-num\">1.3&nbsp;&nbsp;</span>Выделение признаков и целевой метки</a></span></li><li><span><a href=\"#Масштабирование-данных\" data-toc-modified-id=\"Масштабирование-данных-1.4\"><span class=\"toc-item-num\">1.4&nbsp;&nbsp;</span>Масштабирование данных</a></span></li><li><span><a href=\"#Вывод\" data-toc-modified-id=\"Вывод-1.5\"><span class=\"toc-item-num\">1.5&nbsp;&nbsp;</span>Вывод</a></span></li></ul></li><li><span><a href=\"#Умножение-матриц\" data-toc-modified-id=\"Умножение-матриц-2\"><span class=\"toc-item-num\">2&nbsp;&nbsp;</span>Умножение матриц</a></span><ul class=\"toc-item\"><li><span><a href=\"#Первичное-моделирование-линейной-регрессии\" data-toc-modified-id=\"Первичное-моделирование-линейной-регрессии-2.1\"><span class=\"toc-item-num\">2.1&nbsp;&nbsp;</span>Первичное моделирование линейной регрессии</a></span></li><li><span><a href=\"#Преобразование-данных-умножением-на-обратимую-матрицу\" data-toc-modified-id=\"Преобразование-данных-умножением-на-обратимую-матрицу-2.2\"><span class=\"toc-item-num\">2.2&nbsp;&nbsp;</span>Преобразование данных умножением на обратимую матрицу</a></span><ul class=\"toc-item\"><li><span><a href=\"#Сгенерируем-случайным-образом-квадратную-матрицу-4х4\" data-toc-modified-id=\"Сгенерируем-случайным-образом-квадратную-матрицу-4х4-2.2.1\"><span class=\"toc-item-num\">2.2.1&nbsp;&nbsp;</span>Сгенерируем случайным образом квадратную матрицу 4х4</a></span></li><li><span><a href=\"#Найдем-обратную-матрицу\" data-toc-modified-id=\"Найдем-обратную-матрицу-2.2.2\"><span class=\"toc-item-num\">2.2.2&nbsp;&nbsp;</span>Найдем обратную матрицу</a></span></li><li><span><a href=\"#Проверим-матрицы-на-обратимость.-Результат-перемножения---единичная-матрица\" data-toc-modified-id=\"Проверим-матрицы-на-обратимость.-Результат-перемножения---единичная-матрица-2.2.3\"><span class=\"toc-item-num\">2.2.3&nbsp;&nbsp;</span>Проверим матрицы на обратимость. Результат перемножения - единичная матрица</a></span></li><li><span><a href=\"#Преобразуем-наши-признаки-умножением-на-обратимую-матрицу\" data-toc-modified-id=\"Преобразуем-наши-признаки-умножением-на-обратимую-матрицу-2.2.4\"><span class=\"toc-item-num\">2.2.4&nbsp;&nbsp;</span>Преобразуем наши признаки умножением на обратимую матрицу</a></span></li></ul></li><li><span><a href=\"#Моделирование-линейной-регрессии-после-преобразования-данных\" data-toc-modified-id=\"Моделирование-линейной-регрессии-после-преобразования-данных-2.3\"><span class=\"toc-item-num\">2.3&nbsp;&nbsp;</span>Моделирование линейной регрессии после преобразования данных</a></span></li><li><span><a href=\"#Сравнение-оценок\" data-toc-modified-id=\"Сравнение-оценок-2.4\"><span class=\"toc-item-num\">2.4&nbsp;&nbsp;</span>Сравнение оценок</a></span></li><li><span><a href=\"#Обоснование-в-расчетах\" data-toc-modified-id=\"Обоснование-в-расчетах-2.5\"><span class=\"toc-item-num\">2.5&nbsp;&nbsp;</span>Обоснование в расчетах</a></span></li><li><span><a href=\"#Вывод\" data-toc-modified-id=\"Вывод-2.6\"><span class=\"toc-item-num\">2.6&nbsp;&nbsp;</span>Вывод</a></span></li></ul></li><li><span><a href=\"#Алгоритм-преобразования\" data-toc-modified-id=\"Алгоритм-преобразования-3\"><span class=\"toc-item-num\">3&nbsp;&nbsp;</span>Алгоритм преобразования</a></span></li><li><span><a href=\"#Проверка-алгоритма\" data-toc-modified-id=\"Проверка-алгоритма-4\"><span class=\"toc-item-num\">4&nbsp;&nbsp;</span>Проверка алгоритма</a></span><ul class=\"toc-item\"><li><span><a href=\"#Обучение-модели-до-преобразования\" data-toc-modified-id=\"Обучение-модели-до-преобразования-4.1\"><span class=\"toc-item-num\">4.1&nbsp;&nbsp;</span>Обучение модели до преобразования</a></span></li><li><span><a href=\"#Преобразование-признаков\" data-toc-modified-id=\"Преобразование-признаков-4.2\"><span class=\"toc-item-num\">4.2&nbsp;&nbsp;</span>Преобразование признаков</a></span></li><li><span><a href=\"#Обучение-модели-после-преобразования-признаков\" data-toc-modified-id=\"Обучение-модели-после-преобразования-признаков-4.3\"><span class=\"toc-item-num\">4.3&nbsp;&nbsp;</span>Обучение модели после преобразования признаков</a></span></li><li><span><a href=\"#Сравнение-оценок-предсказания\" data-toc-modified-id=\"Сравнение-оценок-предсказания-4.4\"><span class=\"toc-item-num\">4.4&nbsp;&nbsp;</span>Сравнение оценок предсказания</a></span></li></ul></li><li><span><a href=\"#Общий-вывод\" data-toc-modified-id=\"Общий-вывод-5\"><span class=\"toc-item-num\">5&nbsp;&nbsp;</span>Общий вывод</a></span></li></ul></div>"
   ]
  },
  {
   "cell_type": "markdown",
   "metadata": {
    "pycharm": {
     "name": "#%% md\n"
    }
   },
   "source": [
    "# Защита персональных данных клиентов"
   ]
  },
  {
   "cell_type": "markdown",
   "metadata": {
    "pycharm": {
     "name": "#%% md\n"
    }
   },
   "source": [
    "Вам нужно защитить данные клиентов страховой компании «Хоть потоп». Разработайте такой метод преобразования данных, чтобы по ним было сложно восстановить персональную информацию. Обоснуйте корректность его работы.\n",
    "\n",
    "Нужно защитить данные, чтобы при преобразовании качество моделей машинного обучения не ухудшилось. Подбирать наилучшую модель не требуется."
   ]
  },
  {
   "cell_type": "code",
   "execution_count": 28,
   "metadata": {
    "pycharm": {
     "name": "#%%\n"
    }
   },
   "outputs": [],
   "source": [
    "# data preprocessing\n",
    "import numpy as np\n",
    "import pandas as pd\n",
    "from sklearn.preprocessing import StandardScaler\n",
    "from sklearn.model_selection import train_test_split\n",
    "from sklearn.metrics import r2_score\n",
    "\n",
    "# data visualization\n",
    "from matplotlib import pyplot as plt\n",
    "import seaborn as sns\n",
    "%matplotlib inline\n",
    "\n",
    "# Algorithms\n",
    "from sklearn.linear_model import LinearRegression"
   ]
  },
  {
   "cell_type": "markdown",
   "metadata": {
    "pycharm": {
     "name": "#%% md\n"
    }
   },
   "source": [
    "## Загрузка данных\n",
    "### Описание данных\n",
    "- **Признаки**: пол, возраст и зарплата застрахованного, количество членов его семьи.\n",
    "- **Целевой признак**: количество страховых выплат клиенту за последние 5 лет."
   ]
  },
  {
   "cell_type": "code",
   "execution_count": 29,
   "metadata": {
    "pycharm": {
     "name": "#%%\n"
    }
   },
   "outputs": [
    {
     "data": {
      "text/html": [
       "<div>\n",
       "<style scoped>\n",
       "    .dataframe tbody tr th:only-of-type {\n",
       "        vertical-align: middle;\n",
       "    }\n",
       "\n",
       "    .dataframe tbody tr th {\n",
       "        vertical-align: top;\n",
       "    }\n",
       "\n",
       "    .dataframe thead th {\n",
       "        text-align: right;\n",
       "    }\n",
       "</style>\n",
       "<table border=\"1\" class=\"dataframe\">\n",
       "  <thead>\n",
       "    <tr style=\"text-align: right;\">\n",
       "      <th></th>\n",
       "      <th>Пол</th>\n",
       "      <th>Возраст</th>\n",
       "      <th>Зарплата</th>\n",
       "      <th>Члены семьи</th>\n",
       "      <th>Страховые выплаты</th>\n",
       "    </tr>\n",
       "  </thead>\n",
       "  <tbody>\n",
       "    <tr>\n",
       "      <th>0</th>\n",
       "      <td>1</td>\n",
       "      <td>41.0</td>\n",
       "      <td>49600.0</td>\n",
       "      <td>1</td>\n",
       "      <td>0</td>\n",
       "    </tr>\n",
       "    <tr>\n",
       "      <th>1</th>\n",
       "      <td>0</td>\n",
       "      <td>46.0</td>\n",
       "      <td>38000.0</td>\n",
       "      <td>1</td>\n",
       "      <td>1</td>\n",
       "    </tr>\n",
       "    <tr>\n",
       "      <th>2</th>\n",
       "      <td>0</td>\n",
       "      <td>29.0</td>\n",
       "      <td>21000.0</td>\n",
       "      <td>0</td>\n",
       "      <td>0</td>\n",
       "    </tr>\n",
       "    <tr>\n",
       "      <th>3</th>\n",
       "      <td>0</td>\n",
       "      <td>21.0</td>\n",
       "      <td>41700.0</td>\n",
       "      <td>2</td>\n",
       "      <td>0</td>\n",
       "    </tr>\n",
       "    <tr>\n",
       "      <th>4</th>\n",
       "      <td>1</td>\n",
       "      <td>28.0</td>\n",
       "      <td>26100.0</td>\n",
       "      <td>0</td>\n",
       "      <td>0</td>\n",
       "    </tr>\n",
       "    <tr>\n",
       "      <th>...</th>\n",
       "      <td>...</td>\n",
       "      <td>...</td>\n",
       "      <td>...</td>\n",
       "      <td>...</td>\n",
       "      <td>...</td>\n",
       "    </tr>\n",
       "    <tr>\n",
       "      <th>4995</th>\n",
       "      <td>0</td>\n",
       "      <td>28.0</td>\n",
       "      <td>35700.0</td>\n",
       "      <td>2</td>\n",
       "      <td>0</td>\n",
       "    </tr>\n",
       "    <tr>\n",
       "      <th>4996</th>\n",
       "      <td>0</td>\n",
       "      <td>34.0</td>\n",
       "      <td>52400.0</td>\n",
       "      <td>1</td>\n",
       "      <td>0</td>\n",
       "    </tr>\n",
       "    <tr>\n",
       "      <th>4997</th>\n",
       "      <td>0</td>\n",
       "      <td>20.0</td>\n",
       "      <td>33900.0</td>\n",
       "      <td>2</td>\n",
       "      <td>0</td>\n",
       "    </tr>\n",
       "    <tr>\n",
       "      <th>4998</th>\n",
       "      <td>1</td>\n",
       "      <td>22.0</td>\n",
       "      <td>32700.0</td>\n",
       "      <td>3</td>\n",
       "      <td>0</td>\n",
       "    </tr>\n",
       "    <tr>\n",
       "      <th>4999</th>\n",
       "      <td>1</td>\n",
       "      <td>28.0</td>\n",
       "      <td>40600.0</td>\n",
       "      <td>1</td>\n",
       "      <td>0</td>\n",
       "    </tr>\n",
       "  </tbody>\n",
       "</table>\n",
       "<p>5000 rows × 5 columns</p>\n",
       "</div>"
      ],
      "text/plain": [
       "      Пол  Возраст  Зарплата  Члены семьи  Страховые выплаты\n",
       "0       1     41.0   49600.0            1                  0\n",
       "1       0     46.0   38000.0            1                  1\n",
       "2       0     29.0   21000.0            0                  0\n",
       "3       0     21.0   41700.0            2                  0\n",
       "4       1     28.0   26100.0            0                  0\n",
       "...   ...      ...       ...          ...                ...\n",
       "4995    0     28.0   35700.0            2                  0\n",
       "4996    0     34.0   52400.0            1                  0\n",
       "4997    0     20.0   33900.0            2                  0\n",
       "4998    1     22.0   32700.0            3                  0\n",
       "4999    1     28.0   40600.0            1                  0\n",
       "\n",
       "[5000 rows x 5 columns]"
      ]
     },
     "metadata": {},
     "output_type": "display_data"
    },
    {
     "data": {
      "text/html": [
       "<div>\n",
       "<style scoped>\n",
       "    .dataframe tbody tr th:only-of-type {\n",
       "        vertical-align: middle;\n",
       "    }\n",
       "\n",
       "    .dataframe tbody tr th {\n",
       "        vertical-align: top;\n",
       "    }\n",
       "\n",
       "    .dataframe thead th {\n",
       "        text-align: right;\n",
       "    }\n",
       "</style>\n",
       "<table border=\"1\" class=\"dataframe\">\n",
       "  <thead>\n",
       "    <tr style=\"text-align: right;\">\n",
       "      <th></th>\n",
       "      <th>Пол</th>\n",
       "      <th>Возраст</th>\n",
       "      <th>Зарплата</th>\n",
       "      <th>Члены семьи</th>\n",
       "      <th>Страховые выплаты</th>\n",
       "    </tr>\n",
       "  </thead>\n",
       "  <tbody>\n",
       "    <tr>\n",
       "      <th>0</th>\n",
       "      <td>1</td>\n",
       "      <td>41.0</td>\n",
       "      <td>49600.0</td>\n",
       "      <td>1</td>\n",
       "      <td>0</td>\n",
       "    </tr>\n",
       "    <tr>\n",
       "      <th>1</th>\n",
       "      <td>0</td>\n",
       "      <td>46.0</td>\n",
       "      <td>38000.0</td>\n",
       "      <td>1</td>\n",
       "      <td>1</td>\n",
       "    </tr>\n",
       "    <tr>\n",
       "      <th>2</th>\n",
       "      <td>0</td>\n",
       "      <td>29.0</td>\n",
       "      <td>21000.0</td>\n",
       "      <td>0</td>\n",
       "      <td>0</td>\n",
       "    </tr>\n",
       "    <tr>\n",
       "      <th>3</th>\n",
       "      <td>0</td>\n",
       "      <td>21.0</td>\n",
       "      <td>41700.0</td>\n",
       "      <td>2</td>\n",
       "      <td>0</td>\n",
       "    </tr>\n",
       "    <tr>\n",
       "      <th>4</th>\n",
       "      <td>1</td>\n",
       "      <td>28.0</td>\n",
       "      <td>26100.0</td>\n",
       "      <td>0</td>\n",
       "      <td>0</td>\n",
       "    </tr>\n",
       "    <tr>\n",
       "      <th>...</th>\n",
       "      <td>...</td>\n",
       "      <td>...</td>\n",
       "      <td>...</td>\n",
       "      <td>...</td>\n",
       "      <td>...</td>\n",
       "    </tr>\n",
       "    <tr>\n",
       "      <th>4995</th>\n",
       "      <td>0</td>\n",
       "      <td>28.0</td>\n",
       "      <td>35700.0</td>\n",
       "      <td>2</td>\n",
       "      <td>0</td>\n",
       "    </tr>\n",
       "    <tr>\n",
       "      <th>4996</th>\n",
       "      <td>0</td>\n",
       "      <td>34.0</td>\n",
       "      <td>52400.0</td>\n",
       "      <td>1</td>\n",
       "      <td>0</td>\n",
       "    </tr>\n",
       "    <tr>\n",
       "      <th>4997</th>\n",
       "      <td>0</td>\n",
       "      <td>20.0</td>\n",
       "      <td>33900.0</td>\n",
       "      <td>2</td>\n",
       "      <td>0</td>\n",
       "    </tr>\n",
       "    <tr>\n",
       "      <th>4998</th>\n",
       "      <td>1</td>\n",
       "      <td>22.0</td>\n",
       "      <td>32700.0</td>\n",
       "      <td>3</td>\n",
       "      <td>0</td>\n",
       "    </tr>\n",
       "    <tr>\n",
       "      <th>4999</th>\n",
       "      <td>1</td>\n",
       "      <td>28.0</td>\n",
       "      <td>40600.0</td>\n",
       "      <td>1</td>\n",
       "      <td>0</td>\n",
       "    </tr>\n",
       "  </tbody>\n",
       "</table>\n",
       "<p>5000 rows × 5 columns</p>\n",
       "</div>"
      ],
      "text/plain": [
       "      Пол  Возраст  Зарплата  Члены семьи  Страховые выплаты\n",
       "0       1     41.0   49600.0            1                  0\n",
       "1       0     46.0   38000.0            1                  1\n",
       "2       0     29.0   21000.0            0                  0\n",
       "3       0     21.0   41700.0            2                  0\n",
       "4       1     28.0   26100.0            0                  0\n",
       "...   ...      ...       ...          ...                ...\n",
       "4995    0     28.0   35700.0            2                  0\n",
       "4996    0     34.0   52400.0            1                  0\n",
       "4997    0     20.0   33900.0            2                  0\n",
       "4998    1     22.0   32700.0            3                  0\n",
       "4999    1     28.0   40600.0            1                  0\n",
       "\n",
       "[5000 rows x 5 columns]"
      ]
     },
     "metadata": {},
     "output_type": "display_data"
    }
   ],
   "source": [
    "data = pd.read_csv('./datasets/insurance.csv')\n",
    "display(data)"
   ]
  },
  {
   "cell_type": "markdown",
   "metadata": {
    "pycharm": {
     "name": "#%% md\n"
    }
   },
   "source": [
    "### Изучение данных\n",
    "#### Общая информация"
   ]
  },
  {
   "cell_type": "code",
   "execution_count": 30,
   "metadata": {
    "pycharm": {
     "name": "#%%\n"
    }
   },
   "outputs": [
    {
     "name": "stdout",
     "output_type": "stream",
     "text": [
      "<class 'pandas.core.frame.DataFrame'>\n",
      "RangeIndex: 5000 entries, 0 to 4999\n",
      "Data columns (total 5 columns):\n",
      " #   Column             Non-Null Count  Dtype  \n",
      "---  ------             --------------  -----  \n",
      " 0   Пол                5000 non-null   int64  \n",
      " 1   Возраст            5000 non-null   float64\n",
      " 2   Зарплата           5000 non-null   float64\n",
      " 3   Члены семьи        5000 non-null   int64  \n",
      " 4   Страховые выплаты  5000 non-null   int64  \n",
      "dtypes: float64(2), int64(3)\n",
      "memory usage: 195.4 KB\n",
      "<class 'pandas.core.frame.DataFrame'>\n",
      "RangeIndex: 5000 entries, 0 to 4999\n",
      "Data columns (total 5 columns):\n",
      " #   Column             Non-Null Count  Dtype  \n",
      "---  ------             --------------  -----  \n",
      " 0   Пол                5000 non-null   int64  \n",
      " 1   Возраст            5000 non-null   float64\n",
      " 2   Зарплата           5000 non-null   float64\n",
      " 3   Члены семьи        5000 non-null   int64  \n",
      " 4   Страховые выплаты  5000 non-null   int64  \n",
      "dtypes: float64(2), int64(3)\n",
      "memory usage: 195.4 KB\n"
     ]
    }
   ],
   "source": [
    "data.info()"
   ]
  },
  {
   "cell_type": "markdown",
   "metadata": {
    "pycharm": {
     "name": "#%% md\n"
    }
   },
   "source": [
    "#### Описательные статистики"
   ]
  },
  {
   "cell_type": "code",
   "execution_count": 31,
   "metadata": {
    "pycharm": {
     "name": "#%%\n"
    }
   },
   "outputs": [
    {
     "data": {
      "text/html": [
       "<div>\n",
       "<style scoped>\n",
       "    .dataframe tbody tr th:only-of-type {\n",
       "        vertical-align: middle;\n",
       "    }\n",
       "\n",
       "    .dataframe tbody tr th {\n",
       "        vertical-align: top;\n",
       "    }\n",
       "\n",
       "    .dataframe thead th {\n",
       "        text-align: right;\n",
       "    }\n",
       "</style>\n",
       "<table border=\"1\" class=\"dataframe\">\n",
       "  <thead>\n",
       "    <tr style=\"text-align: right;\">\n",
       "      <th></th>\n",
       "      <th>Пол</th>\n",
       "      <th>Возраст</th>\n",
       "      <th>Зарплата</th>\n",
       "      <th>Члены семьи</th>\n",
       "      <th>Страховые выплаты</th>\n",
       "    </tr>\n",
       "  </thead>\n",
       "  <tbody>\n",
       "    <tr>\n",
       "      <th>count</th>\n",
       "      <td>5000.000000</td>\n",
       "      <td>5000.000000</td>\n",
       "      <td>5000.000000</td>\n",
       "      <td>5000.000000</td>\n",
       "      <td>5000.000000</td>\n",
       "    </tr>\n",
       "    <tr>\n",
       "      <th>mean</th>\n",
       "      <td>0.499000</td>\n",
       "      <td>30.952800</td>\n",
       "      <td>39916.360000</td>\n",
       "      <td>1.194200</td>\n",
       "      <td>0.148000</td>\n",
       "    </tr>\n",
       "    <tr>\n",
       "      <th>std</th>\n",
       "      <td>0.500049</td>\n",
       "      <td>8.440807</td>\n",
       "      <td>9900.083569</td>\n",
       "      <td>1.091387</td>\n",
       "      <td>0.463183</td>\n",
       "    </tr>\n",
       "    <tr>\n",
       "      <th>min</th>\n",
       "      <td>0.000000</td>\n",
       "      <td>18.000000</td>\n",
       "      <td>5300.000000</td>\n",
       "      <td>0.000000</td>\n",
       "      <td>0.000000</td>\n",
       "    </tr>\n",
       "    <tr>\n",
       "      <th>25%</th>\n",
       "      <td>0.000000</td>\n",
       "      <td>24.000000</td>\n",
       "      <td>33300.000000</td>\n",
       "      <td>0.000000</td>\n",
       "      <td>0.000000</td>\n",
       "    </tr>\n",
       "    <tr>\n",
       "      <th>50%</th>\n",
       "      <td>0.000000</td>\n",
       "      <td>30.000000</td>\n",
       "      <td>40200.000000</td>\n",
       "      <td>1.000000</td>\n",
       "      <td>0.000000</td>\n",
       "    </tr>\n",
       "    <tr>\n",
       "      <th>75%</th>\n",
       "      <td>1.000000</td>\n",
       "      <td>37.000000</td>\n",
       "      <td>46600.000000</td>\n",
       "      <td>2.000000</td>\n",
       "      <td>0.000000</td>\n",
       "    </tr>\n",
       "    <tr>\n",
       "      <th>max</th>\n",
       "      <td>1.000000</td>\n",
       "      <td>65.000000</td>\n",
       "      <td>79000.000000</td>\n",
       "      <td>6.000000</td>\n",
       "      <td>5.000000</td>\n",
       "    </tr>\n",
       "  </tbody>\n",
       "</table>\n",
       "</div>"
      ],
      "text/plain": [
       "               Пол      Возраст      Зарплата  Члены семьи  Страховые выплаты\n",
       "count  5000.000000  5000.000000   5000.000000  5000.000000        5000.000000\n",
       "mean      0.499000    30.952800  39916.360000     1.194200           0.148000\n",
       "std       0.500049     8.440807   9900.083569     1.091387           0.463183\n",
       "min       0.000000    18.000000   5300.000000     0.000000           0.000000\n",
       "25%       0.000000    24.000000  33300.000000     0.000000           0.000000\n",
       "50%       0.000000    30.000000  40200.000000     1.000000           0.000000\n",
       "75%       1.000000    37.000000  46600.000000     2.000000           0.000000\n",
       "max       1.000000    65.000000  79000.000000     6.000000           5.000000"
      ]
     },
     "execution_count": 4,
     "metadata": {},
     "output_type": "execute_result"
    },
    {
     "data": {
      "text/html": [
       "<div>\n",
       "<style scoped>\n",
       "    .dataframe tbody tr th:only-of-type {\n",
       "        vertical-align: middle;\n",
       "    }\n",
       "\n",
       "    .dataframe tbody tr th {\n",
       "        vertical-align: top;\n",
       "    }\n",
       "\n",
       "    .dataframe thead th {\n",
       "        text-align: right;\n",
       "    }\n",
       "</style>\n",
       "<table border=\"1\" class=\"dataframe\">\n",
       "  <thead>\n",
       "    <tr style=\"text-align: right;\">\n",
       "      <th></th>\n",
       "      <th>Пол</th>\n",
       "      <th>Возраст</th>\n",
       "      <th>Зарплата</th>\n",
       "      <th>Члены семьи</th>\n",
       "      <th>Страховые выплаты</th>\n",
       "    </tr>\n",
       "  </thead>\n",
       "  <tbody>\n",
       "    <tr>\n",
       "      <th>count</th>\n",
       "      <td>5000.000000</td>\n",
       "      <td>5000.000000</td>\n",
       "      <td>5000.000000</td>\n",
       "      <td>5000.000000</td>\n",
       "      <td>5000.000000</td>\n",
       "    </tr>\n",
       "    <tr>\n",
       "      <th>mean</th>\n",
       "      <td>0.499000</td>\n",
       "      <td>30.952800</td>\n",
       "      <td>39916.360000</td>\n",
       "      <td>1.194200</td>\n",
       "      <td>0.148000</td>\n",
       "    </tr>\n",
       "    <tr>\n",
       "      <th>std</th>\n",
       "      <td>0.500049</td>\n",
       "      <td>8.440807</td>\n",
       "      <td>9900.083569</td>\n",
       "      <td>1.091387</td>\n",
       "      <td>0.463183</td>\n",
       "    </tr>\n",
       "    <tr>\n",
       "      <th>min</th>\n",
       "      <td>0.000000</td>\n",
       "      <td>18.000000</td>\n",
       "      <td>5300.000000</td>\n",
       "      <td>0.000000</td>\n",
       "      <td>0.000000</td>\n",
       "    </tr>\n",
       "    <tr>\n",
       "      <th>25%</th>\n",
       "      <td>0.000000</td>\n",
       "      <td>24.000000</td>\n",
       "      <td>33300.000000</td>\n",
       "      <td>0.000000</td>\n",
       "      <td>0.000000</td>\n",
       "    </tr>\n",
       "    <tr>\n",
       "      <th>50%</th>\n",
       "      <td>0.000000</td>\n",
       "      <td>30.000000</td>\n",
       "      <td>40200.000000</td>\n",
       "      <td>1.000000</td>\n",
       "      <td>0.000000</td>\n",
       "    </tr>\n",
       "    <tr>\n",
       "      <th>75%</th>\n",
       "      <td>1.000000</td>\n",
       "      <td>37.000000</td>\n",
       "      <td>46600.000000</td>\n",
       "      <td>2.000000</td>\n",
       "      <td>0.000000</td>\n",
       "    </tr>\n",
       "    <tr>\n",
       "      <th>max</th>\n",
       "      <td>1.000000</td>\n",
       "      <td>65.000000</td>\n",
       "      <td>79000.000000</td>\n",
       "      <td>6.000000</td>\n",
       "      <td>5.000000</td>\n",
       "    </tr>\n",
       "  </tbody>\n",
       "</table>\n",
       "</div>"
      ],
      "text/plain": [
       "               Пол      Возраст      Зарплата  Члены семьи  Страховые выплаты\n",
       "count  5000.000000  5000.000000   5000.000000  5000.000000        5000.000000\n",
       "mean      0.499000    30.952800  39916.360000     1.194200           0.148000\n",
       "std       0.500049     8.440807   9900.083569     1.091387           0.463183\n",
       "min       0.000000    18.000000   5300.000000     0.000000           0.000000\n",
       "25%       0.000000    24.000000  33300.000000     0.000000           0.000000\n",
       "50%       0.000000    30.000000  40200.000000     1.000000           0.000000\n",
       "75%       1.000000    37.000000  46600.000000     2.000000           0.000000\n",
       "max       1.000000    65.000000  79000.000000     6.000000           5.000000"
      ]
     },
     "execution_count": 31,
     "metadata": {},
     "output_type": "execute_result"
    }
   ],
   "source": [
    "data.describe()"
   ]
  },
  {
   "cell_type": "markdown",
   "metadata": {
    "pycharm": {
     "name": "#%% md\n"
    }
   },
   "source": [
    "#### Зависимости признаков и целевой метки"
   ]
  },
  {
   "cell_type": "code",
   "execution_count": null,
   "metadata": {
    "pycharm": {
     "name": "#%%\n",
     "is_executing": true
    }
   },
   "outputs": [],
   "source": [
    "plt.figure(figsize=(10, 6))\n",
    "plt.title('Мультиколлениарность признаков и целевой метки')\n",
    "sns.set(context='talk', style='darkgrid', palette='muted', font='sans-serif', font_scale=0.8, color_codes=False, rc=None)\n",
    "sns.heatmap(data.corr(method='spearman'), annot=True, fmt=\".4f\");"
   ]
  },
  {
   "cell_type": "markdown",
   "metadata": {
    "pycharm": {
     "name": "#%% md\n"
    }
   },
   "source": [
    "#### Распределения признаков и целевой метки"
   ]
  },
  {
   "cell_type": "code",
   "execution_count": 33,
   "metadata": {
    "pycharm": {
     "name": "#%%\n"
    }
   },
   "outputs": [
    {
     "data": {
      "image/png": "[encoded data removed]",
      "text/plain": [
       "<Figure size 720x2880 with 5 Axes>"
      ]
     },
     "metadata": {},
     "output_type": "display_data"
    },
    {
     "data": {
      "image/png": "[encoded data removed]",
      "text/plain": [
       "<Figure size 720x2880 with 5 Axes>"
      ]
     },
     "metadata": {},
     "output_type": "display_data"
    }
   ],
   "source": [
    "fig,ax = plt.subplots(5,1,figsize = (10,40))\n",
    "\n",
    "ax[0].hist(data['Пол'],bins = 10)\n",
    "ax[1].hist(data['Возраст'],bins = 15)\n",
    "ax[2].hist(data['Зарплата'],bins = 15)\n",
    "ax[3].hist(data['Члены семьи'],bins = 6)\n",
    "ax[4].hist(data['Страховые выплаты'],bins = 6)\n",
    "ax[0].set_xlabel('Пол')\n",
    "ax[1].set_xlabel('Возраст')\n",
    "ax[2].set_xlabel('Зарплата')\n",
    "ax[3].set_xlabel('Количество членов семьи')\n",
    "ax[4].set_xlabel('Количество страховых выплат')\n",
    "ax[0].set_title('Распределение признака \"Пол\"')\n",
    "ax[1].set_title('Рспределение признака \"Возраст\"')\n",
    "ax[2].set_title('Распределение признака \"Зарплата\"')\n",
    "ax[3].set_title('Распределение признака \"Члены семьи\"')\n",
    "ax[4].set_title('Распределение целевой метки \"Страховые выплаты\"')\n",
    "plt.show()"
   ]
  },
  {
   "cell_type": "code",
   "execution_count": 34,
   "metadata": {
    "pycharm": {
     "name": "#%%\n"
    }
   },
   "outputs": [
    {
     "data": {
      "text/plain": [
       "0    4436\n",
       "1     423\n",
       "2     115\n",
       "3      18\n",
       "4       7\n",
       "5       1\n",
       "Name: Страховые выплаты, dtype: int64"
      ]
     },
     "execution_count": 7,
     "metadata": {},
     "output_type": "execute_result"
    },
    {
     "data": {
      "text/plain": [
       "0    4436\n",
       "1     423\n",
       "2     115\n",
       "3      18\n",
       "4       7\n",
       "5       1\n",
       "Name: Страховые выплаты, dtype: int64"
      ]
     },
     "execution_count": 34,
     "metadata": {},
     "output_type": "execute_result"
    }
   ],
   "source": [
    "data['Страховые выплаты'].value_counts()"
   ]
  },
  {
   "cell_type": "markdown",
   "metadata": {
    "pycharm": {
     "name": "#%% md\n"
    }
   },
   "source": [
    "### Выделение признаков и целевой метки"
   ]
  },
  {
   "cell_type": "code",
   "execution_count": 35,
   "metadata": {
    "pycharm": {
     "name": "#%%\n"
    }
   },
   "outputs": [],
   "source": [
    "features = data.drop('Страховые выплаты', axis=1)\n",
    "target = data['Страховые выплаты']"
   ]
  },
  {
   "cell_type": "markdown",
   "metadata": {
    "pycharm": {
     "name": "#%% md\n"
    }
   },
   "source": [
    "### Масштабирование данных"
   ]
  },
  {
   "cell_type": "code",
   "execution_count": 36,
   "metadata": {
    "pycharm": {
     "name": "#%%\n"
    }
   },
   "outputs": [
    {
     "name": "stdout",
     "output_type": "stream",
     "text": [
      "Размер обучающей выборки (3750, 4)\n",
      "Размер тестовой выборки (1250, 4)\n",
      "Размер обучающей выборки (3750, 4)\n",
      "Размер тестовой выборки (1250, 4)\n"
     ]
    }
   ],
   "source": [
    "X_train, X_test, y_train, y_test = train_test_split(features, target, test_size=0.25, random_state=12345)\n",
    "print('Размер обучающей выборки', X_train.shape)\n",
    "print('Размер тестовой выборки', X_test.shape)"
   ]
  },
  {
   "cell_type": "code",
   "execution_count": 37,
   "metadata": {
    "pycharm": {
     "name": "#%%\n"
    }
   },
   "outputs": [
    {
     "data": {
      "text/plain": [
       "array([[ 0.97941189,  1.41413254, -0.37826615, -0.16408134],\n",
       "       [ 0.97941189,  0.34955873,  1.78951395, -1.0783533 ],\n",
       "       [-1.02102089,  0.11298677,  0.11809472, -0.16408134],\n",
       "       ...,\n",
       "       [ 0.97941189,  1.17756058,  0.482768  , -0.16408134],\n",
       "       [-1.02102089, -1.06987302,  1.02977793,  2.57873455],\n",
       "       [-1.02102089, -1.42473096,  0.08770528, -1.0783533 ]])"
      ]
     },
     "metadata": {},
     "output_type": "display_data"
    },
    {
     "data": {
      "text/plain": [
       "array([[-1.02102089,  0.23127275, -0.09463137,  2.57873455],\n",
       "       [-1.02102089,  2.24213439,  0.32069099,  0.75019062],\n",
       "       [ 0.97941189,  0.94098862,  0.21939285, -1.0783533 ],\n",
       "       ...,\n",
       "       [ 0.97941189,  0.4678447 ,  0.23965248, -1.0783533 ],\n",
       "       [ 0.97941189,  0.58613068,  0.13835434, -1.0783533 ],\n",
       "       [-1.02102089,  2.12384841, -0.89488664, -0.16408134]])"
      ]
     },
     "metadata": {},
     "output_type": "display_data"
    },
    {
     "data": {
      "text/plain": [
       "array([[ 0.97941189,  1.41413254, -0.37826615, -0.16408134],\n",
       "       [ 0.97941189,  0.34955873,  1.78951395, -1.0783533 ],\n",
       "       [-1.02102089,  0.11298677,  0.11809472, -0.16408134],\n",
       "       ...,\n",
       "       [ 0.97941189,  1.17756058,  0.482768  , -0.16408134],\n",
       "       [-1.02102089, -1.06987302,  1.02977793,  2.57873455],\n",
       "       [-1.02102089, -1.42473096,  0.08770528, -1.0783533 ]])"
      ]
     },
     "metadata": {},
     "output_type": "display_data"
    },
    {
     "data": {
      "text/plain": [
       "array([[-1.02102089,  0.23127275, -0.09463137,  2.57873455],\n",
       "       [-1.02102089,  2.24213439,  0.32069099,  0.75019062],\n",
       "       [ 0.97941189,  0.94098862,  0.21939285, -1.0783533 ],\n",
       "       ...,\n",
       "       [ 0.97941189,  0.4678447 ,  0.23965248, -1.0783533 ],\n",
       "       [ 0.97941189,  0.58613068,  0.13835434, -1.0783533 ],\n",
       "       [-1.02102089,  2.12384841, -0.89488664, -0.16408134]])"
      ]
     },
     "metadata": {},
     "output_type": "display_data"
    }
   ],
   "source": [
    "sc = StandardScaler()\n",
    "X_train_std = sc.fit_transform(X_train)\n",
    "X_test_std = sc.transform(X_test)\n",
    "display(X_train_std, X_test_std)"
   ]
  },
  {
   "cell_type": "markdown",
   "metadata": {
    "pycharm": {
     "name": "#%% md\n"
    }
   },
   "source": [
    "### Вывод\n",
    "В ходе этапа загрузки и изучения данных мы выполнили следующие действия:\n",
    "   - убедились в отсутствии аномалий в данных (пропусков и т.д.);\n",
    "   - выявили линейную зависимость между признаком \"Возраст\" и целевым признаком;\n",
    "   - выявили распределение признаков: признак \"Зарплата\" нормально распределен, признаки \"Возраст\", \"Члены семьи\" имеют левое искажение в распределении; целевой признак имеет левое искажение в распределении, повторяя распределение признаков с наибольшей линейной зависимостью: \"Возраст\" (корреляция 0.55), \"Члены семьи\" (корреляция -0.03)\n",
    "   - выполнили выделение признаков и целевых меток;\n",
    "   - выполнили разделение на тренировочную и тестовые выборки;\n",
    "   - выполнили стандартизацию данных."
   ]
  },
  {
   "cell_type": "markdown",
   "metadata": {
    "pycharm": {
     "name": "#%% md\n"
    }
   },
   "source": [
    "## Умножение матриц\n",
    "### Первичное моделирование линейной регрессии"
   ]
  },
  {
   "cell_type": "code",
   "execution_count": 38,
   "metadata": {
    "pycharm": {
     "name": "#%%\n"
    }
   },
   "outputs": [],
   "source": [
    "first_model = LinearRegression()\n",
    "first_model.fit(X_train_std, y_train)\n",
    "first_predictions = first_model.predict(X_test_std)\n",
    "first_r2 = r2_score(y_test, first_predictions)"
   ]
  },
  {
   "cell_type": "markdown",
   "metadata": {
    "pycharm": {
     "name": "#%% md\n"
    }
   },
   "source": [
    "### Преобразование данных умножением на обратимую матрицу\n",
    "#### Сгенерируем случайным образом квадратную матрицу 4х4"
   ]
  },
  {
   "cell_type": "code",
   "execution_count": 39,
   "metadata": {
    "pycharm": {
     "name": "#%%\n"
    },
    "scrolled": true
   },
   "outputs": [
    {
     "data": {
      "text/plain": [
       "array([[0.3833927 , 0.10106872, 0.97613124, 0.86447795],\n",
       "       [0.30101973, 0.14234424, 0.63298284, 0.22860092],\n",
       "       [0.38580778, 0.98938266, 0.73371339, 0.10285628],\n",
       "       [0.28584229, 0.86154246, 0.89254504, 0.77609608]])"
      ]
     },
     "metadata": {},
     "output_type": "display_data"
    },
    {
     "data": {
      "text/plain": [
       "array([[0.43650744, 0.40962022, 0.08197186, 0.27479945],\n",
       "       [0.07297777, 0.56418851, 0.25777163, 0.59121807],\n",
       "       [0.05644534, 0.72976166, 0.47612745, 0.61205264],\n",
       "       [0.86234703, 0.96256867, 0.52887372, 0.89089492]])"
      ]
     },
     "metadata": {},
     "output_type": "display_data"
    }
   ],
   "source": [
    "matrix = np.random.random((4, 4))\n",
    "display(matrix)"
   ]
  },
  {
   "cell_type": "markdown",
   "metadata": {
    "pycharm": {
     "name": "#%% md\n"
    }
   },
   "source": [
    "#### Найдем обратную матрицу"
   ]
  },
  {
   "cell_type": "code",
   "execution_count": 40,
   "metadata": {
    "pycharm": {
     "name": "#%%\n"
    },
    "scrolled": true
   },
   "outputs": [
    {
     "data": {
      "text/plain": [
       "array([[ 15.31890884, -20.00749164,  12.48085056, -12.8242647 ],\n",
       "       [  0.18259983,  -1.80656691,   1.09172581,   0.18404742],\n",
       "       [ -8.92009803,  13.88021371,  -6.98360829,   6.7730097 ],\n",
       "       [  4.41373146,  -6.58848124,   2.22274263,  -1.9817954 ]])"
      ]
     },
     "metadata": {},
     "output_type": "display_data"
    },
    {
     "data": {
      "text/plain": [
       "array([[-0.11511298, -1.03504062, -0.93813894,  1.36689309],\n",
       "       [ 6.02058072, -1.37500727,  3.19616251, -3.14037352],\n",
       "       [-4.20192116, -4.08409926,  2.46772319,  2.31104965],\n",
       "       [-3.89907863,  4.91200005, -4.01016823,  1.8204566 ]])"
      ]
     },
     "metadata": {},
     "output_type": "display_data"
    }
   ],
   "source": [
    "inverse_matrix = np.linalg.inv(matrix)\n",
    "display(inverse_matrix)"
   ]
  },
  {
   "cell_type": "markdown",
   "metadata": {
    "pycharm": {
     "name": "#%% md\n"
    }
   },
   "source": [
    "#### Проверим матрицы на обратимость. Результат перемножения - единичная матрица"
   ]
  },
  {
   "cell_type": "code",
   "execution_count": 41,
   "metadata": {
    "pycharm": {
     "name": "#%%\n"
    },
    "scrolled": true
   },
   "outputs": [
    {
     "name": "stdout",
     "output_type": "stream",
     "text": [
      "[[ 1.00000000e+00  0.00000000e+00 -6.66133815e-16  0.00000000e+00]\n",
      " [-1.77635684e-15  1.00000000e+00 -7.77156117e-16  9.43689571e-16]\n",
      " [ 1.66533454e-16 -1.11022302e-16  1.00000000e+00  0.00000000e+00]\n",
      " [ 1.33226763e-15  0.00000000e+00 -2.22044605e-16  1.00000000e+00]]\n",
      "[[ 1.00000000e+00  2.22044605e-16  2.22044605e-16 -1.11022302e-16]\n",
      " [ 4.44089210e-16  1.00000000e+00  0.00000000e+00  0.00000000e+00]\n",
      " [-4.44089210e-16  0.00000000e+00  1.00000000e+00  2.22044605e-16]\n",
      " [ 0.00000000e+00  0.00000000e+00  0.00000000e+00  1.00000000e+00]]\n"
     ]
    }
   ],
   "source": [
    "print(matrix @ inverse_matrix)"
   ]
  },
  {
   "cell_type": "markdown",
   "metadata": {
    "pycharm": {
     "name": "#%% md\n"
    }
   },
   "source": [
    "#### Преобразуем наши признаки умножением на обратимую матрицу"
   ]
  },
  {
   "cell_type": "code",
   "execution_count": 42,
   "metadata": {
    "pycharm": {
     "name": "#%%\n"
    }
   },
   "outputs": [],
   "source": [
    "X_train_std_trans = X_train_std @ matrix\n",
    "X_test_std_trans = X_test_std @ matrix"
   ]
  },
  {
   "cell_type": "markdown",
   "metadata": {
    "pycharm": {
     "name": "#%% md\n"
    }
   },
   "source": [
    "### Моделирование линейной регрессии после преобразования данных"
   ]
  },
  {
   "cell_type": "code",
   "execution_count": 43,
   "metadata": {
    "pycharm": {
     "name": "#%%\n"
    }
   },
   "outputs": [],
   "source": [
    "second_model = LinearRegression()\n",
    "second_model.fit(X_train_std_trans, y_train)\n",
    "second_predictions = second_model.predict(X_test_std_trans)\n",
    "second_r2 = r2_score(y_test, second_predictions)"
   ]
  },
  {
   "cell_type": "markdown",
   "metadata": {
    "pycharm": {
     "name": "#%% md\n"
    }
   },
   "source": [
    "### Сравнение оценок"
   ]
  },
  {
   "cell_type": "code",
   "execution_count": null,
   "metadata": {
    "pycharm": {
     "name": "#%%\n",
     "is_executing": true
    }
   },
   "outputs": [],
   "source": [
    "results = pd.DataFrame({\n",
    "    'Обучение модели': ['До преобразования признаков', 'После преобразования признаков'],\n",
    "    'Коэффициент детерминации [R2]': [first_r2, second_r2]})\n",
    "\n",
    "display(results)"
   ]
  },
  {
   "cell_type": "markdown",
   "metadata": {
    "pycharm": {
     "name": "#%% md\n"
    }
   },
   "source": [
    "**Ответ:**\n",
    "Как видим, преобразование признаков умножением на обратимую матрицу не оказывает влияние на качество предсказания модели.\n",
    "\n",
    "**Обоснование:**\n",
    "1. *до преобразования*\n",
    "    $$a = Xw$$\n",
    "    $$w = (X^T X)^{-1} X^T y$$\n",
    "\n",
    "   где:\n",
    "   - X - матрица признаков;\n",
    "   - y - вектор целевого признака.\n",
    "\n",
    "2. *после преобразования признаков*\n",
    "    $$a_t = X_tw_t$$\n",
    "    $$w_t = (X_t^T X_t)^{-1} X_t^T y$$\n",
    "\n",
    "   где:\n",
    "    $$X_t = X*M_o$$\n",
    "\n",
    "\n",
    "- матрица преобразованных признаков умножением матрицы признаков `X` на обратимую матрицу `М_o`;\n",
    "- y - вектор целевого признака.\n",
    "\n",
    "3. *предсказание после преобразования можно записать следующим образом*\n",
    "    $$a_t = X_t(X_t^T X_t)^{-1} X_t^T y$$\n",
    "\n",
    "4. *выполним следующее преобразование*\n",
    "    $$a_t = X*M_o((X*M_o)^T (X*M_o))^{-1} (X*M_o)^T y$$\n",
    "\n",
    "5. *используем свойство транспонированной матрицы*\n",
    "    $$(AB)^T = B^T A^T$$\n",
    "\n",
    "6. *выполним преобразование*\n",
    "    $$a_t = X*M_o (M_o^T*X^T*X*M_o)^{-1} M_o^T*X^T y$$\n",
    "\n",
    "7. *используем свойство обратимости матриц*\n",
    "    $$(AB)^{-1} = B^{-1} A^{-1}$$\n",
    "\n",
    "8. *используем свойство перемножения матрицы на обратную получаем*\n",
    "    $$a_t = X*M_o (X^TX)^{-1} M_o^{-1}(M_o^T)^{-1} M_o^T*X^T y$$\n",
    "\n",
    "9. *используем свойство обратимых матриц*\n",
    "    $$AA^{-1}=E$$\n",
    "    $$M_oM_o^{-1}=E$$\n",
    "   $$(M_o^T)^{-1}M_o^T=E$$\n",
    "\n",
    "10. *получаем*\n",
    "     $$a_t = X*E (X^TX)^{-1} E*X^T y = X(X^TX)^{-1}X^T y = X*w = a$$\n",
    "   \n",
    "### Обоснование в расчетах"
   ]
  },
  {
   "cell_type": "code",
   "execution_count": 45,
   "metadata": {
    "pycharm": {
     "name": "#%%\n"
    }
   },
   "outputs": [],
   "source": [
    "# рассчитаем предсказания по формулам для исходных данных\n",
    "first_vector_w = np.linalg.inv(X_train_std.T @ X_train_std) @ X_train_std.T @ y_train\n",
    "first_pred = X_train_std @ first_vector_w"
   ]
  },
  {
   "cell_type": "code",
   "execution_count": 46,
   "metadata": {
    "pycharm": {
     "name": "#%%\n"
    }
   },
   "outputs": [],
   "source": [
    "# рассчитаем предсказания по формулам для преобразованных данных\n",
    "second_vector_w = np.linalg.inv(X_train_std_trans.T @ X_train_std_trans) @ X_train_std_trans.T @ y_train\n",
    "second_pred = X_train_std_trans @ second_vector_w"
   ]
  },
  {
   "cell_type": "code",
   "execution_count": null,
   "metadata": {
    "pycharm": {
     "name": "#%%\n",
     "is_executing": true
    },
    "scrolled": true
   },
   "outputs": [],
   "source": [
    "results = pd.DataFrame({\n",
    "    'Обучение модели': ['До преобразования признаков', 'После преобразования признаков'],\n",
    "    'Предсказания': [first_pred[0:2], second_pred[0:2]],\n",
    "    'Коэффициент детерминации [R2]': [first_r2, second_r2]})\n",
    "\n",
    "display(results)"
   ]
  },
  {
   "cell_type": "markdown",
   "metadata": {
    "pycharm": {
     "name": "#%% md\n"
    }
   },
   "source": [
    "### Вывод\n",
    "Как видим предсказания до преобразования признаков и после преобразования совершенно идентичны."
   ]
  },
  {
   "cell_type": "markdown",
   "metadata": {
    "pycharm": {
     "name": "#%% md\n"
    }
   },
   "source": [
    "## Алгоритм преобразования\n",
    "\n",
    "Для защиты информации на этапе поиска коэффициентов регрессии и предсказаний регрессии будем умножать матрицу признаков на обратимую матрицу , которая будет генерироваться случайным образом.\n",
    "\n",
    "Предлагаются следующие алгоритмические шаги:\n",
    "- Генерация матрицы случайным образом;\n",
    "- Проверка матрицы на обратимость через расчет определителя матрицы;\n",
    "- Получение матрицы преобразованных признаков;\n",
    "- Обучение модели на преобразованных признаках.\n",
    "\n",
    "**Обоснование алгоритма**\n",
    "Если мы посмотрим на признаки после умножения на обратимую матрицу, то не сможем вынести явных смыслов, заложенных в исходные данные. В этои и состоит защита данных. Это своего рода шифрование."
   ]
  },
  {
   "cell_type": "code",
   "execution_count": 48,
   "metadata": {
    "pycharm": {
     "name": "#%%\n"
    }
   },
   "outputs": [
    {
     "name": "stdout",
     "output_type": "stream",
     "text": [
      "[[19149.07701194 49080.17880761 36420.00489926  5112.68447379]\n",
      " [14674.82845123 37603.95056974 27911.11840905  3919.83020533]\n",
      " [ 8110.69298609 20781.16390497 15426.33760027  2166.61121104]\n",
      " ...\n",
      " [13085.47587585 33544.64224395 24887.32851926  3492.95194811]\n",
      " [12623.77781238 32358.63034805 24010.00709848  3371.62219345]\n",
      " [15672.89372092 40173.88436592 29808.35565181  4184.00618282]]\n",
      "[[ 2803.97980223 36220.68218453 23627.10116806 30383.21647713]\n",
      " [ 2149.14224071 27757.85826705 18105.22959557 23286.08716784]\n",
      " [ 1187.46849325 15341.35629746 10006.15189737 12870.25072074]\n",
      " ...\n",
      " [ 1916.68127221 24752.12913419 16146.93384829 20762.19057749]\n",
      " [ 1850.39167432 23878.91570978 15576.70729311 20030.07554246]\n",
      " [ 2295.02303211 29645.49280647 19338.60305683 24867.05690077]]\n"
     ]
    }
   ],
   "source": [
    "print(np.array(features) @ matrix)"
   ]
  },
  {
   "cell_type": "markdown",
   "metadata": {
    "pycharm": {
     "name": "#%% md\n"
    }
   },
   "source": [
    "Мы можем легко провести дешифровку данных, умножив преобразованные признаки на обратную матрицу."
   ]
  },
  {
   "cell_type": "code",
   "execution_count": 49,
   "metadata": {
    "pycharm": {
     "name": "#%%\n"
    }
   },
   "outputs": [
    {
     "name": "stdout",
     "output_type": "stream",
     "text": [
      "[[    1    40 49600     0]\n",
      " [    0    45 37999     0]\n",
      " [    0    28 21000     0]\n",
      " ...\n",
      " [    0    19 33900     2]\n",
      " [    1    21 32700     2]\n",
      " [    1    27 40600     0]]\n",
      "[[    0    41 49599     1]\n",
      " [    0    46 37999     1]\n",
      " [    0    29 21000     0]\n",
      " ...\n",
      " [    0    20 33900     2]\n",
      " [    0    22 32700     3]\n",
      " [    0    28 40599     1]]\n"
     ]
    }
   ],
   "source": [
    "print(((np.array(features) @ matrix) @ inverse_matrix).astype(int))"
   ]
  },
  {
   "cell_type": "markdown",
   "metadata": {
    "pycharm": {
     "name": "#%% md\n"
    }
   },
   "source": [
    "## Проверка алгоритма"
   ]
  },
  {
   "cell_type": "code",
   "execution_count": 50,
   "metadata": {
    "pycharm": {
     "name": "#%%\n"
    }
   },
   "outputs": [],
   "source": [
    "def func_transformation(features):\n",
    "    '''\n",
    "    Функция преобразования признаков умножением на обратимую функцию\n",
    "    На вход функция получает датафрейм признаков\n",
    "    :param features:\n",
    "    Функция возвращает преобразованные признаки в формате numpy array\n",
    "    :return: features_trans\n",
    "    '''\n",
    "    # определяем количество признаков в датафрейме\n",
    "    n = features.shape[1]\n",
    "    flag = 0\n",
    "    # организуем цикл случайной генерации квадратной матрицы размерностью nxn\n",
    "    while flag == 0:\n",
    "        matrix = np.random.random((n,n))\n",
    "        # если детерминант (определитель) случайной матрицы равен нулю, выполняем следующую генерацию\n",
    "        if np.linalg.det(matrix) == 0:\n",
    "            continue\n",
    "        # если детерминант случайной матрицы не равен нулю, следовательно она имеет обратную матрицу, а значит является обратимой\n",
    "        else:\n",
    "            # устанавливаем значение флага = 1 и выходим из цикла\n",
    "            flag = 1\n",
    "    # преобразуем признаки матричным умножением на обратимую матрицу\n",
    "    features_trans = np.array(features) @ matrix\n",
    "\n",
    "    return features_trans"
   ]
  },
  {
   "cell_type": "markdown",
   "metadata": {
    "pycharm": {
     "name": "#%% md\n"
    }
   },
   "source": [
    "### Обучение модели до преобразования"
   ]
  },
  {
   "cell_type": "code",
   "execution_count": 51,
   "metadata": {
    "pycharm": {
     "name": "#%%\n"
    }
   },
   "outputs": [],
   "source": [
    "first_model = LinearRegression()\n",
    "first_model.fit(features, target)\n",
    "first_predictions = first_model.predict(features)\n",
    "first_r2 = r2_score(target, first_predictions)"
   ]
  },
  {
   "cell_type": "markdown",
   "metadata": {
    "pycharm": {
     "name": "#%% md\n"
    }
   },
   "source": [
    "### Преобразование признаков"
   ]
  },
  {
   "cell_type": "code",
   "execution_count": 52,
   "metadata": {
    "pycharm": {
     "name": "#%%\n"
    }
   },
   "outputs": [],
   "source": [
    "features_trans = func_transformation(features)"
   ]
  },
  {
   "cell_type": "markdown",
   "metadata": {
    "pycharm": {
     "name": "#%% md\n"
    }
   },
   "source": [
    "### Обучение модели после преобразования признаков"
   ]
  },
  {
   "cell_type": "code",
   "execution_count": 53,
   "metadata": {
    "pycharm": {
     "name": "#%%\n"
    }
   },
   "outputs": [],
   "source": [
    "second_model = LinearRegression()\n",
    "second_model.fit(features_trans, target)\n",
    "second_predictions = second_model.predict(features_trans)\n",
    "second_r2 = r2_score(target, second_predictions)"
   ]
  },
  {
   "cell_type": "markdown",
   "metadata": {
    "pycharm": {
     "name": "#%% md\n"
    }
   },
   "source": [
    "### Сравнение оценок предсказания"
   ]
  },
  {
   "cell_type": "code",
   "execution_count": null,
   "metadata": {
    "pycharm": {
     "name": "#%%\n",
     "is_executing": true
    },
    "scrolled": true
   },
   "outputs": [],
   "source": [
    "results = pd.DataFrame({\n",
    "    'Обучение модели': ['До преобразования признаков', 'После преобразования признаков'],\n",
    "    'Коэффициент детерминации [R2]': [first_r2, second_r2]})\n",
    "display(results)"
   ]
  },
  {
   "cell_type": "markdown",
   "metadata": {
    "pycharm": {
     "name": "#%% md\n"
    }
   },
   "source": [
    "## Общий вывод\n",
    "В ходе нашего исследования мы выполнили следующие действия:\n",
    "   - изучили исходные данные;\n",
    "   - выяснили влияние преобразования признаков умножением на обратимую матрицу на качество предсказания на масштабированных данных. Качество модели не изменяется;\n",
    "   - разработали алгоритм преобразования признаков умножением на обратимую матрицу как инструмент шифрования данных без потери качества предсказания;\n",
    "   - реализовали предложенный алгоритм на исходных данных, без разделения и масштабирования. Результат подтвердился. Качество предсказания модели не изменяется от преобразовавния признаков."
   ]
  }
 ],
 "metadata": {
  "ExecuteTimeLog": [
   {
    "duration": 1212,
    "start_time": "2022-06-08T17:57:36.770Z"
   },
   {
    "duration": 102,
    "start_time": "2022-06-08T17:57:37.984Z"
   },
   {
    "duration": 0,
    "start_time": "2022-06-08T17:57:38.088Z"
   },
   {
    "duration": 0,
    "start_time": "2022-06-08T17:57:38.089Z"
   },
   {
    "duration": 0,
    "start_time": "2022-06-08T17:57:38.090Z"
   },
   {
    "duration": 0,
    "start_time": "2022-06-08T17:57:38.091Z"
   },
   {
    "duration": 0,
    "start_time": "2022-06-08T17:57:38.092Z"
   },
   {
    "duration": 0,
    "start_time": "2022-06-08T17:57:38.093Z"
   },
   {
    "duration": 0,
    "start_time": "2022-06-08T17:57:38.094Z"
   },
   {
    "duration": 0,
    "start_time": "2022-06-08T17:57:38.095Z"
   },
   {
    "duration": 0,
    "start_time": "2022-06-08T17:57:38.095Z"
   },
   {
    "duration": 0,
    "start_time": "2022-06-08T17:57:38.096Z"
   },
   {
    "duration": 0,
    "start_time": "2022-06-08T17:57:38.097Z"
   },
   {
    "duration": 0,
    "start_time": "2022-06-08T17:57:38.098Z"
   },
   {
    "duration": 0,
    "start_time": "2022-06-08T17:57:38.099Z"
   },
   {
    "duration": 0,
    "start_time": "2022-06-08T17:57:38.100Z"
   },
   {
    "duration": 0,
    "start_time": "2022-06-08T17:57:38.101Z"
   },
   {
    "duration": 0,
    "start_time": "2022-06-08T17:57:38.127Z"
   },
   {
    "duration": 0,
    "start_time": "2022-06-08T17:57:38.129Z"
   },
   {
    "duration": 0,
    "start_time": "2022-06-08T17:57:38.130Z"
   },
   {
    "duration": 0,
    "start_time": "2022-06-08T17:57:38.132Z"
   },
   {
    "duration": 0,
    "start_time": "2022-06-08T17:57:38.133Z"
   },
   {
    "duration": 0,
    "start_time": "2022-06-08T17:57:38.134Z"
   },
   {
    "duration": 0,
    "start_time": "2022-06-08T17:57:38.135Z"
   },
   {
    "duration": 0,
    "start_time": "2022-06-08T17:57:38.136Z"
   },
   {
    "duration": 0,
    "start_time": "2022-06-08T17:57:38.138Z"
   },
   {
    "duration": 0,
    "start_time": "2022-06-08T17:57:38.139Z"
   },
   {
    "duration": 39,
    "start_time": "2022-06-08T17:58:47.865Z"
   },
   {
    "duration": 1367,
    "start_time": "2022-06-08T17:58:53.396Z"
   },
   {
    "duration": 41,
    "start_time": "2022-06-08T17:58:54.765Z"
   },
   {
    "duration": 13,
    "start_time": "2022-06-08T17:58:54.808Z"
   },
   {
    "duration": 35,
    "start_time": "2022-06-08T17:58:54.823Z"
   },
   {
    "duration": 374,
    "start_time": "2022-06-08T17:58:54.861Z"
   },
   {
    "duration": 1029,
    "start_time": "2022-06-08T17:58:55.237Z"
   },
   {
    "duration": 7,
    "start_time": "2022-06-08T17:58:56.268Z"
   },
   {
    "duration": 12,
    "start_time": "2022-06-08T17:58:56.277Z"
   },
   {
    "duration": 11,
    "start_time": "2022-06-08T17:58:56.291Z"
   },
   {
    "duration": 27,
    "start_time": "2022-06-08T17:58:56.305Z"
   },
   {
    "duration": 14,
    "start_time": "2022-06-08T17:58:56.334Z"
   },
   {
    "duration": 18,
    "start_time": "2022-06-08T17:58:56.350Z"
   },
   {
    "duration": 9,
    "start_time": "2022-06-08T17:58:56.370Z"
   },
   {
    "duration": 149,
    "start_time": "2022-06-08T17:58:56.382Z"
   },
   {
    "duration": 21,
    "start_time": "2022-06-08T17:58:56.535Z"
   },
   {
    "duration": 13,
    "start_time": "2022-06-08T17:58:56.558Z"
   },
   {
    "duration": 11,
    "start_time": "2022-06-08T17:58:56.572Z"
   },
   {
    "duration": 10,
    "start_time": "2022-06-08T17:58:56.584Z"
   },
   {
    "duration": 139,
    "start_time": "2022-06-08T17:58:56.595Z"
   },
   {
    "duration": 193,
    "start_time": "2022-06-08T17:58:56.735Z"
   },
   {
    "duration": 4,
    "start_time": "2022-06-08T17:58:56.931Z"
   },
   {
    "duration": 6,
    "start_time": "2022-06-08T17:58:56.937Z"
   },
   {
    "duration": 5,
    "start_time": "2022-06-08T17:58:56.944Z"
   },
   {
    "duration": 13,
    "start_time": "2022-06-08T17:58:56.951Z"
   },
   {
    "duration": 162,
    "start_time": "2022-06-08T17:58:56.966Z"
   },
   {
    "duration": 11,
    "start_time": "2022-06-08T17:58:57.130Z"
   },
   {
    "duration": 96,
    "start_time": "2022-06-08T17:58:57.143Z"
   }
  ],
  "kernelspec": {
   "display_name": "Python 3",
   "language": "python",
   "name": "python3"
  },
  "language_info": {
   "codemirror_mode": {
    "name": "ipython",
    "version": 3
   },
   "file_extension": ".py",
   "mimetype": "text/x-python",
   "name": "python",
   "nbconvert_exporter": "python",
   "pygments_lexer": "ipython3",
   "version": "3.8.8"
  },
  "toc": {
   "base_numbering": 1,
   "nav_menu": {},
   "number_sections": true,
   "sideBar": true,
   "skip_h1_title": true,
   "title_cell": "Содержание",
   "title_sidebar": "Contents",
   "toc_cell": true,
   "toc_position": {
    "height": "calc(100% - 180px)",
    "left": "10px",
    "top": "150px",
    "width": "224.08px"
   },
   "toc_section_display": true,
   "toc_window_display": false
  }
 },
 "nbformat": 4,
 "nbformat_minor": 4
}