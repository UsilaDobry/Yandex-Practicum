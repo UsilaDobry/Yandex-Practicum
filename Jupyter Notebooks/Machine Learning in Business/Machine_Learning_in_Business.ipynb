{
 "cells": [
  {
   "cell_type": "markdown",
   "metadata": {
    "pycharm": {
     "name": "#%% md\n"
    },
    "toc": true
   },
   "source": [
    "<h1>Содержание<span class=\"tocSkip\"></span></h1>\n",
    "<div class=\"toc\"><ul class=\"toc-item\"><li><ul class=\"toc-item\"><li><span class=\"toc-item-num\"><span><a href=\"#Описание-проекта\" data-toc-modified-id=\"Описание-проекта-1\"><span class=\"toc-item-num\">1&nbsp;&nbsp;</span>Описание проекта</a></span></li><li><span><a href=\"#Подготовка-данных\" data-toc-modified-id=\"Подготовка-данных-2\"><span class=\"toc-item-num\">2&nbsp;&nbsp;</span>Подготовка данных</a></span><ul class=\"toc-item\"><li><span><a href=\"#Описание-данных\" data-toc-modified-id=\"Описание-данных-2.1\"><span class=\"toc-item-num\">2.1&nbsp;&nbsp;</span>Описание данных</a></span></li><li><span><a href=\"#Изучение-данных\" data-toc-modified-id=\"Изучение-данных-2.2\"><span class=\"toc-item-num\">2.2&nbsp;&nbsp;</span>Изучение данных</a></span></li><li><span><a href=\"#Удаление-лишних-признаков\" data-toc-modified-id=\"Удаление-лишних-признаков-2.3\"><span class=\"toc-item-num\">2.3&nbsp;&nbsp;</span>Удаление лишних признаков</a></span></li><li><span><a href=\"#Выявление-важных-признаков\" data-toc-modified-id=\"Выявление-важных-признаков-2.4\"><span class=\"toc-item-num\">2.4&nbsp;&nbsp;</span>Выявление важных признаков</a></span></li><li><span><a href=\"#Выделение-целевого-признака\" data-toc-modified-id=\"Выделение-целевого-признака-2.5\"><span class=\"toc-item-num\">2.5&nbsp;&nbsp;</span>Выделение целевого признака</a></span></li><li><span><a href=\"#Вывод\" data-toc-modified-id=\"Вывод-2.6\"><span class=\"toc-item-num\">2.6&nbsp;&nbsp;</span>Вывод</a></span></li></ul></li><li><span><a href=\"#Моделирование,-обучение-и-оценка-модели-для-каждого-региона\" data-toc-modified-id=\"Моделирование,-обучение-и-оценка-модели-для-каждого-региона-3\"><span class=\"toc-item-num\">3&nbsp;&nbsp;</span>Моделирование, обучение и оценка модели для каждого региона</a></span><ul class=\"toc-item\"><li><span><a href=\"#Регион-0\" data-toc-modified-id=\"Регион-0-3.1\"><span class=\"toc-item-num\">3.1&nbsp;&nbsp;</span>Регион 0</a></span><ul class=\"toc-item\"><li><span><a href=\"#Разделение-данных-на-обучающую-и-валидационную-выборки-в-соотношении-75:25.\" data-toc-modified-id=\"Разделение-данных-на-обучающую-и-валидационную-выборки-в-соотношении-75:25.-3.1.1\"><span class=\"toc-item-num\">3.1.1&nbsp;&nbsp;</span>Разделение данных на обучающую и валидационную выборки в соотношении 75:25.</a></span></li><li><span><a href=\"#Шкалирование-данных-методом-стандартизации\" data-toc-modified-id=\"Шкалирование-данных-методом-стандартизации-3.1.2\"><span class=\"toc-item-num\">3.1.2&nbsp;&nbsp;</span>Шкалирование данных методом стандартизации</a></span></li><li><span><a href=\"#Обучение-модели,-предсказание-и-оценка-на-тренировочной-выборке.\" data-toc-modified-id=\"Обучение-модели,-предсказание-и-оценка-на-тренировочной-выборке.-3.1.3\"><span class=\"toc-item-num\">3.1.3&nbsp;&nbsp;</span>Обучение модели, предсказание и оценка на тренировочной выборке.</a></span></li><li><span><a href=\"#График-кривой-обучения\" data-toc-modified-id=\"График-кривой-обучения-3.1.4\"><span class=\"toc-item-num\">3.1.4&nbsp;&nbsp;</span>График кривой обучения</a></span></li><li><span><a href=\"#Предсказание-и-оценка-на-валидационной-выборке\" data-toc-modified-id=\"Предсказание-и-оценка-на-валидационной-выборке-3.1.5\"><span class=\"toc-item-num\">3.1.5&nbsp;&nbsp;</span>Предсказание и оценка на валидационной выборке</a></span></li><li><span><a href=\"#Итоговая-таблица-РЕГИОН-0\" data-toc-modified-id=\"Итоговая-таблица-РЕГИОН-0-3.1.6\"><span class=\"toc-item-num\">3.1.6&nbsp;&nbsp;</span>Итоговая таблица РЕГИОН 0</a></span></li></ul></li><li><span><a href=\"#Регион-1\" data-toc-modified-id=\"Регион-1-3.2\"><span class=\"toc-item-num\">3.2&nbsp;&nbsp;</span>Регион 1</a></span><ul class=\"toc-item\"><li><span><a href=\"#Разделение-данных-на-обучающую-и-валидационную-выборки-в-соотношении-75:25.\" data-toc-modified-id=\"Разделение-данных-на-обучающую-и-валидационную-выборки-в-соотношении-75:25.-3.2.1\"><span class=\"toc-item-num\">3.2.1&nbsp;&nbsp;</span>Разделение данных на обучающую и валидационную выборки в соотношении 75:25.</a></span></li><li><span><a href=\"#Шкалирование-данных-методом-стандартизации\" data-toc-modified-id=\"Шкалирование-данных-методом-стандартизации-3.2.2\"><span class=\"toc-item-num\">3.2.2&nbsp;&nbsp;</span>Шкалирование данных методом стандартизации</a></span></li><li><span><a href=\"#Обучение-модели,-предсказание-и-оценка-на-тренировочной-выборке.\" data-toc-modified-id=\"Обучение-модели,-предсказание-и-оценка-на-тренировочной-выборке.-3.2.3\"><span class=\"toc-item-num\">3.2.3&nbsp;&nbsp;</span>Обучение модели, предсказание и оценка на тренировочной выборке.</a></span></li><li><span><a href=\"#График-кривой-обучения\" data-toc-modified-id=\"График-кривой-обучения-3.2.4\"><span class=\"toc-item-num\">3.2.4&nbsp;&nbsp;</span>График кривой обучения</a></span></li><li><span><a href=\"#Итоговая-таблица-РЕГИОН-1\" data-toc-modified-id=\"Итоговая-таблица-РЕГИОН-1-3.2.5\"><span class=\"toc-item-num\">3.2.5&nbsp;&nbsp;</span>Итоговая таблица РЕГИОН 1</a></span></li></ul></li><li><span><a href=\"#Регион-2\" data-toc-modified-id=\"Регион-2-3.3\"><span class=\"toc-item-num\">3.3&nbsp;&nbsp;</span>Регион 2</a></span><ul class=\"toc-item\"><li><span><a href=\"#Разделение-данных-на-обучающую-и-валидационную-выборки-в-соотношении-75:25.\" data-toc-modified-id=\"Разделение-данных-на-обучающую-и-валидационную-выборки-в-соотношении-75:25.-3.3.1\"><span class=\"toc-item-num\">3.3.1&nbsp;&nbsp;</span>Разделение данных на обучающую и валидационную выборки в соотношении 75:25.</a></span></li><li><span><a href=\"#Шкалирование-данных-методом-стандартизации\" data-toc-modified-id=\"Шкалирование-данных-методом-стандартизации-3.3.2\"><span class=\"toc-item-num\">3.3.2&nbsp;&nbsp;</span>Шкалирование данных методом стандартизации</a></span></li><li><span><a href=\"#Обучение-модели,-предсказание-и-оценка-на-тренировочной-выборке.\" data-toc-modified-id=\"Обучение-модели,-предсказание-и-оценка-на-тренировочной-выборке.-3.3.3\"><span class=\"toc-item-num\">3.3.3&nbsp;&nbsp;</span>Обучение модели, предсказание и оценка на тренировочной выборке.</a></span></li><li><span><a href=\"#График-кривой-обучения\" data-toc-modified-id=\"График-кривой-обучения-3.3.4\"><span class=\"toc-item-num\">3.3.4&nbsp;&nbsp;</span>График кривой обучения</a></span></li><li><span><a href=\"#Итоговая-таблица-РЕГИОН-2\" data-toc-modified-id=\"Итоговая-таблица-РЕГИОН-2-3.3.5\"><span class=\"toc-item-num\">3.3.5&nbsp;&nbsp;</span>Итоговая таблица РЕГИОН 2</a></span></li></ul></li><li><span><a href=\"#Вывод\" data-toc-modified-id=\"Вывод-3.4\"><span class=\"toc-item-num\">3.4&nbsp;&nbsp;</span>Вывод</a></span></li></ul></li><li><span><a href=\"#Подготовка-к-расчету-прибыли\" data-toc-modified-id=\"Подготовка-к-расчету-прибыли-4\"><span class=\"toc-item-num\">4&nbsp;&nbsp;</span>Подготовка к расчету прибыли</a></span><ul class=\"toc-item\"><li><span><a href=\"#Сохраним-все-ключевые-значения-для-расчётов-в-отдельных-переменных.\" data-toc-modified-id=\"Сохраним-все-ключевые-значения-для-расчётов-в-отдельных-переменных.-4.1\"><span class=\"toc-item-num\">4.1&nbsp;&nbsp;</span>Сохраним все ключевые значения для расчётов в отдельных переменных.</a></span></li><li><span><a href=\"#Рассчитаем-достаточный-объём-сырья-для-безубыточной-разработки-новой-скважины.-Сравним-полученный-объём-сырья-со-средним-запасом-в-каждом-регионе.\" data-toc-modified-id=\"Рассчитаем-достаточный-объём-сырья-для-безубыточной-разработки-новой-скважины.-Сравним-полученный-объём-сырья-со-средним-запасом-в-каждом-регионе.-4.2\"><span class=\"toc-item-num\">4.2&nbsp;&nbsp;</span>Рассчитаем достаточный объём сырья для безубыточной разработки новой скважины. Сравним полученный объём сырья со средним запасом в каждом регионе.</a></span></li><li><span><a href=\"#Вывод\" data-toc-modified-id=\"Вывод-4.3\"><span class=\"toc-item-num\">4.3&nbsp;&nbsp;</span>Вывод</a></span></li></ul></li><li><span><a href=\"#Функция-расчета-средней-прибыли\" data-toc-modified-id=\"Функция-расчета-средней-прибыли-5\"><span class=\"toc-item-num\">5&nbsp;&nbsp;</span>Функция расчета средней прибыли</a></span></li><li><span><a href=\"#Оценка-рисков-и-прибыли-для-каждого-региона\" data-toc-modified-id=\"Оценка-рисков-и-прибыли-для-каждого-региона-6\"><span class=\"toc-item-num\">6&nbsp;&nbsp;</span>Оценка рисков и прибыли для каждого региона</a></span><ul class=\"toc-item\"><li><span><a href=\"#Применим-технику-Bootstrap-с-1000-выборок-для-оценки-прибыли-и-рисков\" data-toc-modified-id=\"Применим-технику-Bootstrap-с-1000-выборок-для-оценки-прибыли-и-рисков-6.1\"><span class=\"toc-item-num\">6.1&nbsp;&nbsp;</span>Применим технику Bootstrap с 1000 выборок для оценки прибыли и рисков</a></span></li><li><span><a href=\"#График-распределения-доходности-по-регионам\" data-toc-modified-id=\"График-распределения-доходности-по-регионам-6.2\"><span class=\"toc-item-num\">6.2&nbsp;&nbsp;</span>График распределения доходности по регионам</a></span></li><li><span><a href=\"#Рассчитаем-среднюю-прибыль\" data-toc-modified-id=\"Рассчитаем-среднюю-прибыль-6.3\"><span class=\"toc-item-num\">6.3&nbsp;&nbsp;</span>Рассчитаем среднюю прибыль</a></span></li><li><span><a href=\"#Рассчитаем-95%-й-доверительный-интервал\" data-toc-modified-id=\"Рассчитаем-95%-й-доверительный-интервал-6.4\"><span class=\"toc-item-num\">6.4&nbsp;&nbsp;</span>Рассчитаем 95%-й доверительный интервал</a></span></li><li><span><a href=\"#Оценим-риски\" data-toc-modified-id=\"Оценим-риски-6.5\"><span class=\"toc-item-num\">6.5&nbsp;&nbsp;</span>Оценим риски</a></span><ul class=\"toc-item\"><li><span><a href=\"#Регион-0\" data-toc-modified-id=\"Регион-0-6.5.1\"><span class=\"toc-item-num\">6.5.1&nbsp;&nbsp;</span>Регион 0</a></span></li><li><span><a href=\"#Регион-1\" data-toc-modified-id=\"Регион-1-6.5.2\"><span class=\"toc-item-num\">6.5.2&nbsp;&nbsp;</span>Регион 1</a></span></li><li><span><a href=\"#Регион-2\" data-toc-modified-id=\"Регион-2-6.5.3\"><span class=\"toc-item-num\">6.5.3&nbsp;&nbsp;</span>Регион 2</a></span></li></ul></li></ul></li><li><span><a href=\"#Итоговая-таблица\" data-toc-modified-id=\"Итоговая-таблица-7\"><span class=\"toc-item-num\">7&nbsp;&nbsp;</span>Итоговая таблица</a></span></li><li><span><a href=\"#Общий-вывод\" data-toc-modified-id=\"Общий-вывод-8\"><span class=\"toc-item-num\">8&nbsp;&nbsp;</span>Общий вывод</a></span></li></ul></div>"
   ]
  },
  {
   "cell_type": "markdown",
   "metadata": {
    "collapsed": true,
    "pycharm": {
     "name": "#%% md\n"
    }
   },
   "source": [
    "# Выбор локации для скважины\n",
    "\n",
    "Вам предоставлены пробы нефти в трёх регионах. Характеристики для каждой скважины в регионе уже известны. Постройте модель для определения региона, где добыча принесёт наибольшую прибыль. Проанализируйте возможную прибыль и риски техникой Bootstrap.\n",
    "\n",
    "**Ход исследования**\n",
    "1. Подготовка данных\n",
    "2. Моделирование, обучение и оценка модели для каждого региона\n",
    "3. Подготовка к расчету прибыли\n",
    "4. Расчет прибыли\n",
    "5. Оценка рисков и прибыли для каждого региона\n",
    "6. Общий вывод"
   ]
  },
  {
   "cell_type": "code",
   "execution_count": 75,
   "metadata": {
    "pycharm": {
     "name": "#%%\n"
    },
    "trusted": false
   },
   "outputs": [],
   "source": [
    "# data preprocessing\n",
    "import numpy as np\n",
    "import pandas as pd\n",
    "from sklearn.preprocessing import StandardScaler\n",
    "from sklearn.model_selection import train_test_split, learning_curve\n",
    "from sklearn.metrics import mean_squared_error, mean_absolute_error, r2_score, make_scorer\n",
    "import math as m\n",
    "\n",
    "# data visualization\n",
    "from matplotlib import pyplot as plt\n",
    "from matplotlib import pylab\n",
    "import seaborn as sns\n",
    "%matplotlib inline\n",
    "\n",
    "# Algorithms\n",
    "from sklearn.linear_model import LinearRegression"
   ]
  },
  {
   "cell_type": "markdown",
   "metadata": {
    "pycharm": {
     "name": "#%% md\n"
    }
   },
   "source": [
    "## Подготовка данных\n",
    "### Описание данных\n",
    "Данные геологоразведки трёх регионов имеют следующие признаки:\n",
    "- `id` — уникальный идентификатор скважины;\n",
    "- `f0`, `f1`, `f2` — три признака точек (неважно, что они означают, но сами признаки значимы);\n",
    "- `product` — объём запасов в скважине (тыс. баррелей).\n",
    "\n",
    "### Изучение данных"
   ]
  },
  {
   "cell_type": "code",
   "execution_count": 76,
   "metadata": {
    "pycharm": {
     "name": "#%%\n"
    },
    "trusted": false
   },
   "outputs": [
    {
     "data": {
      "text/html": [
       "<div>\n",
       "<style scoped>\n",
       "    .dataframe tbody tr th:only-of-type {\n",
       "        vertical-align: middle;\n",
       "    }\n",
       "\n",
       "    .dataframe tbody tr th {\n",
       "        vertical-align: top;\n",
       "    }\n",
       "\n",
       "    .dataframe thead th {\n",
       "        text-align: right;\n",
       "    }\n",
       "</style>\n",
       "<table border=\"1\" class=\"dataframe\">\n",
       "  <thead>\n",
       "    <tr style=\"text-align: right;\">\n",
       "      <th></th>\n",
       "      <th>id</th>\n",
       "      <th>f0</th>\n",
       "      <th>f1</th>\n",
       "      <th>f2</th>\n",
       "      <th>product</th>\n",
       "    </tr>\n",
       "  </thead>\n",
       "  <tbody>\n",
       "    <tr>\n",
       "      <th>0</th>\n",
       "      <td>txEyH</td>\n",
       "      <td>0.705745</td>\n",
       "      <td>-0.497823</td>\n",
       "      <td>1.221170</td>\n",
       "      <td>105.280062</td>\n",
       "    </tr>\n",
       "    <tr>\n",
       "      <th>1</th>\n",
       "      <td>2acmU</td>\n",
       "      <td>1.334711</td>\n",
       "      <td>-0.340164</td>\n",
       "      <td>4.365080</td>\n",
       "      <td>73.037750</td>\n",
       "    </tr>\n",
       "    <tr>\n",
       "      <th>2</th>\n",
       "      <td>409Wp</td>\n",
       "      <td>1.022732</td>\n",
       "      <td>0.151990</td>\n",
       "      <td>1.419926</td>\n",
       "      <td>85.265647</td>\n",
       "    </tr>\n",
       "    <tr>\n",
       "      <th>3</th>\n",
       "      <td>iJLyR</td>\n",
       "      <td>-0.032172</td>\n",
       "      <td>0.139033</td>\n",
       "      <td>2.978566</td>\n",
       "      <td>168.620776</td>\n",
       "    </tr>\n",
       "    <tr>\n",
       "      <th>4</th>\n",
       "      <td>Xdl7t</td>\n",
       "      <td>1.988431</td>\n",
       "      <td>0.155413</td>\n",
       "      <td>4.751769</td>\n",
       "      <td>154.036647</td>\n",
       "    </tr>\n",
       "  </tbody>\n",
       "</table>\n",
       "</div>"
      ],
      "text/plain": [
       "      id        f0        f1        f2     product\n",
       "0  txEyH  0.705745 -0.497823  1.221170  105.280062\n",
       "1  2acmU  1.334711 -0.340164  4.365080   73.037750\n",
       "2  409Wp  1.022732  0.151990  1.419926   85.265647\n",
       "3  iJLyR -0.032172  0.139033  2.978566  168.620776\n",
       "4  Xdl7t  1.988431  0.155413  4.751769  154.036647"
      ]
     },
     "metadata": {},
     "output_type": "display_data"
    },
    {
     "data": {
      "text/html": [
       "<div>\n",
       "<style scoped>\n",
       "    .dataframe tbody tr th:only-of-type {\n",
       "        vertical-align: middle;\n",
       "    }\n",
       "\n",
       "    .dataframe tbody tr th {\n",
       "        vertical-align: top;\n",
       "    }\n",
       "\n",
       "    .dataframe thead th {\n",
       "        text-align: right;\n",
       "    }\n",
       "</style>\n",
       "<table border=\"1\" class=\"dataframe\">\n",
       "  <thead>\n",
       "    <tr style=\"text-align: right;\">\n",
       "      <th></th>\n",
       "      <th>id</th>\n",
       "      <th>f0</th>\n",
       "      <th>f1</th>\n",
       "      <th>f2</th>\n",
       "      <th>product</th>\n",
       "    </tr>\n",
       "  </thead>\n",
       "  <tbody>\n",
       "    <tr>\n",
       "      <th>0</th>\n",
       "      <td>kBEdx</td>\n",
       "      <td>-15.001348</td>\n",
       "      <td>-8.276000</td>\n",
       "      <td>-0.005876</td>\n",
       "      <td>3.179103</td>\n",
       "    </tr>\n",
       "    <tr>\n",
       "      <th>1</th>\n",
       "      <td>62mP7</td>\n",
       "      <td>14.272088</td>\n",
       "      <td>-3.475083</td>\n",
       "      <td>0.999183</td>\n",
       "      <td>26.953261</td>\n",
       "    </tr>\n",
       "    <tr>\n",
       "      <th>2</th>\n",
       "      <td>vyE1P</td>\n",
       "      <td>6.263187</td>\n",
       "      <td>-5.948386</td>\n",
       "      <td>5.001160</td>\n",
       "      <td>134.766305</td>\n",
       "    </tr>\n",
       "    <tr>\n",
       "      <th>3</th>\n",
       "      <td>KcrkZ</td>\n",
       "      <td>-13.081196</td>\n",
       "      <td>-11.506057</td>\n",
       "      <td>4.999415</td>\n",
       "      <td>137.945408</td>\n",
       "    </tr>\n",
       "    <tr>\n",
       "      <th>4</th>\n",
       "      <td>AHL4O</td>\n",
       "      <td>12.702195</td>\n",
       "      <td>-8.147433</td>\n",
       "      <td>5.004363</td>\n",
       "      <td>134.766305</td>\n",
       "    </tr>\n",
       "  </tbody>\n",
       "</table>\n",
       "</div>"
      ],
      "text/plain": [
       "      id         f0         f1        f2     product\n",
       "0  kBEdx -15.001348  -8.276000 -0.005876    3.179103\n",
       "1  62mP7  14.272088  -3.475083  0.999183   26.953261\n",
       "2  vyE1P   6.263187  -5.948386  5.001160  134.766305\n",
       "3  KcrkZ -13.081196 -11.506057  4.999415  137.945408\n",
       "4  AHL4O  12.702195  -8.147433  5.004363  134.766305"
      ]
     },
     "metadata": {},
     "output_type": "display_data"
    },
    {
     "data": {
      "text/html": [
       "<div>\n",
       "<style scoped>\n",
       "    .dataframe tbody tr th:only-of-type {\n",
       "        vertical-align: middle;\n",
       "    }\n",
       "\n",
       "    .dataframe tbody tr th {\n",
       "        vertical-align: top;\n",
       "    }\n",
       "\n",
       "    .dataframe thead th {\n",
       "        text-align: right;\n",
       "    }\n",
       "</style>\n",
       "<table border=\"1\" class=\"dataframe\">\n",
       "  <thead>\n",
       "    <tr style=\"text-align: right;\">\n",
       "      <th></th>\n",
       "      <th>id</th>\n",
       "      <th>f0</th>\n",
       "      <th>f1</th>\n",
       "      <th>f2</th>\n",
       "      <th>product</th>\n",
       "    </tr>\n",
       "  </thead>\n",
       "  <tbody>\n",
       "    <tr>\n",
       "      <th>0</th>\n",
       "      <td>fwXo0</td>\n",
       "      <td>-1.146987</td>\n",
       "      <td>0.963328</td>\n",
       "      <td>-0.828965</td>\n",
       "      <td>27.758673</td>\n",
       "    </tr>\n",
       "    <tr>\n",
       "      <th>1</th>\n",
       "      <td>WJtFt</td>\n",
       "      <td>0.262778</td>\n",
       "      <td>0.269839</td>\n",
       "      <td>-2.530187</td>\n",
       "      <td>56.069697</td>\n",
       "    </tr>\n",
       "    <tr>\n",
       "      <th>2</th>\n",
       "      <td>ovLUW</td>\n",
       "      <td>0.194587</td>\n",
       "      <td>0.289035</td>\n",
       "      <td>-5.586433</td>\n",
       "      <td>62.871910</td>\n",
       "    </tr>\n",
       "    <tr>\n",
       "      <th>3</th>\n",
       "      <td>q6cA6</td>\n",
       "      <td>2.236060</td>\n",
       "      <td>-0.553760</td>\n",
       "      <td>0.930038</td>\n",
       "      <td>114.572842</td>\n",
       "    </tr>\n",
       "    <tr>\n",
       "      <th>4</th>\n",
       "      <td>WPMUX</td>\n",
       "      <td>-0.515993</td>\n",
       "      <td>1.716266</td>\n",
       "      <td>5.899011</td>\n",
       "      <td>149.600746</td>\n",
       "    </tr>\n",
       "  </tbody>\n",
       "</table>\n",
       "</div>"
      ],
      "text/plain": [
       "      id        f0        f1        f2     product\n",
       "0  fwXo0 -1.146987  0.963328 -0.828965   27.758673\n",
       "1  WJtFt  0.262778  0.269839 -2.530187   56.069697\n",
       "2  ovLUW  0.194587  0.289035 -5.586433   62.871910\n",
       "3  q6cA6  2.236060 -0.553760  0.930038  114.572842\n",
       "4  WPMUX -0.515993  1.716266  5.899011  149.600746"
      ]
     },
     "metadata": {},
     "output_type": "display_data"
    },
    {
     "name": "stdout",
     "output_type": "stream",
     "text": [
      "<class 'pandas.core.frame.DataFrame'>\n",
      "RangeIndex: 100000 entries, 0 to 99999\n",
      "Data columns (total 5 columns):\n",
      " #   Column   Non-Null Count   Dtype  \n",
      "---  ------   --------------   -----  \n",
      " 0   id       100000 non-null  object \n",
      " 1   f0       100000 non-null  float64\n",
      " 2   f1       100000 non-null  float64\n",
      " 3   f2       100000 non-null  float64\n",
      " 4   product  100000 non-null  float64\n",
      "dtypes: float64(4), object(1)\n",
      "memory usage: 3.8+ MB\n",
      "<class 'pandas.core.frame.DataFrame'>\n",
      "RangeIndex: 100000 entries, 0 to 99999\n",
      "Data columns (total 5 columns):\n",
      " #   Column   Non-Null Count   Dtype  \n",
      "---  ------   --------------   -----  \n",
      " 0   id       100000 non-null  object \n",
      " 1   f0       100000 non-null  float64\n",
      " 2   f1       100000 non-null  float64\n",
      " 3   f2       100000 non-null  float64\n",
      " 4   product  100000 non-null  float64\n",
      "dtypes: float64(4), object(1)\n",
      "memory usage: 3.8+ MB\n",
      "<class 'pandas.core.frame.DataFrame'>\n",
      "RangeIndex: 100000 entries, 0 to 99999\n",
      "Data columns (total 5 columns):\n",
      " #   Column   Non-Null Count   Dtype  \n",
      "---  ------   --------------   -----  \n",
      " 0   id       100000 non-null  object \n",
      " 1   f0       100000 non-null  float64\n",
      " 2   f1       100000 non-null  float64\n",
      " 3   f2       100000 non-null  float64\n",
      " 4   product  100000 non-null  float64\n",
      "dtypes: float64(4), object(1)\n",
      "memory usage: 3.8+ MB\n",
      "None None None\n"
     ]
    }
   ],
   "source": [
    "df0 = pd.read_csv('./datasets/geo_data_0.csv')\n",
    "df1 = pd.read_csv('./datasets/geo_data_1.csv')\n",
    "df2 = pd.read_csv('./datasets/geo_data_2.csv')\n",
    "display(df0.head(), df1.head(), df2.head())\n",
    "print(df0.info(), df1.info(), df2.info())"
   ]
  },
  {
   "cell_type": "markdown",
   "metadata": {
    "pycharm": {
     "name": "#%% md\n"
    }
   },
   "source": [
    "### Удаление лишних признаков"
   ]
  },
  {
   "cell_type": "code",
   "execution_count": 77,
   "metadata": {
    "pycharm": {
     "name": "#%%\n"
    },
    "trusted": false
   },
   "outputs": [],
   "source": [
    "df0 = df0.drop('id', axis=1)\n",
    "df1 = df1.drop('id', axis=1)\n",
    "df2 = df2.drop('id', axis=1)"
   ]
  },
  {
   "cell_type": "markdown",
   "metadata": {
    "pycharm": {
     "name": "#%% md\n"
    }
   },
   "source": [
    "### Выявление важных признаков"
   ]
  },
  {
   "cell_type": "code",
   "execution_count": 78,
   "metadata": {
    "pycharm": {
     "name": "#%%\n"
    },
    "trusted": false
   },
   "outputs": [
    {
     "data": {
      "text/plain": [
       "<AxesSubplot:title={'center':'Мультиколлениарность признаков РЕГИОН 0'}>"
      ]
     },
     "execution_count": 78,
     "metadata": {},
     "output_type": "execute_result"
    },
    {
     "data": {
      "image/png": "[encoded data removed]",
      "text/plain": [
       "<Figure size 864x432 with 2 Axes>"
      ]
     },
     "metadata": {},
     "output_type": "display_data"
    }
   ],
   "source": [
    "# задаем размер окна графика\n",
    "plt.rcParams['figure.figsize'] = 12, 6\n",
    "sns.set(context='talk', style='whitegrid', palette='muted', font='sans-serif', font_scale=0.8, color_codes=False, rc=None)\n",
    "plt.title('Мультиколлениарность признаков РЕГИОН 0')\n",
    "sns.heatmap(df0.corr(), cmap=\"viridis\", annot=True)"
   ]
  },
  {
   "cell_type": "code",
   "execution_count": 79,
   "metadata": {
    "pycharm": {
     "name": "#%%\n"
    },
    "trusted": false
   },
   "outputs": [
    {
     "data": {
      "text/plain": [
       "<AxesSubplot:title={'center':'Мультиколлениарность признаков РЕГИОН 1'}>"
      ]
     },
     "execution_count": 79,
     "metadata": {},
     "output_type": "execute_result"
    },
    {
     "data": {
      "image/png": "[encoded data removed]",
      "text/plain": [
       "<Figure size 864x432 with 2 Axes>"
      ]
     },
     "metadata": {},
     "output_type": "display_data"
    }
   ],
   "source": [
    "plt.title('Мультиколлениарность признаков РЕГИОН 1')\n",
    "sns.heatmap(df1.corr(), cmap=\"viridis\", annot=True)"
   ]
  },
  {
   "cell_type": "code",
   "execution_count": 80,
   "metadata": {
    "pycharm": {
     "name": "#%%\n"
    },
    "trusted": false
   },
   "outputs": [
    {
     "data": {
      "text/plain": [
       "<AxesSubplot:title={'center':'Мультиколлениарность признаков РЕГИОН 2'}>"
      ]
     },
     "execution_count": 80,
     "metadata": {},
     "output_type": "execute_result"
    },
    {
     "data": {
      "image/png": "[encoded data removed]",
      "text/plain": [
       "<Figure size 864x432 with 2 Axes>"
      ]
     },
     "metadata": {},
     "output_type": "display_data"
    }
   ],
   "source": [
    "plt.title('Мультиколлениарность признаков РЕГИОН 2')\n",
    "sns.heatmap(df2.corr(), cmap=\"viridis\", annot=True)"
   ]
  },
  {
   "cell_type": "markdown",
   "metadata": {
    "pycharm": {
     "name": "#%% md\n"
    }
   },
   "source": [
    "### Выделение целевого признака"
   ]
  },
  {
   "cell_type": "code",
   "execution_count": 81,
   "metadata": {
    "pycharm": {
     "name": "#%%\n"
    },
    "trusted": false
   },
   "outputs": [],
   "source": [
    "# снизим размерность признаков и определим целевой признак\n",
    "#features_0 = df0.drop(['product', 'f0', 'f1'], axis=1)\n",
    "target_0 = df0['product']\n",
    "#features_1 = df1.drop(['product', 'f0', 'f1'], axis=1)\n",
    "target_1 = df1['product']\n",
    "#features_2 = df2.drop(['product', 'f0', 'f1'], axis=1)\n",
    "target_2 = df2['product']\n",
    "# множественная регрессия\n",
    "features_0 = df0.drop(['product'], axis=1)\n",
    "features_1 = df1.drop(['product'], axis=1)\n",
    "features_2 = df2.drop(['product'], axis=1)"
   ]
  },
  {
   "cell_type": "markdown",
   "metadata": {
    "pycharm": {
     "name": "#%% md\n"
    }
   },
   "source": [
    "### Вывод\n",
    "На этапе подготовки данных мы выполнили следующие действия:\n",
    "   - удалили лишние признаки;\n",
    "   - убедились в отсутствии пропусков;\n",
    "   - проверили типы данных;\n",
    "   - проверили признаки на мультиколлениарность по каждому региону;\n",
    "   - определили целевой признак.\n",
    "\n",
    "В результате предложено упростить модель за счет снижения размерности признаков, использовать в дальнейшем исследовании признак `F2`, который демонстрирует по каждому региону наибольшую корреляцию с целевым признаком."
   ]
  },
  {
   "cell_type": "markdown",
   "metadata": {
    "pycharm": {
     "name": "#%% md\n"
    }
   },
   "source": [
    "## Моделирование, обучение и оценка модели для каждого региона\n",
    "### Регион 0\n",
    "#### Разделение данных на обучающую и валидационную выборки в соотношении 75:25."
   ]
  },
  {
   "cell_type": "code",
   "execution_count": 82,
   "metadata": {
    "pycharm": {
     "name": "#%%\n"
    },
    "trusted": false
   },
   "outputs": [
    {
     "name": "stdout",
     "output_type": "stream",
     "text": [
      "(75000, 3)\n",
      "(75000,)\n",
      "(25000, 3)\n",
      "(25000,)\n"
     ]
    }
   ],
   "source": [
    "X_train_0, X_valid_0, y_train_0, y_valid_0 = train_test_split(features_0, target_0, test_size=0.25, random_state=12345)\n",
    "print(X_train_0.shape)\n",
    "print(y_train_0.shape)\n",
    "print(X_valid_0.shape)\n",
    "print(y_valid_0.shape)"
   ]
  },
  {
   "cell_type": "markdown",
   "metadata": {
    "pycharm": {
     "name": "#%% md\n"
    }
   },
   "source": [
    "#### Шкалирование данных методом стандартизации"
   ]
  },
  {
   "cell_type": "code",
   "execution_count": 83,
   "metadata": {
    "pycharm": {
     "name": "#%%\n"
    },
    "trusted": false
   },
   "outputs": [],
   "source": [
    "# выполним стандартизацию данных\n",
    "sc = StandardScaler()\n",
    "# вычислим параметры μ (эмпирическое среднее) и σ (стандартное отклонение) для каждой размерности признаков из тренировочных данных\n",
    "sc.fit(X_train_0)\n",
    "# стандартизируем данные, используя для этого расчетные параметры μ и σ.\n",
    "X_train_0_std = sc.transform(X_train_0)\n",
    "X_valid_0_std = sc.transform(X_valid_0)"
   ]
  },
  {
   "cell_type": "markdown",
   "metadata": {
    "pycharm": {
     "name": "#%% md\n"
    }
   },
   "source": [
    "#### Обучение модели, предсказание и оценка на тренировочной выборке."
   ]
  },
  {
   "cell_type": "code",
   "execution_count": 84,
   "metadata": {
    "pycharm": {
     "name": "#%%\n"
    },
    "trusted": false
   },
   "outputs": [],
   "source": [
    "# моделирование\n",
    "lnr_0 = LinearRegression()\n",
    "# обучение\n",
    "lnr_0.fit(X_train_0_std, y_train_0)\n",
    "# предсказание среднего запаса сырья на тренировочной выборке\n",
    "predictions_train_lnr_0 = lnr_0.predict(X_train_0_std)\n",
    "# оценка модели на тренировочных данных\n",
    "mse_train_lnr_0 = mean_squared_error(y_train_0, predictions_train_lnr_0)\n",
    "rmse_train_lnr_0 = m.sqrt(mse_train_lnr_0)\n",
    "mae_train_lnr_0 = mean_absolute_error(y_train_0, predictions_train_lnr_0)\n",
    "r2_score_train_lnr_0 = r2_score(y_train_0, predictions_train_lnr_0)"
   ]
  },
  {
   "cell_type": "markdown",
   "metadata": {
    "pycharm": {
     "name": "#%% md\n"
    }
   },
   "source": [
    "#### График кривой обучения\n",
    "Кривая обучения отображает нашу функцию ошибок (MSE) с различными объемами данных, используемых для тренировки.\n",
    "Нам необходимо убедиться, действительно ли полученная MSE в ходе обучения модели является оптимально низкой."
   ]
  },
  {
   "cell_type": "code",
   "execution_count": 85,
   "metadata": {
    "pycharm": {
     "name": "#%%\n"
    },
    "trusted": false
   },
   "outputs": [
    {
     "data": {
      "image/png": "[encoded data removed]",
      "text/plain": [
       "<Figure size 864x432 with 1 Axes>"
      ]
     },
     "metadata": {},
     "output_type": "display_data"
    }
   ],
   "source": [
    "# код функции заимствован из документации sklearn\n",
    "# Источник: http://scikit-learn.org/0.15/auto_examples/plot_learning_curve.html\n",
    "def plot_learning_curve(estimator, title, X, y, ylim=None, cv=None,\n",
    "                        n_jobs=1, train_sizes=np.linspace(.1, 1.0, 5)):\n",
    "\n",
    "    plt.figure()\n",
    "    plt.title(title)\n",
    "    if ylim is not None:\n",
    "        plt.ylim(*ylim)\n",
    "    plt.xlabel(\"Тренировочные данные\")\n",
    "    plt.ylabel(\"Оценка\")\n",
    "    train_sizes, train_scores, test_scores = learning_curve(\n",
    "        estimator, X, y, cv=cv, n_jobs=n_jobs, train_sizes=train_sizes, scoring=make_scorer(mean_squared_error))\n",
    "    train_scores_mean = np.mean(train_scores, axis=1)\n",
    "    train_scores_std = np.std(train_scores, axis=1)\n",
    "    test_scores_mean = np.mean(test_scores, axis=1)\n",
    "    test_scores_std = np.std(test_scores, axis=1)\n",
    "    plt.grid()\n",
    "\n",
    "    plt.fill_between(train_sizes, train_scores_mean - train_scores_std,\n",
    "                     train_scores_mean + train_scores_std, alpha=0.1,\n",
    "                     color=\"r\")\n",
    "    plt.fill_between(train_sizes, test_scores_mean - test_scores_std,\n",
    "                     test_scores_mean + test_scores_std, alpha=0.1, color=\"g\")\n",
    "    plt.plot(train_sizes, train_scores_mean, 'o-', color=\"r\",\n",
    "             label=\"Train score\")\n",
    "    plt.plot(train_sizes, test_scores_mean, 'o-', color=\"g\",\n",
    "             label=\"C-V score\")\n",
    "\n",
    "    plt.legend(loc=\"best\")\n",
    "    return plt\n",
    "# выведим график кривой обучения\n",
    "plot_learning_curve(lnr_0,\n",
    "                    \"Кривая обучения РЕГИОН 0\",\n",
    "                    X_train_0,\n",
    "                    y_train_0,\n",
    "                    cv=5);"
   ]
  },
  {
   "cell_type": "markdown",
   "metadata": {
    "pycharm": {
     "name": "#%% md\n"
    }
   },
   "source": [
    "#### Предсказание и оценка на валидационной выборке"
   ]
  },
  {
   "cell_type": "code",
   "execution_count": 86,
   "metadata": {
    "pycharm": {
     "name": "#%%\n"
    },
    "trusted": false
   },
   "outputs": [],
   "source": [
    "# предсказание среднего запаса сырья на валидационной выборке\n",
    "predictions_valid_lnr_0 = lnr_0.predict(X_valid_0_std)\n",
    "# оценка модели на валидационных данных\n",
    "mse_valid_lnr_0 = mean_squared_error(y_valid_0, predictions_valid_lnr_0)\n",
    "rmse_valid_lnr_0 = m.sqrt(mse_valid_lnr_0)\n",
    "mae_valid_lnr_0 = mean_absolute_error(y_valid_0, predictions_valid_lnr_0)\n",
    "r2_score_valid_lnr_0 = r2_score(y_valid_0, predictions_valid_lnr_0)"
   ]
  },
  {
   "cell_type": "markdown",
   "metadata": {
    "pycharm": {
     "name": "#%% md\n"
    }
   },
   "source": [
    "#### Итоговая таблица РЕГИОН 0"
   ]
  },
  {
   "cell_type": "code",
   "execution_count": 87,
   "metadata": {
    "pycharm": {
     "name": "#%%\n"
    },
    "trusted": false
   },
   "outputs": [
    {
     "data": {
      "text/html": [
       "<div>\n",
       "<style scoped>\n",
       "    .dataframe tbody tr th:only-of-type {\n",
       "        vertical-align: middle;\n",
       "    }\n",
       "\n",
       "    .dataframe tbody tr th {\n",
       "        vertical-align: top;\n",
       "    }\n",
       "\n",
       "    .dataframe thead th {\n",
       "        text-align: right;\n",
       "    }\n",
       "</style>\n",
       "<table border=\"1\" class=\"dataframe\">\n",
       "  <thead>\n",
       "    <tr style=\"text-align: right;\">\n",
       "      <th></th>\n",
       "      <th>Выборка</th>\n",
       "      <th>Прогноз запаса сырья</th>\n",
       "      <th>MSE</th>\n",
       "      <th>RMSE</th>\n",
       "      <th>MAE</th>\n",
       "      <th>Коэффициент детерминации [R2]</th>\n",
       "    </tr>\n",
       "  </thead>\n",
       "  <tbody>\n",
       "    <tr>\n",
       "      <th>0</th>\n",
       "      <td>Тренировочная</td>\n",
       "      <td>92.640468</td>\n",
       "      <td>1423.552311</td>\n",
       "      <td>37.729992</td>\n",
       "      <td>31.079961</td>\n",
       "      <td>0.274239</td>\n",
       "    </tr>\n",
       "    <tr>\n",
       "      <th>1</th>\n",
       "      <td>Валидационная</td>\n",
       "      <td>92.592568</td>\n",
       "      <td>1412.212936</td>\n",
       "      <td>37.579422</td>\n",
       "      <td>30.919601</td>\n",
       "      <td>0.279943</td>\n",
       "    </tr>\n",
       "  </tbody>\n",
       "</table>\n",
       "</div>"
      ],
      "text/plain": [
       "         Выборка  Прогноз запаса сырья          MSE       RMSE        MAE  \\\n",
       "0  Тренировочная             92.640468  1423.552311  37.729992  31.079961   \n",
       "1  Валидационная             92.592568  1412.212936  37.579422  30.919601   \n",
       "\n",
       "   Коэффициент детерминации [R2]  \n",
       "0                       0.274239  \n",
       "1                       0.279943  "
      ]
     },
     "metadata": {},
     "output_type": "display_data"
    }
   ],
   "source": [
    "results_0 = pd.DataFrame({\n",
    "    'Выборка': ['Тренировочная', 'Валидационная'],\n",
    "    'Прогноз запаса сырья': [predictions_train_lnr_0.mean(), predictions_valid_lnr_0.mean()],\n",
    "    'MSE': [mse_train_lnr_0, mse_valid_lnr_0],\n",
    "    'RMSE': [rmse_train_lnr_0, rmse_valid_lnr_0],\n",
    "    'MAE': [mae_train_lnr_0, mae_valid_lnr_0],\n",
    "    'Коэффициент детерминации [R2]': [r2_score_train_lnr_0, r2_score_valid_lnr_0]})\n",
    "\n",
    "display(results_0)"
   ]
  },
  {
   "cell_type": "markdown",
   "metadata": {
    "pycharm": {
     "name": "#%% md\n"
    }
   },
   "source": [
    "### Регион 1\n",
    "#### Разделение данных на обучающую и валидационную выборки в соотношении 75:25."
   ]
  },
  {
   "cell_type": "code",
   "execution_count": 88,
   "metadata": {
    "pycharm": {
     "name": "#%%\n"
    },
    "trusted": false
   },
   "outputs": [
    {
     "name": "stdout",
     "output_type": "stream",
     "text": [
      "(75000, 3)\n",
      "(75000,)\n",
      "(25000, 3)\n",
      "(25000,)\n"
     ]
    }
   ],
   "source": [
    "X_train_1, X_valid_1, y_train_1, y_valid_1 = train_test_split(features_1, target_1, test_size=0.25, random_state=12345)\n",
    "print(X_train_1.shape)\n",
    "print(y_train_1.shape)\n",
    "print(X_valid_1.shape)\n",
    "print(y_valid_1.shape)"
   ]
  },
  {
   "cell_type": "markdown",
   "metadata": {
    "pycharm": {
     "name": "#%% md\n"
    }
   },
   "source": [
    "#### Шкалирование данных методом стандартизации"
   ]
  },
  {
   "cell_type": "code",
   "execution_count": 89,
   "metadata": {
    "pycharm": {
     "name": "#%%\n"
    },
    "trusted": false
   },
   "outputs": [],
   "source": [
    "# выполним стандартизацию данных\n",
    "sc = StandardScaler()\n",
    "# вычислим параметры μ (эмпирическое среднее) и σ (стандартное отклонение) для каждой размерности признаков из тренировочных данных\n",
    "sc.fit(X_train_1)\n",
    "# стандартизируем данные, используя для этого расчетные параметры μ и σ.\n",
    "X_train_1_std = sc.transform(X_train_1)\n",
    "X_valid_1_std = sc.transform(X_valid_1)"
   ]
  },
  {
   "cell_type": "markdown",
   "metadata": {
    "pycharm": {
     "name": "#%% md\n"
    }
   },
   "source": [
    "#### Обучение модели, предсказание и оценка на тренировочной выборке."
   ]
  },
  {
   "cell_type": "code",
   "execution_count": 90,
   "metadata": {
    "pycharm": {
     "name": "#%%\n"
    },
    "trusted": false
   },
   "outputs": [],
   "source": [
    "# моделирование\n",
    "lnr_1 = LinearRegression()\n",
    "# обучение\n",
    "lnr_1.fit(X_train_1_std, y_train_1)\n",
    "# предсказание среднего запаса сырья на тренировочной выборке\n",
    "predictions_train_lnr_1 = lnr_1.predict(X_train_1_std)\n",
    "# оценка модели на тренировочных данных\n",
    "mse_train_lnr_1 = mean_squared_error(y_train_1, predictions_train_lnr_1)\n",
    "rmse_train_lnr_1 = m.sqrt(mse_train_lnr_1)\n",
    "mae_train_lnr_1 = mean_absolute_error(y_train_1, predictions_train_lnr_1)\n",
    "r2_score_train_lnr_1 = r2_score(y_train_1, predictions_train_lnr_1)"
   ]
  },
  {
   "cell_type": "markdown",
   "metadata": {
    "pycharm": {
     "name": "#%% md\n"
    }
   },
   "source": [
    "#### График кривой обучения"
   ]
  },
  {
   "cell_type": "code",
   "execution_count": 91,
   "metadata": {
    "pycharm": {
     "name": "#%%\n"
    },
    "trusted": false
   },
   "outputs": [
    {
     "data": {
      "image/png": "[encoded data removed]",
      "text/plain": [
       "<Figure size 864x432 with 1 Axes>"
      ]
     },
     "metadata": {},
     "output_type": "display_data"
    }
   ],
   "source": [
    "plot_learning_curve(lnr_1,\n",
    "                    \"Кривая обучения РЕГИОН 1\",\n",
    "                    X_train_1,\n",
    "                    y_train_1,\n",
    "                    cv=5);"
   ]
  },
  {
   "cell_type": "code",
   "execution_count": 92,
   "metadata": {
    "pycharm": {
     "name": "#%%\n"
    },
    "trusted": false
   },
   "outputs": [],
   "source": [
    "# предсказание среднего запаса сырья на валидационной выборке\n",
    "predictions_valid_lnr_1 = lnr_1.predict(X_valid_1_std)\n",
    "# оценка модели на валидационных данных\n",
    "mse_valid_lnr_1 = mean_squared_error(y_valid_1, predictions_valid_lnr_1)\n",
    "rmse_valid_lnr_1 = m.sqrt(mse_valid_lnr_1)\n",
    "mae_valid_lnr_1 = mean_absolute_error(y_valid_1, predictions_valid_lnr_1)\n",
    "r2_score_valid_lnr_1 = r2_score(y_valid_1, predictions_valid_lnr_1)"
   ]
  },
  {
   "cell_type": "markdown",
   "metadata": {
    "pycharm": {
     "name": "#%% md\n"
    }
   },
   "source": [
    "#### Итоговая таблица РЕГИОН 1"
   ]
  },
  {
   "cell_type": "code",
   "execution_count": 93,
   "metadata": {
    "pycharm": {
     "name": "#%%\n"
    },
    "trusted": false
   },
   "outputs": [
    {
     "data": {
      "text/html": [
       "<div>\n",
       "<style scoped>\n",
       "    .dataframe tbody tr th:only-of-type {\n",
       "        vertical-align: middle;\n",
       "    }\n",
       "\n",
       "    .dataframe tbody tr th {\n",
       "        vertical-align: top;\n",
       "    }\n",
       "\n",
       "    .dataframe thead th {\n",
       "        text-align: right;\n",
       "    }\n",
       "</style>\n",
       "<table border=\"1\" class=\"dataframe\">\n",
       "  <thead>\n",
       "    <tr style=\"text-align: right;\">\n",
       "      <th></th>\n",
       "      <th>Выборка</th>\n",
       "      <th>Прогноз запаса сырья</th>\n",
       "      <th>MSE</th>\n",
       "      <th>RMSE</th>\n",
       "      <th>MAE</th>\n",
       "      <th>Коэффициент детерминации [R2]</th>\n",
       "    </tr>\n",
       "  </thead>\n",
       "  <tbody>\n",
       "    <tr>\n",
       "      <th>0</th>\n",
       "      <td>Тренировочная</td>\n",
       "      <td>68.858955</td>\n",
       "      <td>0.791161</td>\n",
       "      <td>0.889472</td>\n",
       "      <td>0.716844</td>\n",
       "      <td>0.999625</td>\n",
       "    </tr>\n",
       "    <tr>\n",
       "      <th>1</th>\n",
       "      <td>Валидационная</td>\n",
       "      <td>68.728547</td>\n",
       "      <td>0.797626</td>\n",
       "      <td>0.893099</td>\n",
       "      <td>0.718766</td>\n",
       "      <td>0.999623</td>\n",
       "    </tr>\n",
       "  </tbody>\n",
       "</table>\n",
       "</div>"
      ],
      "text/plain": [
       "         Выборка  Прогноз запаса сырья       MSE      RMSE       MAE  \\\n",
       "0  Тренировочная             68.858955  0.791161  0.889472  0.716844   \n",
       "1  Валидационная             68.728547  0.797626  0.893099  0.718766   \n",
       "\n",
       "   Коэффициент детерминации [R2]  \n",
       "0                       0.999625  \n",
       "1                       0.999623  "
      ]
     },
     "metadata": {},
     "output_type": "display_data"
    }
   ],
   "source": [
    "results_1 = pd.DataFrame({\n",
    "    'Выборка': ['Тренировочная', 'Валидационная'],\n",
    "    'Прогноз запаса сырья': [predictions_train_lnr_1.mean(), predictions_valid_lnr_1.mean()],\n",
    "    'MSE': [mse_train_lnr_1, mse_valid_lnr_1],\n",
    "    'RMSE': [rmse_train_lnr_1, rmse_valid_lnr_1],\n",
    "    'MAE': [mae_train_lnr_1, mae_valid_lnr_1],\n",
    "    'Коэффициент детерминации [R2]': [r2_score_train_lnr_1, r2_score_valid_lnr_1]})\n",
    "\n",
    "display(results_1)"
   ]
  },
  {
   "cell_type": "markdown",
   "metadata": {
    "pycharm": {
     "name": "#%% md\n"
    }
   },
   "source": [
    "### Регион 2\n",
    "#### Разделение данных на обучающую и валидационную выборки в соотношении 75:25."
   ]
  },
  {
   "cell_type": "code",
   "execution_count": 94,
   "metadata": {
    "pycharm": {
     "name": "#%%\n"
    },
    "trusted": false
   },
   "outputs": [
    {
     "name": "stdout",
     "output_type": "stream",
     "text": [
      "(75000, 3)\n",
      "(75000,)\n",
      "(25000, 3)\n",
      "(25000,)\n"
     ]
    }
   ],
   "source": [
    "X_train_2, X_valid_2, y_train_2, y_valid_2 = train_test_split(features_2, target_2, test_size=0.25, random_state=12345)\n",
    "print(X_train_2.shape)\n",
    "print(y_train_2.shape)\n",
    "print(X_valid_2.shape)\n",
    "print(y_valid_2.shape)"
   ]
  },
  {
   "cell_type": "markdown",
   "metadata": {
    "pycharm": {
     "name": "#%% md\n"
    }
   },
   "source": [
    "#### Шкалирование данных методом стандартизации"
   ]
  },
  {
   "cell_type": "code",
   "execution_count": 95,
   "metadata": {
    "pycharm": {
     "name": "#%%\n"
    },
    "trusted": false
   },
   "outputs": [],
   "source": [
    "# выполним стандартизацию данных\n",
    "sc = StandardScaler()\n",
    "# вычислим параметры μ (эмпирическое среднее) и σ (стандартное отклонение) для каждой размерности признаков из тренировочных данных\n",
    "sc.fit(X_train_2)\n",
    "# стандартизируем данные, используя для этого расчетные параметры μ и σ.\n",
    "X_train_2_std = sc.transform(X_train_2)\n",
    "X_valid_2_std = sc.transform(X_valid_2)"
   ]
  },
  {
   "cell_type": "markdown",
   "metadata": {
    "pycharm": {
     "name": "#%% md\n"
    }
   },
   "source": [
    "#### Обучение модели, предсказание и оценка на тренировочной выборке."
   ]
  },
  {
   "cell_type": "code",
   "execution_count": 96,
   "metadata": {
    "pycharm": {
     "name": "#%%\n"
    },
    "trusted": false
   },
   "outputs": [],
   "source": [
    "# моделирование\n",
    "lnr_2 = LinearRegression()\n",
    "# обучение\n",
    "lnr_2.fit(X_train_2_std, y_train_2)\n",
    "# предсказание среднего запаса сырья на валидационной выборке\n",
    "predictions_train_lnr_2 = lnr_2.predict(X_train_2_std)\n",
    "# оценка модели на тренировочных данных\n",
    "mse_train_lnr_2 = mean_squared_error(y_train_2, predictions_train_lnr_2)\n",
    "rmse_train_lnr_2 = m.sqrt(mse_train_lnr_2)\n",
    "mae_train_lnr_2 = mean_absolute_error(y_train_2, predictions_train_lnr_2)\n",
    "r2_score_train_lnr_2 = r2_score(y_train_2, predictions_train_lnr_2)"
   ]
  },
  {
   "cell_type": "markdown",
   "metadata": {
    "pycharm": {
     "name": "#%% md\n"
    }
   },
   "source": [
    "#### График кривой обучения"
   ]
  },
  {
   "cell_type": "code",
   "execution_count": 97,
   "metadata": {
    "pycharm": {
     "name": "#%%\n"
    },
    "trusted": false
   },
   "outputs": [
    {
     "data": {
      "image/png": "[encoded data removed]",
      "text/plain": [
       "<Figure size 864x432 with 1 Axes>"
      ]
     },
     "metadata": {},
     "output_type": "display_data"
    }
   ],
   "source": [
    "plot_learning_curve(lnr_2,\n",
    "                    \"Кривая обучения РЕГИОН 2\",\n",
    "                    X_train_2,\n",
    "                    y_train_2,\n",
    "                    cv=5);"
   ]
  },
  {
   "cell_type": "code",
   "execution_count": 98,
   "metadata": {
    "pycharm": {
     "name": "#%%\n"
    },
    "trusted": false
   },
   "outputs": [],
   "source": [
    "# предсказание среднего запаса сырья на валидационной выборке\n",
    "predictions_valid_lnr_2 = lnr_2.predict(X_valid_2_std)\n",
    "# оценка модели на валидационных данных\n",
    "mse_valid_lnr_2 = mean_squared_error(y_valid_2, predictions_valid_lnr_2)\n",
    "rmse_valid_lnr_2 = m.sqrt(mse_valid_lnr_2)\n",
    "mae_valid_lnr_2 = mean_absolute_error(y_valid_2, predictions_valid_lnr_2)\n",
    "r2_score_valid_lnr_2 = r2_score(y_valid_2, predictions_valid_lnr_2)"
   ]
  },
  {
   "cell_type": "markdown",
   "metadata": {
    "pycharm": {
     "name": "#%% md\n"
    }
   },
   "source": [
    "#### Итоговая таблица РЕГИОН 2"
   ]
  },
  {
   "cell_type": "code",
   "execution_count": 99,
   "metadata": {
    "pycharm": {
     "name": "#%%\n"
    },
    "trusted": false
   },
   "outputs": [
    {
     "data": {
      "text/html": [
       "<div>\n",
       "<style scoped>\n",
       "    .dataframe tbody tr th:only-of-type {\n",
       "        vertical-align: middle;\n",
       "    }\n",
       "\n",
       "    .dataframe tbody tr th {\n",
       "        vertical-align: top;\n",
       "    }\n",
       "\n",
       "    .dataframe thead th {\n",
       "        text-align: right;\n",
       "    }\n",
       "</style>\n",
       "<table border=\"1\" class=\"dataframe\">\n",
       "  <thead>\n",
       "    <tr style=\"text-align: right;\">\n",
       "      <th></th>\n",
       "      <th>Выборка</th>\n",
       "      <th>Прогноз запаса сырья</th>\n",
       "      <th>MSE</th>\n",
       "      <th>RMSE</th>\n",
       "      <th>MAE</th>\n",
       "      <th>Коэффициент детерминации [R2]</th>\n",
       "    </tr>\n",
       "  </thead>\n",
       "  <tbody>\n",
       "    <tr>\n",
       "      <th>0</th>\n",
       "      <td>Тренировочная</td>\n",
       "      <td>95.038589</td>\n",
       "      <td>1605.144912</td>\n",
       "      <td>40.064260</td>\n",
       "      <td>32.839411</td>\n",
       "      <td>0.196614</td>\n",
       "    </tr>\n",
       "    <tr>\n",
       "      <th>1</th>\n",
       "      <td>Валидационная</td>\n",
       "      <td>94.965046</td>\n",
       "      <td>1602.377581</td>\n",
       "      <td>40.029709</td>\n",
       "      <td>32.792652</td>\n",
       "      <td>0.205248</td>\n",
       "    </tr>\n",
       "  </tbody>\n",
       "</table>\n",
       "</div>"
      ],
      "text/plain": [
       "         Выборка  Прогноз запаса сырья          MSE       RMSE        MAE  \\\n",
       "0  Тренировочная             95.038589  1605.144912  40.064260  32.839411   \n",
       "1  Валидационная             94.965046  1602.377581  40.029709  32.792652   \n",
       "\n",
       "   Коэффициент детерминации [R2]  \n",
       "0                       0.196614  \n",
       "1                       0.205248  "
      ]
     },
     "metadata": {},
     "output_type": "display_data"
    }
   ],
   "source": [
    "results_2 = pd.DataFrame({\n",
    "    'Выборка': ['Тренировочная', 'Валидационная'],\n",
    "    'Прогноз запаса сырья': [predictions_train_lnr_2.mean(), predictions_valid_lnr_2.mean()],\n",
    "    'MSE': [mse_train_lnr_2, mse_valid_lnr_2],\n",
    "    'RMSE': [rmse_train_lnr_2, rmse_valid_lnr_2],\n",
    "    'MAE': [mae_train_lnr_2, mae_valid_lnr_2],\n",
    "    'Коэффициент детерминации [R2]': [r2_score_train_lnr_2, r2_score_valid_lnr_2]})\n",
    "\n",
    "display(results_2)"
   ]
  },
  {
   "cell_type": "markdown",
   "metadata": {
    "pycharm": {
     "name": "#%% md\n"
    }
   },
   "source": [
    "### Вывод\n",
    "На этапе моделирования, обучения и оценки мы выполнили следующие действия:\n",
    "   - смоделировали и обучили простую (с одним предиктором) модель линейной регрессии для каждого региона;\n",
    "   - выполнили предсказание среднего объема сырья на тренировочных и валидационных данных по каждому региону;\n",
    "   - выполнили оценку моделей с помощью метрик линейной регрессии: `MSE`, `RMSE`, `MAE`, `R2_score`;\n",
    "   - близкие значения оценочных метрик на разных выборках говорят нам об отсутствии переобучения моделей;\n",
    "   - графики кривой обучения подтвердили отсутствие переобучения моделей и оптимально низкие значения MSE (кривая обучения сошлась с кривой кросс-валидации);\n",
    "   - самый высокий коэффициент детерминации `r2_score = 0.999` и самую низкую ошибку `RMSE = 0.89` демонстрирует модель линейной регрессии **Регион 1**, доля объясненной дисперсии признака `f2` практчески равна 100%. Это объяснимо, поскольку коэффициент корреляции между признаком `f2` и целевым признаком равен 1. Можно сказать, что данная модель идеально апроксимирует данные."
   ]
  },
  {
   "cell_type": "markdown",
   "metadata": {
    "pycharm": {
     "name": "#%% md\n"
    }
   },
   "source": [
    "## Подготовка к расчету прибыли\n",
    "### Сохраним все ключевые значения для расчётов в отдельных переменных."
   ]
  },
  {
   "cell_type": "code",
   "execution_count": 100,
   "metadata": {
    "pycharm": {
     "name": "#%%\n"
    },
    "trusted": false
   },
   "outputs": [],
   "source": [
    "# количество скважин для расчета\n",
    "NUMBER_WELLS = 200\n",
    "# бюджет на разработку по каждому региону, руб.\n",
    "BUDGET = 10000000000\n",
    "# бюджет на разработку одной скважины\n",
    "budget_one = BUDGET / NUMBER_WELLS\n",
    "# доходность с одного барреля нефти, руб.\n",
    "INCOME_BARREL = 450\n",
    "# порог допустимой вероятности убытков при разработке\n",
    "LOSS_PROBABILITY_THRESHOLD = 0.025\n",
    "# прогноз запасов сырья по регионам, тыс. баррелей\n",
    "stock_forecast_0 = pd.Series(predictions_valid_lnr_0)\n",
    "stock_forecast_1 = pd.Series(predictions_valid_lnr_1)\n",
    "stock_forecast_2 = pd.Series(predictions_valid_lnr_2)\n",
    "# реальные запасы сырья по регионам, тыс. баррелей\n",
    "real_stock_0 = y_valid_0\n",
    "real_stock_1 = y_valid_1\n",
    "real_stock_2 = y_valid_2"
   ]
  },
  {
   "cell_type": "markdown",
   "metadata": {
    "pycharm": {
     "name": "#%% md\n"
    }
   },
   "source": [
    "### Рассчитаем достаточный объём сырья для безубыточной разработки новой скважины. Сравним полученный объём сырья со средним запасом в каждом регионе."
   ]
  },
  {
   "cell_type": "code",
   "execution_count": 101,
   "metadata": {
    "pycharm": {
     "name": "#%%\n"
    },
    "trusted": false
   },
   "outputs": [
    {
     "name": "stdout",
     "output_type": "stream",
     "text": [
      "Достаточный объем сырья для безубыточной разработки новой скважины не менее 111.1 тыс.баррелей\n"
     ]
    }
   ],
   "source": [
    "volume_loss_free = round(budget_one / (INCOME_BARREL*1000), 1)\n",
    "print('Достаточный объем сырья для безубыточной разработки новой скважины не менее', volume_loss_free, 'тыс.баррелей')"
   ]
  },
  {
   "cell_type": "code",
   "execution_count": 102,
   "metadata": {
    "pycharm": {
     "name": "#%%\n"
    },
    "trusted": false
   },
   "outputs": [
    {
     "data": {
      "text/html": [
       "<div>\n",
       "<style scoped>\n",
       "    .dataframe tbody tr th:only-of-type {\n",
       "        vertical-align: middle;\n",
       "    }\n",
       "\n",
       "    .dataframe tbody tr th {\n",
       "        vertical-align: top;\n",
       "    }\n",
       "\n",
       "    .dataframe thead th {\n",
       "        text-align: right;\n",
       "    }\n",
       "</style>\n",
       "<table border=\"1\" class=\"dataframe\">\n",
       "  <thead>\n",
       "    <tr style=\"text-align: right;\">\n",
       "      <th></th>\n",
       "      <th>Регион</th>\n",
       "      <th>Объем сырья для безубыточной разработки, тыс.баррелей</th>\n",
       "      <th>Прогноз запасов сырья, тыс.баррелей</th>\n",
       "    </tr>\n",
       "  </thead>\n",
       "  <tbody>\n",
       "    <tr>\n",
       "      <th>0</th>\n",
       "      <td>Регион 0</td>\n",
       "      <td>111.1</td>\n",
       "      <td>92.592568</td>\n",
       "    </tr>\n",
       "    <tr>\n",
       "      <th>1</th>\n",
       "      <td>Регион 1</td>\n",
       "      <td>111.1</td>\n",
       "      <td>68.728547</td>\n",
       "    </tr>\n",
       "    <tr>\n",
       "      <th>2</th>\n",
       "      <td>Регион 2</td>\n",
       "      <td>111.1</td>\n",
       "      <td>94.965046</td>\n",
       "    </tr>\n",
       "  </tbody>\n",
       "</table>\n",
       "</div>"
      ],
      "text/plain": [
       "     Регион  Объем сырья для безубыточной разработки, тыс.баррелей  \\\n",
       "0  Регион 0                                              111.1       \n",
       "1  Регион 1                                              111.1       \n",
       "2  Регион 2                                              111.1       \n",
       "\n",
       "   Прогноз запасов сырья, тыс.баррелей  \n",
       "0                            92.592568  \n",
       "1                            68.728547  \n",
       "2                            94.965046  "
      ]
     },
     "metadata": {},
     "output_type": "display_data"
    }
   ],
   "source": [
    "results = pd.DataFrame({\n",
    "    'Регион': ['Регион 0', 'Регион 1', 'Регион 2'],\n",
    "    'Объем сырья для безубыточной разработки, тыс.баррелей': [volume_loss_free, volume_loss_free, volume_loss_free],\n",
    "    'Прогноз запасов сырья, тыс.баррелей': [predictions_valid_lnr_0.mean(), predictions_valid_lnr_1.mean(), predictions_valid_lnr_2.mean()]})\n",
    "\n",
    "display(results)"
   ]
  },
  {
   "cell_type": "markdown",
   "metadata": {
    "pycharm": {
     "name": "#%% md\n"
    }
   },
   "source": [
    "### Вывод\n",
    "Как видим, средний прогноз запасов сырья по регионам не превышает объем сырья, необходимого для безубыточной разработки новой скважины."
   ]
  },
  {
   "cell_type": "markdown",
   "metadata": {
    "pycharm": {
     "name": "#%% md\n"
    }
   },
   "source": [
    "## Функция расчета средней прибыли"
   ]
  },
  {
   "cell_type": "code",
   "execution_count": 103,
   "metadata": {
    "pycharm": {
     "name": "#%%\n"
    },
    "trusted": false
   },
   "outputs": [],
   "source": [
    "# функцию для расчёта прибыли по выбранным реальным скважинам и соответствующим предсказаниям модели\n",
    "def func_income(real_stock,forecast_stock):\n",
    "    '''\n",
    "    функция принимает на вход 500 объектов случайным образом из прогнозных запасов и реальные запасы сырья\n",
    "    :param real_stock:\n",
    "    :param forecast_stock:\n",
    "    функция возвращает среднее значение прибыли, рассчитанное из серии 200 значений прибыли\n",
    "    :return:\n",
    "    '''\n",
    "    volume = []\n",
    "    # ранжирование по убыванию и срез первых 200 объектов из прогнозных запасов сырья\n",
    "    max_predictions_volume = forecast_stock.sort_values(ascending=False).head(200)\n",
    "    # выборка соответствующих прогнозам объемов добычи из реальных скважин\n",
    "    for i in max_predictions_volume.index:\n",
    "        volume.append(real_stock.loc[i])\n",
    "    real_volume = pd.Series(volume, index=max_predictions_volume.index)\n",
    "    # возвращаем расчет средней прибыли\n",
    "    return round(real_volume.sum() * INCOME_BARREL * 1000 - BUDGET)"
   ]
  },
  {
   "cell_type": "markdown",
   "metadata": {
    "pycharm": {
     "name": "#%% md\n"
    }
   },
   "source": [
    "## Оценка рисков и прибыли для каждого региона\n",
    "### Применим технику Bootstrap с 1000 выборок для оценки прибыли и рисков"
   ]
  },
  {
   "cell_type": "code",
   "execution_count": 104,
   "metadata": {
    "pycharm": {
     "name": "#%%\n"
    },
    "trusted": false
   },
   "outputs": [],
   "source": [
    "state = np.random.RandomState(12345)\n",
    "# рассчитаем прибыль по регионам\n",
    "income_0 = []\n",
    "income_1 = []\n",
    "income_2 = []\n",
    "\n",
    "for i in range(1000):\n",
    "    # сформируем подвыборку с возвратом для каждого региона\n",
    "    subsample_0 = stock_forecast_0.sample(500, replace=True, random_state=state)\n",
    "    subsample_1 = stock_forecast_1.sample(500, replace=True, random_state=state)\n",
    "    subsample_2 = stock_forecast_2.sample(500, replace=True, random_state=state)\n",
    "    # рассчитаем среднюю прибыль по каждому региону\n",
    "    real_stock_0 = real_stock_0.reset_index(drop=True)\n",
    "    real_stock_1 = real_stock_1.reset_index(drop=True)\n",
    "    real_stock_2 = real_stock_2.reset_index(drop=True)\n",
    "    income_0.append(func_income(real_stock_0, subsample_0))\n",
    "    income_1.append(func_income(real_stock_1, subsample_1))\n",
    "    income_2.append(func_income(real_stock_2, subsample_2))\n",
    "\n",
    "# преобразуем в серию pandas\n",
    "income_0 = pd.Series(income_0)\n",
    "income_1 = pd.Series(income_1)\n",
    "income_2 = pd.Series(income_2)"
   ]
  },
  {
   "cell_type": "markdown",
   "metadata": {
    "pycharm": {
     "name": "#%% md\n"
    }
   },
   "source": [
    "### График распределения доходности по регионам"
   ]
  },
  {
   "cell_type": "code",
   "execution_count": 105,
   "metadata": {
    "pycharm": {
     "name": "#%%\n"
    },
    "trusted": false
   },
   "outputs": [
    {
     "data": {
      "image/png": "[encoded data removed]",
      "text/plain": [
       "<Figure size 2160x1440 with 3 Axes>"
      ]
     },
     "metadata": {},
     "output_type": "display_data"
    }
   ],
   "source": [
    "# Распределение средней доходности по регионам\n",
    "plt.rcParams['figure.figsize'] = 30, 20\n",
    "\n",
    "plt.subplot (3, 1, 1)\n",
    "plt.hist(income_0, bins=20)\n",
    "plt.title('РЕГИОН 0')\n",
    "\n",
    "plt.subplot (3, 1, 2)\n",
    "plt.hist(income_1, bins=20)\n",
    "plt.title('РЕГИОН 1')\n",
    "\n",
    "plt.subplot(3, 1, 3)\n",
    "plt.hist(income_2, bins=20)\n",
    "plt.title('РЕГИОН 2')\n",
    "plt.show()"
   ]
  },
  {
   "cell_type": "markdown",
   "metadata": {
    "pycharm": {
     "name": "#%% md\n"
    }
   },
   "source": [
    "### Рассчитаем среднюю прибыль"
   ]
  },
  {
   "cell_type": "code",
   "execution_count": 106,
   "metadata": {
    "pycharm": {
     "name": "#%%\n"
    },
    "trusted": false
   },
   "outputs": [],
   "source": [
    "avg_profit_0 = income_0.mean()\n",
    "avg_profit_1 = income_1.mean()\n",
    "avg_profit_2 = income_2.mean()"
   ]
  },
  {
   "cell_type": "markdown",
   "metadata": {
    "pycharm": {
     "name": "#%% md\n"
    }
   },
   "source": [
    "### Рассчитаем 95%-й доверительный интервал"
   ]
  },
  {
   "cell_type": "code",
   "execution_count": 107,
   "metadata": {
    "pycharm": {
     "name": "#%%\n"
    },
    "trusted": false
   },
   "outputs": [
    {
     "name": "stdout",
     "output_type": "stream",
     "text": [
      "95 % доверительный интервал средней доходности по региону 0: -148694266 802366203 руб.\n",
      "95 % доверительный интервал средней доходности по региону 1: 48072046 760886799 руб.\n",
      "95 % доверительный интервал средней доходности по региону 2: -146453456 767446531 руб.\n"
     ]
    }
   ],
   "source": [
    "lower_0 = round(income_0.quantile(0.025))\n",
    "upper_0 = round(income_0.quantile(0.925))\n",
    "lower_1 = round(income_1.quantile(0.025))\n",
    "upper_1 = round(income_1.quantile(0.925))\n",
    "lower_2 = round(income_2.quantile(0.025))\n",
    "upper_2 = round(income_2.quantile(0.925))\n",
    "\n",
    "print('95 % доверительный интервал средней доходности по региону 0:', lower_0, upper_0, 'руб.')\n",
    "print('95 % доверительный интервал средней доходности по региону 1:', lower_1, upper_1, 'руб.')\n",
    "print('95 % доверительный интервал средней доходности по региону 2:', lower_2, upper_2, 'руб.')"
   ]
  },
  {
   "cell_type": "markdown",
   "metadata": {
    "pycharm": {
     "name": "#%% md\n"
    }
   },
   "source": [
    "### Оценим риски\n",
    "Учитывая порог допустимой убыточности = 2,5 %, рассчитаем долю убытков, превышающих этот порог для каждого региона.\n",
    "#### Регион 0"
   ]
  },
  {
   "cell_type": "code",
   "execution_count": 108,
   "metadata": {
    "pycharm": {
     "name": "#%%\n"
    },
    "trusted": false
   },
   "outputs": [],
   "source": [
    "# Убытки, руб.\n",
    "losses_0 = income_0[income_0 < 0].count()\n",
    "# Риск убытков\n",
    "part_losses_0 = losses_0 / len(income_0)"
   ]
  },
  {
   "cell_type": "markdown",
   "metadata": {
    "pycharm": {
     "name": "#%% md\n"
    }
   },
   "source": [
    "#### Регион 1"
   ]
  },
  {
   "cell_type": "code",
   "execution_count": 109,
   "metadata": {
    "pycharm": {
     "name": "#%%\n"
    },
    "trusted": false
   },
   "outputs": [],
   "source": [
    "# Убытки, руб.\n",
    "losses_1 = income_1[income_1 < 0].count()\n",
    "\n",
    "# Риск убытков\n",
    "part_losses_1 = losses_1 / len(income_1)"
   ]
  },
  {
   "cell_type": "markdown",
   "metadata": {
    "pycharm": {
     "name": "#%% md\n"
    }
   },
   "source": [
    "#### Регион 2"
   ]
  },
  {
   "cell_type": "code",
   "execution_count": 110,
   "metadata": {
    "pycharm": {
     "name": "#%%\n"
    },
    "trusted": false
   },
   "outputs": [],
   "source": [
    "# Убытки, руб.\n",
    "losses_2 = income_2[income_2 < 0].count()\n",
    "\n",
    "# Риск убытков\n",
    "part_losses_2 = losses_2 / len(income_2)"
   ]
  },
  {
   "cell_type": "markdown",
   "metadata": {
    "pycharm": {
     "name": "#%% md\n"
    }
   },
   "source": [
    "## Итоговая таблица"
   ]
  },
  {
   "cell_type": "code",
   "execution_count": 111,
   "metadata": {
    "pycharm": {
     "name": "#%%\n"
    },
    "trusted": false
   },
   "outputs": [
    {
     "data": {
      "text/html": [
       "<div>\n",
       "<style scoped>\n",
       "    .dataframe tbody tr th:only-of-type {\n",
       "        vertical-align: middle;\n",
       "    }\n",
       "\n",
       "    .dataframe tbody tr th {\n",
       "        vertical-align: top;\n",
       "    }\n",
       "\n",
       "    .dataframe thead th {\n",
       "        text-align: right;\n",
       "    }\n",
       "</style>\n",
       "<table border=\"1\" class=\"dataframe\">\n",
       "  <thead>\n",
       "    <tr style=\"text-align: right;\">\n",
       "      <th></th>\n",
       "      <th>Регион</th>\n",
       "      <th>Средняя прибыль, руб.</th>\n",
       "      <th>Доля убытков, %</th>\n",
       "      <th>Прогноз, тыс.бар.</th>\n",
       "      <th>RMSE</th>\n",
       "      <th>R2</th>\n",
       "    </tr>\n",
       "  </thead>\n",
       "  <tbody>\n",
       "    <tr>\n",
       "      <th>0</th>\n",
       "      <td>Регион 0</td>\n",
       "      <td>384260329</td>\n",
       "      <td>8.3</td>\n",
       "      <td>93</td>\n",
       "      <td>37.58</td>\n",
       "      <td>0.28</td>\n",
       "    </tr>\n",
       "    <tr>\n",
       "      <th>1</th>\n",
       "      <td>Регион 1</td>\n",
       "      <td>455016072</td>\n",
       "      <td>1.5</td>\n",
       "      <td>69</td>\n",
       "      <td>0.89</td>\n",
       "      <td>1.00</td>\n",
       "    </tr>\n",
       "    <tr>\n",
       "      <th>2</th>\n",
       "      <td>Регион 2</td>\n",
       "      <td>380893248</td>\n",
       "      <td>9.0</td>\n",
       "      <td>95</td>\n",
       "      <td>40.00</td>\n",
       "      <td>0.21</td>\n",
       "    </tr>\n",
       "  </tbody>\n",
       "</table>\n",
       "</div>"
      ],
      "text/plain": [
       "     Регион  Средняя прибыль, руб.  Доля убытков, %  Прогноз, тыс.бар.   RMSE  \\\n",
       "0  Регион 0              384260329              8.3                 93  37.58   \n",
       "1  Регион 1              455016072              1.5                 69   0.89   \n",
       "2  Регион 2              380893248              9.0                 95  40.00   \n",
       "\n",
       "     R2  \n",
       "0  0.28  \n",
       "1  1.00  \n",
       "2  0.21  "
      ]
     },
     "metadata": {},
     "output_type": "display_data"
    }
   ],
   "source": [
    "risk_score = pd.DataFrame({\n",
    "    'Регион': ['Регион 0', 'Регион 1', 'Регион 2'],\n",
    "    'Средняя прибыль, руб.': [round(avg_profit_0), round(avg_profit_1), round(avg_profit_2)],\n",
    "    'Доля убытков, %': [round(part_losses_0*100, 2), round(part_losses_1*100, 2), round(part_losses_2*100, 2)],\n",
    "    'Прогноз, тыс.бар.': [round(predictions_valid_lnr_0.mean()), round(predictions_valid_lnr_1.mean()), round(predictions_valid_lnr_2.mean())],\n",
    "    'RMSE': [round(rmse_valid_lnr_0, 2), round(rmse_valid_lnr_1, 2), round(rmse_valid_lnr_2)],\n",
    "    'R2': [round(r2_score_valid_lnr_0, 2), round(r2_score_valid_lnr_1, 2), round(r2_score_valid_lnr_2, 2)]})\n",
    "\n",
    "display(risk_score)"
   ]
  },
  {
   "cell_type": "markdown",
   "metadata": {
    "pycharm": {
     "name": "#%% md\n"
    }
   },
   "source": [
    "## Общий вывод\n",
    "Лидер по условиям задачи - **Регион 1**:\n",
    "   - самая высокая средняя прибыль;\n",
    "   - доля убытков не превышает заданного порога допустимой убыточности = 2.5%;\n",
    "   - RMSE = 0.89, а коэффициент детерминации модели = 1, что говорит о 100%-ной доле объяснимой дисперсии нашей моделью."
   ]
  }
 ],
 "metadata": {
  "kernelspec": {
   "display_name": "Python 3.9.13 ('base')",
   "language": "python",
   "name": "python3"
  },
  "language_info": {
   "codemirror_mode": {
    "name": "ipython",
    "version": 3
   },
   "file_extension": ".py",
   "mimetype": "text/x-python",
   "name": "python",
   "nbconvert_exporter": "python",
   "pygments_lexer": "ipython3",
   "version": "3.9.13"
  },
  "toc": {
   "base_numbering": 1,
   "nav_menu": {},
   "number_sections": true,
   "sideBar": true,
   "skip_h1_title": true,
   "title_cell": "Содержание",
   "title_sidebar": "Contents",
   "toc_cell": true,
   "toc_position": {},
   "toc_section_display": true,
   "toc_window_display": false
  },
  "vscode": {
   "interpreter": {
    "hash": "98b2437ccc6ba9df22f10a9e500b8092eb6320bb483d1f9e646e8fcb0e101460"
   }
  }
 },
 "nbformat": 4,
 "nbformat_minor": 1
}
