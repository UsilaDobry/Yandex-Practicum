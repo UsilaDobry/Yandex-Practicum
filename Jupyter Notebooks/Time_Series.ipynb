{
 "cells": [
  {
   "cell_type": "markdown",
   "metadata": {
    "pycharm": {
     "name": "#%% md\n"
    },
    "toc": true
   },
   "source": [
    "<h1>Содержание<span class=\"tocSkip\"></span></h1>\n",
    "<div class=\"toc\"><ul class=\"toc-item\"><li><span><a href=\"#Импорт-библиотек-и-настройки\" data-toc-modified-id=\"Импорт-библиотек-и-настройки-1\"><span class=\"toc-item-num\">1&nbsp;&nbsp;</span>Импорт библиотек и настройки</a></span></li><li><span><a href=\"#Подготовка\" data-toc-modified-id=\"Подготовка-2\"><span class=\"toc-item-num\">2&nbsp;&nbsp;</span>Подготовка</a></span><ul class=\"toc-item\"><li><span><a href=\"#Загрузка-данных\" data-toc-modified-id=\"Загрузка-данных-2.1\"><span class=\"toc-item-num\">2.1&nbsp;&nbsp;</span>Загрузка данных</a></span></li><li><span><a href=\"#Ресемплирование-данных\" data-toc-modified-id=\"Ресемплирование-данных-2.2\"><span class=\"toc-item-num\">2.2&nbsp;&nbsp;</span>Ресемплирование данных</a></span></li><li><span><a href=\"#Вывод\" data-toc-modified-id=\"Вывод-2.3\"><span class=\"toc-item-num\">2.3&nbsp;&nbsp;</span>Вывод</a></span></li></ul></li><li><span><a href=\"#Анализ\" data-toc-modified-id=\"Анализ-3\"><span class=\"toc-item-num\">3&nbsp;&nbsp;</span>Анализ</a></span><ul class=\"toc-item\"><li><span><a href=\"#Конструирование-признаков\" data-toc-modified-id=\"Конструирование-признаков-3.1\"><span class=\"toc-item-num\">3.1&nbsp;&nbsp;</span>Конструирование признаков</a></span></li><li><span><a href=\"#Заказы-по-дате-(общая-тенденция)\" data-toc-modified-id=\"Заказы-по-дате-(общая-тенденция)-3.2\"><span class=\"toc-item-num\">3.2&nbsp;&nbsp;</span>Заказы по дате (общая тенденция)</a></span></li><li><span><a href=\"#Заказы-по-времени-(общая-тенденция)\" data-toc-modified-id=\"Заказы-по-времени-(общая-тенденция)-3.3\"><span class=\"toc-item-num\">3.3&nbsp;&nbsp;</span>Заказы по времени (общая тенденция)</a></span></li><li><span><a href=\"#Заказы-по-дням-недели-(общая-тенденция)\" data-toc-modified-id=\"Заказы-по-дням-недели-(общая-тенденция)-3.4\"><span class=\"toc-item-num\">3.4&nbsp;&nbsp;</span>Заказы по дням недели (общая тенденция)</a></span></li><li><span><a href=\"#Заказы-по-месяцам\" data-toc-modified-id=\"Заказы-по-месяцам-3.5\"><span class=\"toc-item-num\">3.5&nbsp;&nbsp;</span>Заказы по месяцам</a></span></li><li><span><a href=\"#Вывод\" data-toc-modified-id=\"Вывод-3.6\"><span class=\"toc-item-num\">3.6&nbsp;&nbsp;</span>Вывод</a></span></li></ul></li><li><span><a href=\"#Обучение-и-тестирование\" data-toc-modified-id=\"Обучение-и-тестирование-4\"><span class=\"toc-item-num\">4&nbsp;&nbsp;</span>Обучение и тестирование</a></span><ul class=\"toc-item\"><li><span><a href=\"#Дамми-кодирование-категориальных-признаков\" data-toc-modified-id=\"Дамми-кодирование-категориальных-признаков-4.1\"><span class=\"toc-item-num\">4.1&nbsp;&nbsp;</span>Дамми кодирование категориальных признаков</a></span></li><li><span><a href=\"#Разделение-данных-на-обучающую-и-тестовую-выборку\" data-toc-modified-id=\"Разделение-данных-на-обучающую-и-тестовую-выборку-4.2\"><span class=\"toc-item-num\">4.2&nbsp;&nbsp;</span>Разделение данных на обучающую и тестовую выборку</a></span></li><li><span><a href=\"#Масштабирование-данных\" data-toc-modified-id=\"Масштабирование-данных-4.3\"><span class=\"toc-item-num\">4.3&nbsp;&nbsp;</span>Масштабирование данных</a></span></li><li><span><a href=\"#Обучение-и-тестирование-набора-моделей\" data-toc-modified-id=\"Обучение-и-тестирование-набора-моделей-4.4\"><span class=\"toc-item-num\">4.4&nbsp;&nbsp;</span>Обучение и тестирование набора моделей</a></span></li><li><span><a href=\"#Выбор-оптимизированной-модели-по-алгоритму-TPOT-Auto-ML\" data-toc-modified-id=\"Выбор-оптимизированной-модели-по-алгоритму-TPOT-Auto-ML-4.5\"><span class=\"toc-item-num\">4.5&nbsp;&nbsp;</span>Выбор оптимизированной модели по алгоритму TPOT Auto ML</a></span></li><li><span><a href=\"#Сравнительная-таблица\" data-toc-modified-id=\"Сравнительная-таблица-4.6\"><span class=\"toc-item-num\">4.6&nbsp;&nbsp;</span>Сравнительная таблица</a></span></li><li><span><a href=\"#Вывод\" data-toc-modified-id=\"Вывод-4.7\"><span class=\"toc-item-num\">4.7&nbsp;&nbsp;</span>Вывод</a></span></li></ul></li></ul></div>"
   ]
  },
  {
   "cell_type": "markdown",
   "metadata": {
    "pycharm": {
     "name": "#%% md\n"
    }
   },
   "source": [
    "#  Прогнозирование заказов такси"
   ]
  },
  {
   "cell_type": "markdown",
   "metadata": {
    "pycharm": {
     "name": "#%% md\n"
    }
   },
   "source": [
    "Компания «Чётенькое такси» собрала исторические данные о заказах такси в аэропортах. Чтобы привлекать больше водителей в период пиковой нагрузки, нужно спрогнозировать количество заказов такси на следующий час. Постройте модель для такого предсказания.\n",
    "\n",
    "Значение метрики *RMSE* на тестовой выборке должно быть не больше 48.\n",
    "\n",
    "Вам нужно:\n",
    "\n",
    "1. Загрузить данные и выполнить их ресемплирование по одному часу.\n",
    "2. Проанализировать данные.\n",
    "3. Обучить разные модели с различными гиперпараметрами. Сделать тестовую выборку размером 10% от исходных данных.\n",
    "4. Проверить данные на тестовой выборке и сделать выводы."
   ]
  },
  {
   "cell_type": "markdown",
   "metadata": {
    "pycharm": {
     "name": "#%% md\n"
    }
   },
   "source": [
    "## Импорт библиотек и настройки"
   ]
  },
  {
   "cell_type": "code",
   "execution_count": 1,
   "metadata": {
    "pycharm": {
     "name": "#%%\n"
    }
   },
   "outputs": [],
   "source": [
    "import matplotlib.pyplot as plt\n",
    "from statsmodels.graphics.tsaplots import plot_acf\n",
    "from pyts.decomposition import SingularSpectrumAnalysis\n",
    "# data preprocessing\n",
    "import pandas as pd\n",
    "import numpy as np\n",
    "from sklearn.preprocessing import StandardScaler\n",
    "from sklearn.model_selection import train_test_split\n",
    "from sklearn.metrics import mean_squared_error\n",
    "from sklearn.model_selection import TimeSeriesSplit\n",
    "\n",
    "# data visualization\n",
    "import plotly\n",
    "import plotly.graph_objs as go\n",
    "import plotly.express as px\n",
    "from plotly.subplots import make_subplots\n",
    "\n",
    "# Algorithms\n",
    "from sklearn.linear_model import RidgeCV, ElasticNetCV, LassoCV\n",
    "from sklearn.ensemble import RandomForestRegressor\n",
    "from lightgbm import LGBMRegressor\n",
    "from xgboost import XGBRegressor\n",
    "from tpot import TPOTRegressor\n",
    "\n",
    "# отключаем предупреждения Anaconda\n",
    "import warnings\n",
    "warnings.simplefilter('ignore')"
   ]
  },
  {
   "cell_type": "markdown",
   "metadata": {
    "pycharm": {
     "name": "#%% md\n"
    }
   },
   "source": [
    "## Подготовка\n",
    "### Загрузка данных"
   ]
  },
  {
   "cell_type": "code",
   "execution_count": null,
   "metadata": {
    "pycharm": {
     "name": "#%%\n",
     "is_executing": true
    }
   },
   "outputs": [],
   "source": [
    "# сразу при загрузке приводим  нулевой столбец к типу datetime64\n",
    "# сразу переводим нулевой столбей в индекс\n",
    "data = pd.read_csv('./datasets/taxi.csv', parse_dates=[0], index_col=[0])\n",
    "# сортируем по индексу\n",
    "data.sort_index()\n",
    "print('Проверка на монотонность',data.index.is_monotonic)\n",
    "print('-------------------------------------------------------------')\n",
    "display(data)"
   ]
  },
  {
   "cell_type": "markdown",
   "metadata": {
    "pycharm": {
     "name": "#%% md\n"
    }
   },
   "source": [
    "### Ресемплирование данных"
   ]
  },
  {
   "cell_type": "code",
   "execution_count": null,
   "metadata": {
    "pycharm": {
     "name": "#%%\n"
    }
   },
   "outputs": [],
   "source": [
    "# понижаем частоту временного ряда с 10 минут до 1 часа\n",
    "data = data.resample('1H').sum()\n",
    "display(data)"
   ]
  },
  {
   "cell_type": "code",
   "execution_count": null,
   "metadata": {
    "pycharm": {
     "name": "#%%\n"
    }
   },
   "outputs": [],
   "source": [
    "print(data.info())"
   ]
  },
  {
   "cell_type": "markdown",
   "metadata": {
    "pycharm": {
     "name": "#%% md\n"
    }
   },
   "source": [
    "### Вывод\n",
    "На этапе подготовки данных мы выполнили следующие действия:\n",
    "   - выполнили загрузку данных;\n",
    "   - привели стобец с датами к типу datetime64;\n",
    "   - преобразовали наши данные во временной ряд (DateTimeIndex);\n",
    "   - проверили на монотонность данных;\n",
    "   - снизили частоту временного ряда."
   ]
  },
  {
   "cell_type": "markdown",
   "metadata": {
    "pycharm": {
     "name": "#%% md\n"
    }
   },
   "source": [
    "## Анализ\n",
    "### Конструирование признаков"
   ]
  },
  {
   "cell_type": "code",
   "execution_count": null,
   "metadata": {
    "pycharm": {
     "name": "#%%\n"
    }
   },
   "outputs": [],
   "source": [
    "# создадим несколько календарных признаков\n",
    "data['month'] = data.index.month\n",
    "data['hour'] = data.index.hour\n",
    "data['dayofweek'] = data.index.dayofweek\n",
    "# создадим признаки со скользящими средними: суточная и недельная\n",
    "data['rolling_mean_D'] = data['num_orders'].rolling(24).mean()\n",
    "data['rolling_mean_W'] = data['num_orders'].rolling(168).mean()\n",
    "# выполним нарезку данных по месяцам\n",
    "data_months = [data['2018-03-01':'2018-03-31'], data['2018-04-01':'2018-04-30'], data['2018-05-01':'2018-05-31'],\n",
    "               data['2018-06-01':'2018-06-30'], data['2018-07-01':'2018-07-31'], data['2018-08-01':'2018-08-31']]\n",
    "months = ['Март', 'Апрель', 'Май', 'Июнь', 'Июль', 'Август']\n",
    "display(data)"
   ]
  },
  {
   "cell_type": "markdown",
   "metadata": {
    "pycharm": {
     "name": "#%% md\n"
    }
   },
   "source": [
    "### Заказы по дате (общая тенденция)"
   ]
  },
  {
   "cell_type": "code",
   "execution_count": null,
   "metadata": {
    "pycharm": {
     "name": "#%%\n"
    }
   },
   "outputs": [],
   "source": [
    "fig = px.line(data, x=data.index, y=data.rolling_mean_D, title='Общая тенденция')\n",
    "fig.add_scatter(x=data.index, y=data.rolling_mean_W, mode='lines', name='weekly')\n",
    "fig.show()"
   ]
  },
  {
   "cell_type": "markdown",
   "metadata": {
    "pycharm": {
     "name": "#%% md\n"
    }
   },
   "source": [
    "### Заказы по времени (общая тенденция)"
   ]
  },
  {
   "cell_type": "code",
   "execution_count": null,
   "metadata": {
    "pycharm": {
     "name": "#%%\n"
    }
   },
   "outputs": [],
   "source": [
    "hour_group = data.groupby('hour').agg(func=sum).sort_values(by='num_orders', ascending=False)\n",
    "\n",
    "fig = px.bar(hour_group, x=hour_group.index, y='num_orders',\n",
    "             hover_data=['num_orders'], color='num_orders',\n",
    "             labels={'num_orders':'Заказы такси', 'hour':'часы'}, height=400)\n",
    "fig.show()"
   ]
  },
  {
   "cell_type": "markdown",
   "metadata": {
    "pycharm": {
     "name": "#%% md\n"
    }
   },
   "source": [
    "### Заказы по дням недели (общая тенденция)"
   ]
  },
  {
   "cell_type": "code",
   "execution_count": null,
   "metadata": {
    "pycharm": {
     "name": "#%%\n"
    }
   },
   "outputs": [],
   "source": [
    "weekday_group = data.groupby('dayofweek').agg(func=sum)\n",
    "fig = go.Figure()\n",
    "fig.add_trace(go.Pie(values=weekday_group.num_orders,\n",
    "                     labels=weekday_group.index,\n",
    "                     title='Заказы по дням недели (общая тенденция)',\n",
    "                     titleposition='bottom center'))\n",
    "fig.show()"
   ]
  },
  {
   "cell_type": "markdown",
   "metadata": {
    "pycharm": {
     "name": "#%% md\n"
    }
   },
   "source": [
    "### Заказы по месяцам"
   ]
  },
  {
   "cell_type": "code",
   "execution_count": null,
   "metadata": {
    "pycharm": {
     "name": "#%%\n"
    }
   },
   "outputs": [],
   "source": [
    "fig = go.Figure()\n",
    "fig.add_trace(go.Box(x=data_months[0].num_orders, name='март'))\n",
    "fig.add_trace(go.Box(x=data_months[1].num_orders, name='апрель'))\n",
    "fig.add_trace(go.Box(x=data_months[2].num_orders, name='май'))\n",
    "fig.add_trace(go.Box(x=data_months[3].num_orders, name='июнь'))\n",
    "fig.add_trace(go.Box(x=data_months[4].num_orders, name='июль'))\n",
    "fig.add_trace(go.Box(x=data_months[5].num_orders, name='август'))\n",
    "fig.update_layout(title=\"Сравнение количества заказов по месяцам\",\n",
    "                  xaxis_title=\"Количество заказов\")\n",
    "fig.show()"
   ]
  },
  {
   "cell_type": "markdown",
   "metadata": {
    "pycharm": {
     "name": "#%% md\n"
    }
   },
   "source": [
    "### Вывод\n",
    "На этапе анализа данных мы выполнили следующие действия:\n",
    "   - создали несколько дополнительных признаков: календарные (часы, месяцы, дни недели), скользящие средние\n",
    "    (суточная, недельная);\n",
    "   - выявили общую тенденцию на наборе данных - **тренд восходящий**;\n",
    "   - провели анализ заказов такси в суточном разрезе (на 24 часовой группировке):\n",
    "        1. наиболее активные часы для заказов: **00:00 час, 16:00 час, 02:00 час**.\n",
    "        2. наиболее активный период - **с 21:00 до 03:00**.\n",
    "        3. наименее активный период - **с 05:00 до 07:00**.\n",
    "   - провели анализ заказов такси в недельном разрезе (на группировке по дням недели):\n",
    "        1. наиболее активные дни недели для заказов: **пятница, понедельник, четверг**.\n",
    "        2. наименее активные дни для заказов: **вторник, воскресение**.\n",
    "   - провели сравнительный анализ по месяцам:\n",
    "        1. анализ подтвердил восходящий тренд;\n",
    "        2. данные за август в сравнени с начальным месяцем демонстрируют значительный размах:\n",
    "\n",
    "| Статистика | Март | Апрель | Май | Июнь | Июль | Август|\n",
    "|------------|------|--------|-----|------|------|-------|\n",
    "| min        | 1    | 0    | 2   | 6    | 11   | 13     |\n",
    "| 25%        | 39   | 43   | 53  | 61   | 76   | 91     |\n",
    "| 50%        | 55   | 61   | 71  | 83   | 98   | 122    |\n",
    "| 75%        | 75   | 80,5 | 92  | 103  | 122  | 160    |\n",
    "| max        | 182  | 253  | 234 | 229  | 251  | 462    |"
   ]
  },
  {
   "cell_type": "markdown",
   "metadata": {
    "pycharm": {
     "name": "#%% md\n"
    }
   },
   "source": [
    "## Обучение и тестирование\n",
    "### Дамми кодирование категориальных признаков"
   ]
  },
  {
   "cell_type": "code",
   "execution_count": null,
   "metadata": {
    "pycharm": {
     "name": "#%%\n"
    }
   },
   "outputs": [],
   "source": [
    "data_dammies = pd.get_dummies(data, columns=['month', 'hour', 'dayofweek'], drop_first=False)\n",
    "display(data_dammies.head(3))"
   ]
  },
  {
   "cell_type": "markdown",
   "metadata": {
    "pycharm": {
     "name": "#%% md\n"
    }
   },
   "source": [
    "### Разделение данных на обучающую и тестовую выборку"
   ]
  },
  {
   "cell_type": "code",
   "execution_count": null,
   "metadata": {
    "pycharm": {
     "name": "#%%\n"
    }
   },
   "outputs": [],
   "source": [
    "train, test = train_test_split(data_dammies, test_size=0.1, shuffle=False, random_state=12345)\n",
    "train = train.dropna()\n",
    "\n",
    "print(train.shape)\n",
    "print(test.shape)\n",
    "\n",
    "X_train = train.drop('num_orders', axis=1)\n",
    "y_train = train['num_orders']\n",
    "X_test = test.drop('num_orders', axis=1)\n",
    "y_test = test['num_orders']"
   ]
  },
  {
   "cell_type": "markdown",
   "metadata": {
    "pycharm": {
     "name": "#%% md\n"
    }
   },
   "source": [
    "### Масштабирование данных"
   ]
  },
  {
   "cell_type": "code",
   "execution_count": null,
   "metadata": {
    "pycharm": {
     "name": "#%%\n"
    }
   },
   "outputs": [],
   "source": [
    "sc = StandardScaler()\n",
    "# вычислим параметры μ (эмпирическое среднее) и σ (стандартное отклонение) для каждой размерности признаков из тренировочных данных\n",
    "sc.fit(X_train)\n",
    "# стандартизируем данные, используя для этого расчетные параметры μ и σ.\n",
    "X_train_std = sc.transform(X_train)\n",
    "X_test_std = sc.transform(X_test)"
   ]
  },
  {
   "cell_type": "markdown",
   "metadata": {
    "pycharm": {
     "name": "#%% md\n"
    }
   },
   "source": [
    "### Обучение и тестирование набора моделей\n",
    "Для обучения и сравнения выберим следующие алгоритмы для моделирования:\n",
    "   - Регуляризованная линейная модель гребневой регрессии `Ridge` (L2 регуляризация)\n",
    "   - Регуляризованная линейная модель лассо регрессии `Lasso` (L1 регуляризация)\n",
    "   - Регуляризованная линейная модель регрессии эластичная сетка `ElasticNet` (L1,L2 регуляризации)\n",
    "   - Ансамбль `Random Forest` (мажоритарное голосование)\n",
    "   - Ансамбль `Light GBM` (градиентный бустинг)\n",
    "   - Ансамбль `XGB Boost` (градиентный бустинг)"
   ]
  },
  {
   "cell_type": "code",
   "execution_count": null,
   "metadata": {
    "pycharm": {
     "name": "#%%\n"
    }
   },
   "outputs": [],
   "source": [
    "tscv = TimeSeriesSplit()\n",
    "models = [RidgeCV(alphas=[.1, 1, 10], cv=tscv),\n",
    "          LassoCV(alphas=[.1, 1, 10], cv=tscv),\n",
    "          ElasticNetCV(l1_ratio=[.1, .5, .7, .9, .95, .99, 1], alphas=[.1, 1, 10], cv=tscv),\n",
    "          RandomForestRegressor(),\n",
    "          LGBMRegressor(),\n",
    "          XGBRegressor()]\n",
    "pred_train = []\n",
    "pred_test = []\n",
    "rmse_train = []\n",
    "rmse_test = []\n",
    "\n",
    "for m in models:\n",
    "    # обучение\n",
    "    m.fit(X_train_std, y_train)\n",
    "    # прогноз на тренировочной выборке\n",
    "    prediction_train = m.predict(X_train_std)\n",
    "    # прогноз на тестовой выборке\n",
    "    prediction_test = m.predict(X_test_std)\n",
    "    # сохранение результатов прогнозирования\n",
    "    pred_train.append(prediction_train)\n",
    "    pred_test.append(prediction_test)\n",
    "    # оценка прогнозирование\n",
    "    rmse_train.append(round(np.sqrt(mean_squared_error(y_train, prediction_train))))\n",
    "    rmse_test.append(round(np.sqrt(mean_squared_error(y_test, prediction_test))))"
   ]
  },
  {
   "cell_type": "markdown",
   "metadata": {
    "pycharm": {
     "name": "#%% md\n"
    }
   },
   "source": [
    "### Выбор оптимизированной модели по алгоритму TPOT Auto ML"
   ]
  },
  {
   "cell_type": "code",
   "execution_count": null,
   "metadata": {
    "pycharm": {
     "name": "#%%\n"
    }
   },
   "outputs": [],
   "source": [
    "tpot = TPOTRegressor(generations=5, population_size=5, verbosity=2, n_jobs=-1, random_state=12345, cv=tscv)\n",
    "tpot.fit(X_train, y_train)\n",
    "tpot_pred_train = tpot.predict(X_train)\n",
    "tpot_pred_test = tpot.predict(X_test)\n",
    "tpot_rmse_train = round(np.sqrt(mean_squared_error(y_train, tpot_pred_train)))\n",
    "tpot_rmse_test = round(np.sqrt(mean_squared_error(y_test, tpot_pred_test)))"
   ]
  },
  {
   "cell_type": "markdown",
   "metadata": {
    "pycharm": {
     "name": "#%% md\n"
    }
   },
   "source": [
    "### Сравнительная таблица"
   ]
  },
  {
   "cell_type": "code",
   "execution_count": null,
   "metadata": {
    "pycharm": {
     "name": "#%%\n"
    }
   },
   "outputs": [],
   "source": [
    "comparison_table = pd.DataFrame({\n",
    "    'Model': ['RidgeCV', 'LassoCV', 'ElasticNetCV', 'RandomForestRegressor',\n",
    "              'LGBMRegressor', 'XGBRegressor', 'TPOTRegressor AutoML'],\n",
    "    'RMSE train': [rmse_train[0], rmse_train[1], rmse_train[2], rmse_train[3],\n",
    "                   rmse_train[4], rmse_train[5], tpot_rmse_train],\n",
    "    'RMSE test': [rmse_test[0], rmse_test[1], rmse_test[2], rmse_test[3], rmse_test[4],\n",
    "                  rmse_test[5], tpot_rmse_test]})\n",
    "\n",
    "display(comparison_table)"
   ]
  },
  {
   "cell_type": "markdown",
   "metadata": {
    "pycharm": {
     "name": "#%% md\n"
    }
   },
   "source": [
    "### Вывод\n",
    "В ходе этапа обучения и тестирования мы выполнили следующие действия:\n",
    "   - выполнили дамми кодирование категориальных признаков: `hour`, `month`, `dayofweek`;\n",
    "   - разделили данные на обучающую и тестовую выборки в отношении 9:1;\n",
    "   - выполнили шкалирование признаков посредством стандартизации;\n",
    "   - обучили и протестировали набор регрессионных моделей;\n",
    "   - обучили и протестировали модель по алгоритму TPOT Auto ML;\n",
    "   - на тестовой выборке удовлетворительного значения RMSE < 48 достгли модели:\n",
    "        1. auto ML - **TPOTRegressor**:\n",
    "        2. регуляризованные модели: **RidgeCV, LassoCV, ElasticNetCV**;\n",
    "        3. градиентный бустинг - **LGBMRegressor**\n",
    "   - наилучшую оценку на тестовой выборке продемонстрировала модель **TPOTRegressor AutoML**, предложившая Best\n",
    "   pipeline с параметрами: `ExtraTreesRegressor(GradientBoostingRegressor(input_matrix, alpha=0.8, learning_rate=0.1, loss=lad,\n",
    "   max_depth=6, max_features=0.7000000000000001, min_samples_leaf=7, min_samples_split=2, n_estimators=100, subsample=0.2), bootstrap=True, max_features=0.7500000000000001, min_samples_leaf=7, min_samples_split=17, n_estimators=100)`;\n",
    "   - ансамбли: **RandomForestRegressor, XGBRegressor** показали худшую метрику и самое сильное переобучение.\n",
    "   - принимая в учет качество обучения, для прогнозирования заказов такси рекомендуются регуляризованные\n",
    "   модели: **RidgeCV, LassoCV, ElasticNetC**."
   ]
  }
 ],
 "metadata": {
  "ExecuteTimeLog": [
   {
    "duration": 1686,
    "start_time": "2022-07-06T12:27:49.774Z"
   },
   {
    "duration": 0,
    "start_time": "2022-07-06T12:27:51.461Z"
   },
   {
    "duration": 0,
    "start_time": "2022-07-06T12:27:51.463Z"
   },
   {
    "duration": 0,
    "start_time": "2022-07-06T12:27:51.464Z"
   },
   {
    "duration": 0,
    "start_time": "2022-07-06T12:27:51.465Z"
   },
   {
    "duration": 0,
    "start_time": "2022-07-06T12:27:51.466Z"
   },
   {
    "duration": 0,
    "start_time": "2022-07-06T12:27:51.468Z"
   },
   {
    "duration": 0,
    "start_time": "2022-07-06T12:27:51.469Z"
   },
   {
    "duration": 0,
    "start_time": "2022-07-06T12:27:51.471Z"
   },
   {
    "duration": 0,
    "start_time": "2022-07-06T12:27:51.472Z"
   },
   {
    "duration": 0,
    "start_time": "2022-07-06T12:27:51.474Z"
   },
   {
    "duration": 0,
    "start_time": "2022-07-06T12:27:51.476Z"
   },
   {
    "duration": 0,
    "start_time": "2022-07-06T12:27:51.477Z"
   },
   {
    "duration": 0,
    "start_time": "2022-07-06T12:27:51.478Z"
   },
   {
    "duration": 0,
    "start_time": "2022-07-06T12:27:51.480Z"
   },
   {
    "duration": 4191,
    "start_time": "2022-07-06T12:33:10.292Z"
   },
   {
    "duration": 680,
    "start_time": "2022-07-06T12:33:16.255Z"
   },
   {
    "duration": 99,
    "start_time": "2022-07-06T12:33:29.972Z"
   },
   {
    "duration": 106,
    "start_time": "2022-07-06T12:33:47.045Z"
   },
   {
    "duration": 18,
    "start_time": "2022-07-06T12:34:05.364Z"
   },
   {
    "duration": 11,
    "start_time": "2022-07-06T12:34:07.820Z"
   },
   {
    "duration": 106,
    "start_time": "2022-07-06T12:40:08.622Z"
   },
   {
    "duration": 737,
    "start_time": "2022-07-06T12:40:26.414Z"
   },
   {
    "duration": 20,
    "start_time": "2022-07-06T12:40:46.309Z"
   },
   {
    "duration": 15,
    "start_time": "2022-07-06T12:41:10.457Z"
   },
   {
    "duration": 20,
    "start_time": "2022-07-06T12:41:26.661Z"
   },
   {
    "duration": 22,
    "start_time": "2022-07-06T12:43:34.105Z"
   },
   {
    "duration": 13,
    "start_time": "2022-07-06T12:43:51.471Z"
   },
   {
    "duration": 12,
    "start_time": "2022-07-06T12:44:07.950Z"
   },
   {
    "duration": 283094,
    "start_time": "2022-07-06T12:49:20.206Z"
   },
   {
    "duration": 369806,
    "start_time": "2022-07-06T12:54:20.702Z"
   },
   {
    "duration": 100,
    "start_time": "2022-07-06T13:01:26.802Z"
   },
   {
    "duration": 1585,
    "start_time": "2022-07-07T10:34:35.551Z"
   },
   {
    "duration": 0,
    "start_time": "2022-07-07T10:34:37.138Z"
   },
   {
    "duration": 0,
    "start_time": "2022-07-07T10:34:37.139Z"
   },
   {
    "duration": 0,
    "start_time": "2022-07-07T10:34:37.141Z"
   },
   {
    "duration": 0,
    "start_time": "2022-07-07T10:34:37.142Z"
   },
   {
    "duration": 1,
    "start_time": "2022-07-07T10:34:37.144Z"
   },
   {
    "duration": 0,
    "start_time": "2022-07-07T10:34:37.146Z"
   },
   {
    "duration": 0,
    "start_time": "2022-07-07T10:34:37.147Z"
   },
   {
    "duration": 0,
    "start_time": "2022-07-07T10:34:37.148Z"
   },
   {
    "duration": 0,
    "start_time": "2022-07-07T10:34:37.149Z"
   },
   {
    "duration": 0,
    "start_time": "2022-07-07T10:34:37.150Z"
   },
   {
    "duration": 0,
    "start_time": "2022-07-07T10:34:37.151Z"
   },
   {
    "duration": 0,
    "start_time": "2022-07-07T10:34:37.152Z"
   },
   {
    "duration": 0,
    "start_time": "2022-07-07T10:34:37.153Z"
   },
   {
    "duration": 0,
    "start_time": "2022-07-07T10:34:37.154Z"
   },
   {
    "duration": 4595,
    "start_time": "2022-07-07T10:35:13.233Z"
   },
   {
    "duration": 2087,
    "start_time": "2022-07-07T10:35:17.830Z"
   },
   {
    "duration": 104,
    "start_time": "2022-07-07T10:35:19.919Z"
   },
   {
    "duration": 14,
    "start_time": "2022-07-07T10:35:20.024Z"
   },
   {
    "duration": 11,
    "start_time": "2022-07-07T10:35:20.040Z"
   },
   {
    "duration": 45,
    "start_time": "2022-07-07T10:35:20.053Z"
   },
   {
    "duration": 758,
    "start_time": "2022-07-07T10:35:20.100Z"
   },
   {
    "duration": 88,
    "start_time": "2022-07-07T10:35:20.859Z"
   },
   {
    "duration": 19,
    "start_time": "2022-07-07T10:35:20.948Z"
   },
   {
    "duration": 21,
    "start_time": "2022-07-07T10:35:20.969Z"
   },
   {
    "duration": 23,
    "start_time": "2022-07-07T10:35:20.991Z"
   },
   {
    "duration": 12,
    "start_time": "2022-07-07T10:35:21.045Z"
   },
   {
    "duration": 11,
    "start_time": "2022-07-07T10:35:21.059Z"
   },
   {
    "duration": 9476,
    "start_time": "2022-07-07T10:35:21.072Z"
   },
   {
    "duration": 87296,
    "start_time": "2022-07-07T10:35:30.550Z"
   },
   {
    "duration": 102,
    "start_time": "2022-07-07T10:36:57.850Z"
   },
   {
    "duration": 12,
    "start_time": "2022-07-07T10:37:09.247Z"
   },
   {
    "duration": 3,
    "start_time": "2022-07-07T10:38:46.863Z"
   },
   {
    "duration": 4,
    "start_time": "2022-07-07T10:38:51.250Z"
   },
   {
    "duration": 62,
    "start_time": "2022-07-07T10:38:59.187Z"
   },
   {
    "duration": 202,
    "start_time": "2022-07-07T10:40:04.375Z"
   },
   {
    "duration": 51,
    "start_time": "2022-07-07T10:41:02.642Z"
   },
   {
    "duration": 4386,
    "start_time": "2022-07-07T10:59:29.561Z"
   },
   {
    "duration": 1778,
    "start_time": "2022-07-07T10:59:33.949Z"
   },
   {
    "duration": 151,
    "start_time": "2022-07-07T10:59:35.728Z"
   },
   {
    "duration": 12,
    "start_time": "2022-07-07T10:59:35.881Z"
   },
   {
    "duration": 9,
    "start_time": "2022-07-07T10:59:35.894Z"
   },
   {
    "duration": 30,
    "start_time": "2022-07-07T10:59:35.904Z"
   },
   {
    "duration": 691,
    "start_time": "2022-07-07T10:59:35.935Z"
   },
   {
    "duration": 80,
    "start_time": "2022-07-07T10:59:36.628Z"
   },
   {
    "duration": 14,
    "start_time": "2022-07-07T10:59:36.710Z"
   },
   {
    "duration": 33,
    "start_time": "2022-07-07T10:59:36.726Z"
   },
   {
    "duration": 20,
    "start_time": "2022-07-07T10:59:36.761Z"
   },
   {
    "duration": 11,
    "start_time": "2022-07-07T10:59:36.782Z"
   },
   {
    "duration": 11,
    "start_time": "2022-07-07T10:59:36.802Z"
   },
   {
    "duration": 28592,
    "start_time": "2022-07-07T10:59:36.814Z"
   }
  ],
  "kernelspec": {
   "display_name": "Python 3 (ipykernel)",
   "language": "python",
   "name": "python3"
  },
  "language_info": {
   "codemirror_mode": {
    "name": "ipython",
    "version": 3
   },
   "file_extension": ".py",
   "mimetype": "text/x-python",
   "name": "python",
   "nbconvert_exporter": "python",
   "pygments_lexer": "ipython3",
   "version": "3.9.5"
  },
  "toc": {
   "base_numbering": 1,
   "nav_menu": {},
   "number_sections": true,
   "sideBar": true,
   "skip_h1_title": true,
   "title_cell": "Содержание",
   "title_sidebar": "Contents",
   "toc_cell": true,
   "toc_position": {},
   "toc_section_display": true,
   "toc_window_display": false
  }
 },
 "nbformat": 4,
 "nbformat_minor": 2
}