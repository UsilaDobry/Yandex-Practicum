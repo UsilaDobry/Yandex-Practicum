{
 "cells": [
  {
   "cell_type": "markdown",
   "metadata": {
    "pycharm": {
     "name": "#%% md\n"
    },
    "toc": true
   },
   "source": [
    "<h1>Содержание<span class=\"tocSkip\"></span></h1>\n",
    "<div class=\"toc\"><ul class=\"toc-item\"><li><span><a href=\"#Описание-проекта\" data-toc-modified-id=\"Описание-проекта-1\"><span class=\"toc-item-num\">1&nbsp;&nbsp;</span>Описание проекта</a></span><ul class=\"toc-item\"><li><span><a href=\"#Описание-тарифов\" data-toc-modified-id=\"Описание-тарифов-1.1\"><span class=\"toc-item-num\">1.1&nbsp;&nbsp;</span>Описание тарифов</a></span></li></ul></li><li><span><a href=\"#Изучение-данных\" data-toc-modified-id=\"Изучение-данных-2\"><span class=\"toc-item-num\">2&nbsp;&nbsp;</span>Изучение данных</a></span><ul class=\"toc-item\"><li><span><a href=\"#Таблица-calls-(информация-о-звонках):\" data-toc-modified-id=\"Таблица-calls-(информация-о-звонках):-2.1\"><span class=\"toc-item-num\">2.1&nbsp;&nbsp;</span>Таблица calls (информация о звонках):</a></span></li><li><span><a href=\"#Таблица-internet-(информация-об-интернет-сессиях):\" data-toc-modified-id=\"Таблица-internet-(информация-об-интернет-сессиях):-2.2\"><span class=\"toc-item-num\">2.2&nbsp;&nbsp;</span>Таблица internet (информация об интернет-сессиях):</a></span></li><li><span><a href=\"#Таблица-messages-(информация-о-сообщениях):\" data-toc-modified-id=\"Таблица-messages-(информация-о-сообщениях):-2.3\"><span class=\"toc-item-num\">2.3&nbsp;&nbsp;</span>Таблица messages (информация о сообщениях):</a></span></li><li><span><a href=\"#Таблица-tariffs-(информация-о-тарифах):\" data-toc-modified-id=\"Таблица-tariffs-(информация-о-тарифах):-2.4\"><span class=\"toc-item-num\">2.4&nbsp;&nbsp;</span>Таблица tariffs (информация о тарифах):</a></span></li><li><span><a href=\"#Таблица-users-(информация-о-пользователях):\" data-toc-modified-id=\"Таблица-users-(информация-о-пользователях):-2.5\"><span class=\"toc-item-num\">2.5&nbsp;&nbsp;</span>Таблица users (информация о пользователях):</a></span></li></ul></li><li><span><a href=\"#Предобработка-данных\" data-toc-modified-id=\"Предобработка-данных-3\"><span class=\"toc-item-num\">3&nbsp;&nbsp;</span>Предобработка данных</a></span><ul class=\"toc-item\"><li><span><a href=\"#Поиск-аномалий-и-их-исправление\" data-toc-modified-id=\"Поиск-аномалий-и-их-исправление-3.1\"><span class=\"toc-item-num\">3.1&nbsp;&nbsp;</span>Поиск аномалий и их исправление</a></span><ul class=\"toc-item\"><li><span><a href=\"#Таблица-calls\" data-toc-modified-id=\"Таблица-calls-3.1.1\"><span class=\"toc-item-num\">3.1.1&nbsp;&nbsp;</span>Таблица calls</a></span></li><li><span><a href=\"#Таблица-internet\" data-toc-modified-id=\"Таблица-internet-3.1.2\"><span class=\"toc-item-num\">3.1.2&nbsp;&nbsp;</span>Таблица internet</a></span></li><li><span><a href=\"#Таблица-messages\" data-toc-modified-id=\"Таблица-messages-3.1.3\"><span class=\"toc-item-num\">3.1.3&nbsp;&nbsp;</span>Таблица messages</a></span></li><li><span><a href=\"#Таблица-tariffs\" data-toc-modified-id=\"Таблица-tariffs-3.1.4\"><span class=\"toc-item-num\">3.1.4&nbsp;&nbsp;</span>Таблица tariffs</a></span></li><li><span><a href=\"#Таблица-users\" data-toc-modified-id=\"Таблица-users-3.1.5\"><span class=\"toc-item-num\">3.1.5&nbsp;&nbsp;</span>Таблица users</a></span></li></ul></li><li><span><a href=\"#Приведение-данных-к-нужным-типам\" data-toc-modified-id=\"Приведение-данных-к-нужным-типам-3.2\"><span class=\"toc-item-num\">3.2&nbsp;&nbsp;</span>Приведение данных к нужным типам</a></span></li><li><span><a href=\"#Дополнительные-расчеты.\" data-toc-modified-id=\"Дополнительные-расчеты.-3.3\"><span class=\"toc-item-num\">3.3&nbsp;&nbsp;</span>Дополнительные расчеты.</a></span><ul class=\"toc-item\"><li><span><a href=\"#Количество-сделанных-звонков-пользователем-по-месяцам\" data-toc-modified-id=\"Количество-сделанных-звонков-пользователем-по-месяцам-3.3.1\"><span class=\"toc-item-num\">3.3.1&nbsp;&nbsp;</span>Количество сделанных звонков пользователем по месяцам</a></span></li><li><span><a href=\"#Количество-израсходованных-минут-разговора-пользователем-по-месяцам\" data-toc-modified-id=\"Количество-израсходованных-минут-разговора-пользователем-по-месяцам-3.3.2\"><span class=\"toc-item-num\">3.3.2&nbsp;&nbsp;</span>Количество израсходованных минут разговора пользователем по месяцам</a></span></li><li><span><a href=\"#Количество-отправленных-сообщений-пользователем-по-месяцам\" data-toc-modified-id=\"Количество-отправленных-сообщений-пользователем-по-месяцам-3.3.3\"><span class=\"toc-item-num\">3.3.3&nbsp;&nbsp;</span>Количество отправленных сообщений пользователем по месяцам</a></span></li><li><span><a href=\"#Объем-израсходованного-интернет-трафика-по-месяцам\" data-toc-modified-id=\"Объем-израсходованного-интернет-трафика-по-месяцам-3.3.4\"><span class=\"toc-item-num\">3.3.4&nbsp;&nbsp;</span>Объем израсходованного интернет-трафика по месяцам</a></span></li><li><span><a href=\"#Помесячная-выручка-с-каждого-пользователя\" data-toc-modified-id=\"Помесячная-выручка-с-каждого-пользователя-3.3.5\"><span class=\"toc-item-num\">3.3.5&nbsp;&nbsp;</span>Помесячная выручка с каждого пользователя</a></span></li></ul></li></ul></li><li><span><a href=\"#Анализ-данных\" data-toc-modified-id=\"Анализ-данных-4\"><span class=\"toc-item-num\">4&nbsp;&nbsp;</span>Анализ данных</a></span></li><li><span><a href=\"#Проверка-гипотез\" data-toc-modified-id=\"Проверка-гипотез-5\"><span class=\"toc-item-num\">5&nbsp;&nbsp;</span>Проверка гипотез</a></span><ul class=\"toc-item\"><li><span><a href=\"#Гипотеза-1\" data-toc-modified-id=\"Гипотеза-1-5.1\"><span class=\"toc-item-num\">5.1&nbsp;&nbsp;</span>Гипотеза 1</a></span></li><li><span><a href=\"#Гипотеза-2\" data-toc-modified-id=\"Гипотеза-2-5.2\"><span class=\"toc-item-num\">5.2&nbsp;&nbsp;</span>Гипотеза 2</a></span></li></ul></li><li><span><a href=\"#Общий-вывод\" data-toc-modified-id=\"Общий-вывод-6\"><span class=\"toc-item-num\">6&nbsp;&nbsp;</span>Общий вывод</a></span><ul class=\"toc-item\"><li><span><a href=\"#Опыт-1-(проверка-гипотезы-1)\" data-toc-modified-id=\"Опыт-1-(проверка-гипотезы-1)-6.1\"><span class=\"toc-item-num\">6.1&nbsp;&nbsp;</span>Опыт 1 (проверка гипотезы 1)</a></span></li><li><span><a href=\"#Опыт-2-(проверка-гипотезы-2)\" data-toc-modified-id=\"Опыт-2-(проверка-гипотезы-2)-6.2\"><span class=\"toc-item-num\">6.2&nbsp;&nbsp;</span>Опыт 2 (проверка гипотезы 2)</a></span></li></ul></li></ul></div>"
   ]
  },
  {
   "cell_type": "markdown",
   "metadata": {
    "collapsed": true,
    "pycharm": {
     "name": "#%% md\n"
    }
   },
   "source": [
    "<a id='beginning'></a>\n",
    "# Определение перспективного тарифа для телеком-компании\n",
    "\n",
    "### Цель исследования\n",
    "Дать аналитическую оценку доходной привлекательности  предложенных тарифов для корректировки рекламного бюджета компании-заказчика.\n",
    "\n",
    "### Ход исследования\n",
    "\n",
    " 1. Изучение данных из файла.\n",
    " 2. Предобработка данных.\n",
    "    - Поиск аномалий и исправление.\n",
    "    - Обработка пропущенных значений.\n",
    "    - Приведение к оптимальным типам.\n",
    "    - Дополнительны рачеты.\n",
    " 3. Анализ данных.\n",
    " 4. Проверка гипотез.\n",
    " 5. Общий вывод."
   ]
  },
  {
   "cell_type": "code",
   "execution_count": 952,
   "metadata": {
    "pycharm": {
     "name": "#%%\n"
    }
   },
   "outputs": [],
   "source": [
    "# импорт библиотек\n",
    "import pandas as pd\n",
    "import numpy as np\n",
    "import scipy.stats as st\n",
    "import matplotlib.pyplot as plt\n",
    "import pylab\n",
    "import seaborn as sns\n",
    "from datetime import datetime\n",
    "\n",
    "%matplotlib inline\n",
    "# задаем размер окна графика\n",
    "plt.rcParams['figure.figsize'] = 30, 10\n",
    "# задаем эстетические параметры визуализации графиков\n",
    "sns.set(context='talk', style='darkgrid', palette='muted', font='sans-serif', font_scale=1.5, color_codes=False, rc=None)"
   ]
  },
  {
   "cell_type": "markdown",
   "metadata": {
    "pycharm": {
     "name": "#%% md\n"
    }
   },
   "source": [
    "## Изучение данных\n",
    "### Таблица calls (информация о звонках):\n",
    "- `id` — уникальный номер звонка\n",
    "- `call_date` — дата звонка\n",
    "- `duration` — длительность звонка в минутах\n",
    "- `user_id` — идентификатор пользователя, сделавшего звонок"
   ]
  },
  {
   "cell_type": "code",
   "execution_count": 953,
   "metadata": {
    "pycharm": {
     "name": "#%%\n"
    }
   },
   "outputs": [
    {
     "data": {
      "text/html": [
       "<div>\n",
       "<style scoped>\n",
       "    .dataframe tbody tr th:only-of-type {\n",
       "        vertical-align: middle;\n",
       "    }\n",
       "\n",
       "    .dataframe tbody tr th {\n",
       "        vertical-align: top;\n",
       "    }\n",
       "\n",
       "    .dataframe thead th {\n",
       "        text-align: right;\n",
       "    }\n",
       "</style>\n",
       "<table border=\"1\" class=\"dataframe\">\n",
       "  <thead>\n",
       "    <tr style=\"text-align: right;\">\n",
       "      <th></th>\n",
       "      <th>id</th>\n",
       "      <th>call_date</th>\n",
       "      <th>duration</th>\n",
       "      <th>user_id</th>\n",
       "    </tr>\n",
       "  </thead>\n",
       "  <tbody>\n",
       "    <tr>\n",
       "      <th>0</th>\n",
       "      <td>1000_0</td>\n",
       "      <td>2018-07-25</td>\n",
       "      <td>0.00</td>\n",
       "      <td>1000</td>\n",
       "    </tr>\n",
       "    <tr>\n",
       "      <th>1</th>\n",
       "      <td>1000_1</td>\n",
       "      <td>2018-08-17</td>\n",
       "      <td>0.00</td>\n",
       "      <td>1000</td>\n",
       "    </tr>\n",
       "    <tr>\n",
       "      <th>2</th>\n",
       "      <td>1000_2</td>\n",
       "      <td>2018-06-11</td>\n",
       "      <td>2.85</td>\n",
       "      <td>1000</td>\n",
       "    </tr>\n",
       "    <tr>\n",
       "      <th>3</th>\n",
       "      <td>1000_3</td>\n",
       "      <td>2018-09-21</td>\n",
       "      <td>13.80</td>\n",
       "      <td>1000</td>\n",
       "    </tr>\n",
       "    <tr>\n",
       "      <th>4</th>\n",
       "      <td>1000_4</td>\n",
       "      <td>2018-12-15</td>\n",
       "      <td>5.18</td>\n",
       "      <td>1000</td>\n",
       "    </tr>\n",
       "  </tbody>\n",
       "</table>\n",
       "</div>"
      ],
      "text/plain": [
       "       id   call_date  duration  user_id\n",
       "0  1000_0  2018-07-25      0.00     1000\n",
       "1  1000_1  2018-08-17      0.00     1000\n",
       "2  1000_2  2018-06-11      2.85     1000\n",
       "3  1000_3  2018-09-21     13.80     1000\n",
       "4  1000_4  2018-12-15      5.18     1000"
      ]
     },
     "metadata": {},
     "output_type": "display_data"
    },
    {
     "name": "stdout",
     "output_type": "stream",
     "text": [
      "<class 'pandas.core.frame.DataFrame'>\n",
      "RangeIndex: 202607 entries, 0 to 202606\n",
      "Data columns (total 4 columns):\n",
      " #   Column     Non-Null Count   Dtype  \n",
      "---  ------     --------------   -----  \n",
      " 0   id         202607 non-null  object \n",
      " 1   call_date  202607 non-null  object \n",
      " 2   duration   202607 non-null  float64\n",
      " 3   user_id    202607 non-null  int64  \n",
      "dtypes: float64(1), int64(1), object(2)\n",
      "memory usage: 6.2+ MB\n"
     ]
    }
   ],
   "source": [
    "# сохдаем датафрейм из данных таблицы calls\n",
    "df_calls = pd.read_csv(r'./datasets/calls.csv')\n",
    "display(df_calls.head())\n",
    "df_calls.info()"
   ]
  },
  {
   "cell_type": "markdown",
   "metadata": {
    "pycharm": {
     "name": "#%% md\n"
    }
   },
   "source": [
    "Всего данные содержат 202607 строк и 4 столбца.\n",
    "В данных таблицы **calls** с первого взгляда можно отметить следующее:\n",
    "1. пропуски не обнаружены.\n",
    "2. данные требуют приведения к оптимальным типам.\n",
    "3. поле `duration` перед приведением к целочисленному типу надо округлить в большую сторону.\n",
    "4. таблицу `calls` можно соединить с таблицей `users` по полю `user_id`.\n",
    "5. переименовать поля: `id` - `call_id`, `duration` - `call_duration`."
   ]
  },
  {
   "cell_type": "markdown",
   "metadata": {
    "pycharm": {
     "name": "#%% md\n"
    }
   },
   "source": [
    "### Таблица internet (информация об интернет-сессиях):\n",
    "- `id` — уникальный номер сессии\n",
    "- `mb_used` — объём потраченного за сессию интернет-трафика (в мегабайтах)\n",
    "- `session_date` — дата интернет-сессии\n",
    "- `user_id` — идентификатор пользователя"
   ]
  },
  {
   "cell_type": "code",
   "execution_count": 954,
   "metadata": {
    "pycharm": {
     "name": "#%%\n"
    }
   },
   "outputs": [
    {
     "data": {
      "text/html": [
       "<div>\n",
       "<style scoped>\n",
       "    .dataframe tbody tr th:only-of-type {\n",
       "        vertical-align: middle;\n",
       "    }\n",
       "\n",
       "    .dataframe tbody tr th {\n",
       "        vertical-align: top;\n",
       "    }\n",
       "\n",
       "    .dataframe thead th {\n",
       "        text-align: right;\n",
       "    }\n",
       "</style>\n",
       "<table border=\"1\" class=\"dataframe\">\n",
       "  <thead>\n",
       "    <tr style=\"text-align: right;\">\n",
       "      <th></th>\n",
       "      <th>id</th>\n",
       "      <th>mb_used</th>\n",
       "      <th>session_date</th>\n",
       "      <th>user_id</th>\n",
       "    </tr>\n",
       "  </thead>\n",
       "  <tbody>\n",
       "    <tr>\n",
       "      <th>0</th>\n",
       "      <td>1000_0</td>\n",
       "      <td>112.95</td>\n",
       "      <td>2018-11-25</td>\n",
       "      <td>1000</td>\n",
       "    </tr>\n",
       "    <tr>\n",
       "      <th>1</th>\n",
       "      <td>1000_1</td>\n",
       "      <td>1052.81</td>\n",
       "      <td>2018-09-07</td>\n",
       "      <td>1000</td>\n",
       "    </tr>\n",
       "    <tr>\n",
       "      <th>2</th>\n",
       "      <td>1000_2</td>\n",
       "      <td>1197.26</td>\n",
       "      <td>2018-06-25</td>\n",
       "      <td>1000</td>\n",
       "    </tr>\n",
       "    <tr>\n",
       "      <th>3</th>\n",
       "      <td>1000_3</td>\n",
       "      <td>550.27</td>\n",
       "      <td>2018-08-22</td>\n",
       "      <td>1000</td>\n",
       "    </tr>\n",
       "    <tr>\n",
       "      <th>4</th>\n",
       "      <td>1000_4</td>\n",
       "      <td>302.56</td>\n",
       "      <td>2018-09-24</td>\n",
       "      <td>1000</td>\n",
       "    </tr>\n",
       "  </tbody>\n",
       "</table>\n",
       "</div>"
      ],
      "text/plain": [
       "       id  mb_used session_date  user_id\n",
       "0  1000_0   112.95   2018-11-25     1000\n",
       "1  1000_1  1052.81   2018-09-07     1000\n",
       "2  1000_2  1197.26   2018-06-25     1000\n",
       "3  1000_3   550.27   2018-08-22     1000\n",
       "4  1000_4   302.56   2018-09-24     1000"
      ]
     },
     "metadata": {},
     "output_type": "display_data"
    },
    {
     "name": "stdout",
     "output_type": "stream",
     "text": [
      "<class 'pandas.core.frame.DataFrame'>\n",
      "Int64Index: 149396 entries, 0 to 149395\n",
      "Data columns (total 4 columns):\n",
      " #   Column        Non-Null Count   Dtype  \n",
      "---  ------        --------------   -----  \n",
      " 0   id            149396 non-null  object \n",
      " 1   mb_used       149396 non-null  float64\n",
      " 2   session_date  149396 non-null  object \n",
      " 3   user_id       149396 non-null  int64  \n",
      "dtypes: float64(1), int64(1), object(2)\n",
      "memory usage: 5.7+ MB\n"
     ]
    }
   ],
   "source": [
    "# создаем датафрейм из данных таблицы internet\n",
    "df_internet = pd.read_csv(r'./datasets/internet.csv', index_col=0)\n",
    "display(df_internet.head())\n",
    "df_internet.info()"
   ]
  },
  {
   "cell_type": "markdown",
   "metadata": {
    "pycharm": {
     "name": "#%% md\n"
    }
   },
   "source": [
    "Всего данные содержат 149396 строк и 5 столбцов.\n",
    "В данных таблицы **internet** с первого взгляда можно отметить следующее:\n",
    "1. пропуски не обнаружены.\n",
    "2. данные требуют приведения к оптимальным типам.\n",
    "3. таблицу `internet` можно соединить с таблицей `users` по полю `user_id`.\n",
    "4. переименовать поле `id` - `internet_id`"
   ]
  },
  {
   "cell_type": "markdown",
   "metadata": {
    "pycharm": {
     "name": "#%% md\n"
    }
   },
   "source": [
    "### Таблица messages (информация о сообщениях):\n",
    "- `d` — уникальный номер сообщения\n",
    "- `message_date` — дата сообщения\n",
    "- `user_id` — идентификатор пользователя, отправившего сообщение"
   ]
  },
  {
   "cell_type": "code",
   "execution_count": 955,
   "metadata": {
    "pycharm": {
     "name": "#%%\n"
    }
   },
   "outputs": [
    {
     "data": {
      "text/html": [
       "<div>\n",
       "<style scoped>\n",
       "    .dataframe tbody tr th:only-of-type {\n",
       "        vertical-align: middle;\n",
       "    }\n",
       "\n",
       "    .dataframe tbody tr th {\n",
       "        vertical-align: top;\n",
       "    }\n",
       "\n",
       "    .dataframe thead th {\n",
       "        text-align: right;\n",
       "    }\n",
       "</style>\n",
       "<table border=\"1\" class=\"dataframe\">\n",
       "  <thead>\n",
       "    <tr style=\"text-align: right;\">\n",
       "      <th></th>\n",
       "      <th>id</th>\n",
       "      <th>message_date</th>\n",
       "      <th>user_id</th>\n",
       "    </tr>\n",
       "  </thead>\n",
       "  <tbody>\n",
       "    <tr>\n",
       "      <th>0</th>\n",
       "      <td>1000_0</td>\n",
       "      <td>2018-06-27</td>\n",
       "      <td>1000</td>\n",
       "    </tr>\n",
       "    <tr>\n",
       "      <th>1</th>\n",
       "      <td>1000_1</td>\n",
       "      <td>2018-10-08</td>\n",
       "      <td>1000</td>\n",
       "    </tr>\n",
       "    <tr>\n",
       "      <th>2</th>\n",
       "      <td>1000_2</td>\n",
       "      <td>2018-08-04</td>\n",
       "      <td>1000</td>\n",
       "    </tr>\n",
       "    <tr>\n",
       "      <th>3</th>\n",
       "      <td>1000_3</td>\n",
       "      <td>2018-06-16</td>\n",
       "      <td>1000</td>\n",
       "    </tr>\n",
       "    <tr>\n",
       "      <th>4</th>\n",
       "      <td>1000_4</td>\n",
       "      <td>2018-12-05</td>\n",
       "      <td>1000</td>\n",
       "    </tr>\n",
       "  </tbody>\n",
       "</table>\n",
       "</div>"
      ],
      "text/plain": [
       "       id message_date  user_id\n",
       "0  1000_0   2018-06-27     1000\n",
       "1  1000_1   2018-10-08     1000\n",
       "2  1000_2   2018-08-04     1000\n",
       "3  1000_3   2018-06-16     1000\n",
       "4  1000_4   2018-12-05     1000"
      ]
     },
     "metadata": {},
     "output_type": "display_data"
    },
    {
     "name": "stdout",
     "output_type": "stream",
     "text": [
      "<class 'pandas.core.frame.DataFrame'>\n",
      "RangeIndex: 123036 entries, 0 to 123035\n",
      "Data columns (total 3 columns):\n",
      " #   Column        Non-Null Count   Dtype \n",
      "---  ------        --------------   ----- \n",
      " 0   id            123036 non-null  object\n",
      " 1   message_date  123036 non-null  object\n",
      " 2   user_id       123036 non-null  int64 \n",
      "dtypes: int64(1), object(2)\n",
      "memory usage: 2.8+ MB\n"
     ]
    }
   ],
   "source": [
    "# создаем датафрейм из данных таблицы messages\n",
    "df_messages = pd.read_csv(r'./datasets/messages.csv')\n",
    "display(df_messages.head())\n",
    "df_messages.info()"
   ]
  },
  {
   "cell_type": "markdown",
   "metadata": {
    "pycharm": {
     "name": "#%% md\n"
    }
   },
   "source": [
    "Всего данные содержат 123036 строк и 3 столбца.\n",
    "В данных таблицы **messages** с первого взгляда можно отметить следующее:\n",
    "1. пропуски не обнаружены.\n",
    "2. данные требуют приведения к оптимальным типам.\n",
    "3. таблицу `messages` можно соединить с таблицей `users` по полю `user_id`."
   ]
  },
  {
   "cell_type": "markdown",
   "metadata": {
    "pycharm": {
     "name": "#%% md\n"
    }
   },
   "source": [
    "### Таблица tariffs (информация о тарифах):\n",
    "- `tariff_name` — название тарифа\n",
    "- `rub_monthly_fee` — ежемесячная абонентская плата в рублях\n",
    "- `minutes_included` — количество минут разговора в месяц, включённых в абонентскую плату\n",
    "- `messages_included` — количество сообщений в месяц, включённых в абонентскую плату\n",
    "- `mb_per_month_included` — объём интернет-трафика, включённого в абонентскую плату (в мегабайтах)\n",
    "- `rub_per_minute` — стоимость минуты разговора сверх тарифного пакета (например, если в тарифе 100 минут разговора в месяц, то со 101 минуты будет взиматься плата)\n",
    "- `rub_per_message` — стоимость отправки сообщения сверх тарифного пакета\n",
    "- `rub_per_gb` — стоимость дополнительного гигабайта интернет-трафика сверх тарифного пакета (1 гигабайт = 1024 мегабайта)"
   ]
  },
  {
   "cell_type": "code",
   "execution_count": 956,
   "metadata": {
    "pycharm": {
     "name": "#%%\n"
    }
   },
   "outputs": [
    {
     "data": {
      "text/html": [
       "<div>\n",
       "<style scoped>\n",
       "    .dataframe tbody tr th:only-of-type {\n",
       "        vertical-align: middle;\n",
       "    }\n",
       "\n",
       "    .dataframe tbody tr th {\n",
       "        vertical-align: top;\n",
       "    }\n",
       "\n",
       "    .dataframe thead th {\n",
       "        text-align: right;\n",
       "    }\n",
       "</style>\n",
       "<table border=\"1\" class=\"dataframe\">\n",
       "  <thead>\n",
       "    <tr style=\"text-align: right;\">\n",
       "      <th></th>\n",
       "      <th>messages_included</th>\n",
       "      <th>mb_per_month_included</th>\n",
       "      <th>minutes_included</th>\n",
       "      <th>rub_monthly_fee</th>\n",
       "      <th>rub_per_gb</th>\n",
       "      <th>rub_per_message</th>\n",
       "      <th>rub_per_minute</th>\n",
       "      <th>tariff_name</th>\n",
       "    </tr>\n",
       "  </thead>\n",
       "  <tbody>\n",
       "    <tr>\n",
       "      <th>0</th>\n",
       "      <td>50</td>\n",
       "      <td>15360</td>\n",
       "      <td>500</td>\n",
       "      <td>550</td>\n",
       "      <td>200</td>\n",
       "      <td>3</td>\n",
       "      <td>3</td>\n",
       "      <td>smart</td>\n",
       "    </tr>\n",
       "    <tr>\n",
       "      <th>1</th>\n",
       "      <td>1000</td>\n",
       "      <td>30720</td>\n",
       "      <td>3000</td>\n",
       "      <td>1950</td>\n",
       "      <td>150</td>\n",
       "      <td>1</td>\n",
       "      <td>1</td>\n",
       "      <td>ultra</td>\n",
       "    </tr>\n",
       "  </tbody>\n",
       "</table>\n",
       "</div>"
      ],
      "text/plain": [
       "   messages_included  mb_per_month_included  minutes_included  \\\n",
       "0                 50                  15360               500   \n",
       "1               1000                  30720              3000   \n",
       "\n",
       "   rub_monthly_fee  rub_per_gb  rub_per_message  rub_per_minute tariff_name  \n",
       "0              550         200                3               3       smart  \n",
       "1             1950         150                1               1       ultra  "
      ]
     },
     "metadata": {},
     "output_type": "display_data"
    },
    {
     "name": "stdout",
     "output_type": "stream",
     "text": [
      "<class 'pandas.core.frame.DataFrame'>\n",
      "RangeIndex: 2 entries, 0 to 1\n",
      "Data columns (total 8 columns):\n",
      " #   Column                 Non-Null Count  Dtype \n",
      "---  ------                 --------------  ----- \n",
      " 0   messages_included      2 non-null      int64 \n",
      " 1   mb_per_month_included  2 non-null      int64 \n",
      " 2   minutes_included       2 non-null      int64 \n",
      " 3   rub_monthly_fee        2 non-null      int64 \n",
      " 4   rub_per_gb             2 non-null      int64 \n",
      " 5   rub_per_message        2 non-null      int64 \n",
      " 6   rub_per_minute         2 non-null      int64 \n",
      " 7   tariff_name            2 non-null      object\n",
      "dtypes: int64(7), object(1)\n",
      "memory usage: 256.0+ bytes\n"
     ]
    }
   ],
   "source": [
    "# создаем датафрейм из данных таблицы tariffs\n",
    "df_tariffs = pd.read_csv(r'./datasets/tariffs.csv')\n",
    "display(df_tariffs.head())\n",
    "df_tariffs.info()"
   ]
  },
  {
   "cell_type": "markdown",
   "metadata": {
    "pycharm": {
     "name": "#%% md\n"
    }
   },
   "source": [
    "Всего данные содержат 2 строки и 8 столбцов.\n",
    "В данных таблицы **tariffs** с первого взгляда можно отметить следующее:\n",
    "1. явные артефакты не обнаружены.\n",
    "2. таблицу `tariffs` можно соединить с таблицей `users` по полю `tariff_name`.\n",
    "3. в таблице отсутствует поле с уникальным номером, добавим столбец `tariffs_id`"
   ]
  },
  {
   "cell_type": "markdown",
   "metadata": {
    "pycharm": {
     "name": "#%% md\n"
    }
   },
   "source": [
    "### Таблица users (информация о пользователях):\n",
    "- `user_id` — уникальный идентификатор пользователя\n",
    "- `first_name` — имя пользователя\n",
    "- `last_name` — фамилия пользователя\n",
    "- `age` — возраст пользователя (годы)\n",
    "- `reg_date` — дата подключения тарифа (день, месяц, год)\n",
    "- `churn_date` — дата прекращения пользования тарифом (если значение пропущено, то тариф ещё действовал на момент выгрузки данных)\n",
    "- `city` — город проживания пользователя\n",
    "- `tariff` — название тарифного плана"
   ]
  },
  {
   "cell_type": "code",
   "execution_count": 957,
   "metadata": {
    "pycharm": {
     "name": "#%%\n"
    }
   },
   "outputs": [
    {
     "data": {
      "text/html": [
       "<div>\n",
       "<style scoped>\n",
       "    .dataframe tbody tr th:only-of-type {\n",
       "        vertical-align: middle;\n",
       "    }\n",
       "\n",
       "    .dataframe tbody tr th {\n",
       "        vertical-align: top;\n",
       "    }\n",
       "\n",
       "    .dataframe thead th {\n",
       "        text-align: right;\n",
       "    }\n",
       "</style>\n",
       "<table border=\"1\" class=\"dataframe\">\n",
       "  <thead>\n",
       "    <tr style=\"text-align: right;\">\n",
       "      <th></th>\n",
       "      <th>user_id</th>\n",
       "      <th>age</th>\n",
       "      <th>churn_date</th>\n",
       "      <th>city</th>\n",
       "      <th>first_name</th>\n",
       "      <th>last_name</th>\n",
       "      <th>reg_date</th>\n",
       "      <th>tariff</th>\n",
       "    </tr>\n",
       "  </thead>\n",
       "  <tbody>\n",
       "    <tr>\n",
       "      <th>0</th>\n",
       "      <td>1000</td>\n",
       "      <td>52</td>\n",
       "      <td>NaN</td>\n",
       "      <td>Краснодар</td>\n",
       "      <td>Рафаил</td>\n",
       "      <td>Верещагин</td>\n",
       "      <td>2018-05-25</td>\n",
       "      <td>ultra</td>\n",
       "    </tr>\n",
       "    <tr>\n",
       "      <th>1</th>\n",
       "      <td>1001</td>\n",
       "      <td>41</td>\n",
       "      <td>NaN</td>\n",
       "      <td>Москва</td>\n",
       "      <td>Иван</td>\n",
       "      <td>Ежов</td>\n",
       "      <td>2018-11-01</td>\n",
       "      <td>smart</td>\n",
       "    </tr>\n",
       "    <tr>\n",
       "      <th>2</th>\n",
       "      <td>1002</td>\n",
       "      <td>59</td>\n",
       "      <td>NaN</td>\n",
       "      <td>Стерлитамак</td>\n",
       "      <td>Евгений</td>\n",
       "      <td>Абрамович</td>\n",
       "      <td>2018-06-17</td>\n",
       "      <td>smart</td>\n",
       "    </tr>\n",
       "    <tr>\n",
       "      <th>3</th>\n",
       "      <td>1003</td>\n",
       "      <td>23</td>\n",
       "      <td>NaN</td>\n",
       "      <td>Москва</td>\n",
       "      <td>Белла</td>\n",
       "      <td>Белякова</td>\n",
       "      <td>2018-08-17</td>\n",
       "      <td>ultra</td>\n",
       "    </tr>\n",
       "    <tr>\n",
       "      <th>4</th>\n",
       "      <td>1004</td>\n",
       "      <td>68</td>\n",
       "      <td>NaN</td>\n",
       "      <td>Новокузнецк</td>\n",
       "      <td>Татьяна</td>\n",
       "      <td>Авдеенко</td>\n",
       "      <td>2018-05-14</td>\n",
       "      <td>ultra</td>\n",
       "    </tr>\n",
       "  </tbody>\n",
       "</table>\n",
       "</div>"
      ],
      "text/plain": [
       "   user_id  age churn_date         city first_name  last_name    reg_date  \\\n",
       "0     1000   52        NaN    Краснодар     Рафаил  Верещагин  2018-05-25   \n",
       "1     1001   41        NaN       Москва       Иван       Ежов  2018-11-01   \n",
       "2     1002   59        NaN  Стерлитамак    Евгений  Абрамович  2018-06-17   \n",
       "3     1003   23        NaN       Москва      Белла   Белякова  2018-08-17   \n",
       "4     1004   68        NaN  Новокузнецк    Татьяна   Авдеенко  2018-05-14   \n",
       "\n",
       "  tariff  \n",
       "0  ultra  \n",
       "1  smart  \n",
       "2  smart  \n",
       "3  ultra  \n",
       "4  ultra  "
      ]
     },
     "metadata": {},
     "output_type": "display_data"
    },
    {
     "name": "stdout",
     "output_type": "stream",
     "text": [
      "<class 'pandas.core.frame.DataFrame'>\n",
      "RangeIndex: 500 entries, 0 to 499\n",
      "Data columns (total 8 columns):\n",
      " #   Column      Non-Null Count  Dtype \n",
      "---  ------      --------------  ----- \n",
      " 0   user_id     500 non-null    int64 \n",
      " 1   age         500 non-null    int64 \n",
      " 2   churn_date  38 non-null     object\n",
      " 3   city        500 non-null    object\n",
      " 4   first_name  500 non-null    object\n",
      " 5   last_name   500 non-null    object\n",
      " 6   reg_date    500 non-null    object\n",
      " 7   tariff      500 non-null    object\n",
      "dtypes: int64(2), object(6)\n",
      "memory usage: 31.4+ KB\n"
     ]
    }
   ],
   "source": [
    "# создаем датафрейм из данных таблицы users\n",
    "df_users = pd.read_csv(r'./datasets/users.csv')\n",
    "display(df_users.head())\n",
    "df_users.info()"
   ]
  },
  {
   "cell_type": "markdown",
   "metadata": {
    "pycharm": {
     "name": "#%% md\n"
    }
   },
   "source": [
    "Всего данные содержат 500 строк и 8 столбцов.\n",
    "В данных таблицы **users** с первого взгляда можно отметить следующее:\n",
    "1. в поле `churn_date` имеются пропущенные значения. Согласно описания данных, если значение пропущено, то тариф ещё действовал на момент выгрузки данных.\n",
    "2. данные требуют приведения к оптимальным типам.\n",
    "3. переименовать поле `tariff` в `tariff_name`"
   ]
  },
  {
   "cell_type": "markdown",
   "metadata": {
    "pycharm": {
     "name": "#%% md\n"
    }
   },
   "source": [
    "## Предобработка данных\n",
    "### Поиск аномалий и их исправление\n",
    "#### Таблица calls"
   ]
  },
  {
   "cell_type": "code",
   "execution_count": 958,
   "metadata": {
    "pycharm": {
     "name": "#%%\n"
    }
   },
   "outputs": [
    {
     "data": {
      "text/html": [
       "<div>\n",
       "<style scoped>\n",
       "    .dataframe tbody tr th:only-of-type {\n",
       "        vertical-align: middle;\n",
       "    }\n",
       "\n",
       "    .dataframe tbody tr th {\n",
       "        vertical-align: top;\n",
       "    }\n",
       "\n",
       "    .dataframe thead th {\n",
       "        text-align: right;\n",
       "    }\n",
       "</style>\n",
       "<table border=\"1\" class=\"dataframe\">\n",
       "  <thead>\n",
       "    <tr style=\"text-align: right;\">\n",
       "      <th></th>\n",
       "      <th>call_id</th>\n",
       "      <th>call_date</th>\n",
       "      <th>call_duration</th>\n",
       "      <th>user_id</th>\n",
       "    </tr>\n",
       "  </thead>\n",
       "  <tbody>\n",
       "    <tr>\n",
       "      <th>0</th>\n",
       "      <td>1000_0</td>\n",
       "      <td>2018-07-25</td>\n",
       "      <td>0.0</td>\n",
       "      <td>1000</td>\n",
       "    </tr>\n",
       "    <tr>\n",
       "      <th>1</th>\n",
       "      <td>1000_1</td>\n",
       "      <td>2018-08-17</td>\n",
       "      <td>0.0</td>\n",
       "      <td>1000</td>\n",
       "    </tr>\n",
       "    <tr>\n",
       "      <th>2</th>\n",
       "      <td>1000_2</td>\n",
       "      <td>2018-06-11</td>\n",
       "      <td>3.0</td>\n",
       "      <td>1000</td>\n",
       "    </tr>\n",
       "  </tbody>\n",
       "</table>\n",
       "</div>"
      ],
      "text/plain": [
       "  call_id   call_date  call_duration  user_id\n",
       "0  1000_0  2018-07-25            0.0     1000\n",
       "1  1000_1  2018-08-17            0.0     1000\n",
       "2  1000_2  2018-06-11            3.0     1000"
      ]
     },
     "execution_count": 958,
     "metadata": {},
     "output_type": "execute_result"
    }
   ],
   "source": [
    "# переименуем столбцы\n",
    "df_calls = df_calls.rename(columns={'id': 'call_id', 'duration': 'call_duration'})\n",
    "# согласно примечания - каждый звонок округляется отдельно: даже если он длился всего 1 секунду, будет засчитан как 1 минута.\n",
    "# выполним округление до большего значения\n",
    "df_calls['call_duration'] = np.ceil(df_calls['call_duration'])\n",
    "# проверим изменения\n",
    "df_calls.head(3)"
   ]
  },
  {
   "cell_type": "code",
   "execution_count": 959,
   "metadata": {
    "pycharm": {
     "name": "#%%\n"
    }
   },
   "outputs": [
    {
     "data": {
      "text/plain": [
       "<AxesSubplot:title={'center':'Распределение значений длительности звонков'}, xlabel='call_duration', ylabel='Count'>"
      ]
     },
     "execution_count": 959,
     "metadata": {},
     "output_type": "execute_result"
    },
    {
     "data": {
      "image/png": "[encoded data removed]",
      "text/plain": [
       "<Figure size 2160x720 with 1 Axes>"
      ]
     },
     "metadata": {},
     "output_type": "display_data"
    }
   ],
   "source": [
    "# посмотрим распределение значений длительности звонков\n",
    "plt.title('Распределение значений длительности звонков')\n",
    "sns.histplot(data=df_calls, x=df_calls['call_duration'], bins=15, kde=True)"
   ]
  },
  {
   "cell_type": "markdown",
   "metadata": {
    "pycharm": {
     "name": "#%% md\n"
    }
   },
   "source": [
    "На графике характерное для значений времени биномиальное распределение."
   ]
  },
  {
   "cell_type": "code",
   "execution_count": 960,
   "metadata": {
    "pycharm": {
     "name": "#%%\n"
    }
   },
   "outputs": [
    {
     "data": {
      "text/plain": [
       "0"
      ]
     },
     "execution_count": 960,
     "metadata": {},
     "output_type": "execute_result"
    }
   ],
   "source": [
    "# посмотрим наличие дупликатов\n",
    "df_calls.duplicated().sum()"
   ]
  },
  {
   "cell_type": "markdown",
   "metadata": {
    "pycharm": {
     "name": "#%% md\n"
    }
   },
   "source": [
    "#### Таблица internet"
   ]
  },
  {
   "cell_type": "code",
   "execution_count": 961,
   "metadata": {
    "pycharm": {
     "name": "#%%\n"
    }
   },
   "outputs": [
    {
     "data": {
      "text/html": [
       "<div>\n",
       "<style scoped>\n",
       "    .dataframe tbody tr th:only-of-type {\n",
       "        vertical-align: middle;\n",
       "    }\n",
       "\n",
       "    .dataframe tbody tr th {\n",
       "        vertical-align: top;\n",
       "    }\n",
       "\n",
       "    .dataframe thead th {\n",
       "        text-align: right;\n",
       "    }\n",
       "</style>\n",
       "<table border=\"1\" class=\"dataframe\">\n",
       "  <thead>\n",
       "    <tr style=\"text-align: right;\">\n",
       "      <th></th>\n",
       "      <th>internet_id</th>\n",
       "      <th>mb_used</th>\n",
       "      <th>session_date</th>\n",
       "      <th>user_id</th>\n",
       "    </tr>\n",
       "  </thead>\n",
       "  <tbody>\n",
       "    <tr>\n",
       "      <th>0</th>\n",
       "      <td>1000_0</td>\n",
       "      <td>112.95</td>\n",
       "      <td>2018-11-25</td>\n",
       "      <td>1000</td>\n",
       "    </tr>\n",
       "    <tr>\n",
       "      <th>1</th>\n",
       "      <td>1000_1</td>\n",
       "      <td>1052.81</td>\n",
       "      <td>2018-09-07</td>\n",
       "      <td>1000</td>\n",
       "    </tr>\n",
       "    <tr>\n",
       "      <th>2</th>\n",
       "      <td>1000_2</td>\n",
       "      <td>1197.26</td>\n",
       "      <td>2018-06-25</td>\n",
       "      <td>1000</td>\n",
       "    </tr>\n",
       "  </tbody>\n",
       "</table>\n",
       "</div>"
      ],
      "text/plain": [
       "  internet_id  mb_used session_date  user_id\n",
       "0      1000_0   112.95   2018-11-25     1000\n",
       "1      1000_1  1052.81   2018-09-07     1000\n",
       "2      1000_2  1197.26   2018-06-25     1000"
      ]
     },
     "execution_count": 961,
     "metadata": {},
     "output_type": "execute_result"
    }
   ],
   "source": [
    "# переименуем столбцы\n",
    "df_internet = df_internet.rename(columns={'id': 'internet_id'})\n",
    "# проверим данные\n",
    "df_internet.head(3)"
   ]
  },
  {
   "cell_type": "code",
   "execution_count": 962,
   "metadata": {
    "pycharm": {
     "name": "#%%\n"
    }
   },
   "outputs": [
    {
     "data": {
      "text/plain": [
       "<AxesSubplot:title={'center':'Распределение значений трафика'}, xlabel='mb_used', ylabel='Count'>"
      ]
     },
     "execution_count": 962,
     "metadata": {},
     "output_type": "execute_result"
    },
    {
     "data": {
      "image/png": "[encoded data removed]",
      "text/plain": [
       "<Figure size 2160x720 with 1 Axes>"
      ]
     },
     "metadata": {},
     "output_type": "display_data"
    }
   ],
   "source": [
    "# посмотрим распределение значений трафика\n",
    "plt.title('Распределение значений трафика')\n",
    "sns.histplot(data=df_internet, x=df_internet['mb_used'], bins=15, kde=True)"
   ]
  },
  {
   "cell_type": "code",
   "execution_count": 963,
   "metadata": {
    "pycharm": {
     "name": "#%%\n"
    }
   },
   "outputs": [
    {
     "data": {
      "text/plain": [
       "0"
      ]
     },
     "execution_count": 963,
     "metadata": {},
     "output_type": "execute_result"
    }
   ],
   "source": [
    "# посмотрим наличие дупликатов\n",
    "df_internet.duplicated().sum()"
   ]
  },
  {
   "cell_type": "markdown",
   "metadata": {
    "pycharm": {
     "name": "#%% md\n"
    }
   },
   "source": [
    "#### Таблица messages"
   ]
  },
  {
   "cell_type": "code",
   "execution_count": 964,
   "metadata": {
    "pycharm": {
     "name": "#%%\n"
    }
   },
   "outputs": [
    {
     "data": {
      "text/html": [
       "<div>\n",
       "<style scoped>\n",
       "    .dataframe tbody tr th:only-of-type {\n",
       "        vertical-align: middle;\n",
       "    }\n",
       "\n",
       "    .dataframe tbody tr th {\n",
       "        vertical-align: top;\n",
       "    }\n",
       "\n",
       "    .dataframe thead th {\n",
       "        text-align: right;\n",
       "    }\n",
       "</style>\n",
       "<table border=\"1\" class=\"dataframe\">\n",
       "  <thead>\n",
       "    <tr style=\"text-align: right;\">\n",
       "      <th></th>\n",
       "      <th>messages_id</th>\n",
       "      <th>message_date</th>\n",
       "      <th>user_id</th>\n",
       "    </tr>\n",
       "  </thead>\n",
       "  <tbody>\n",
       "    <tr>\n",
       "      <th>0</th>\n",
       "      <td>1000_0</td>\n",
       "      <td>2018-06-27</td>\n",
       "      <td>1000</td>\n",
       "    </tr>\n",
       "    <tr>\n",
       "      <th>1</th>\n",
       "      <td>1000_1</td>\n",
       "      <td>2018-10-08</td>\n",
       "      <td>1000</td>\n",
       "    </tr>\n",
       "    <tr>\n",
       "      <th>2</th>\n",
       "      <td>1000_2</td>\n",
       "      <td>2018-08-04</td>\n",
       "      <td>1000</td>\n",
       "    </tr>\n",
       "  </tbody>\n",
       "</table>\n",
       "</div>"
      ],
      "text/plain": [
       "  messages_id message_date  user_id\n",
       "0      1000_0   2018-06-27     1000\n",
       "1      1000_1   2018-10-08     1000\n",
       "2      1000_2   2018-08-04     1000"
      ]
     },
     "execution_count": 964,
     "metadata": {},
     "output_type": "execute_result"
    }
   ],
   "source": [
    "# переименуем столбцы\n",
    "df_messages = df_messages.rename(columns={'id': 'messages_id'})\n",
    "# проверим данные\n",
    "df_messages.head(3)"
   ]
  },
  {
   "cell_type": "code",
   "execution_count": 965,
   "metadata": {
    "pycharm": {
     "name": "#%%\n"
    }
   },
   "outputs": [
    {
     "data": {
      "text/plain": [
       "0"
      ]
     },
     "execution_count": 965,
     "metadata": {},
     "output_type": "execute_result"
    }
   ],
   "source": [
    "# посмотрим наличие дупликатов\n",
    "df_messages.duplicated().sum()"
   ]
  },
  {
   "cell_type": "markdown",
   "metadata": {
    "pycharm": {
     "name": "#%% md\n"
    }
   },
   "source": [
    "#### Таблица tariffs"
   ]
  },
  {
   "cell_type": "code",
   "execution_count": 966,
   "metadata": {
    "pycharm": {
     "name": "#%%\n"
    }
   },
   "outputs": [
    {
     "data": {
      "text/html": [
       "<div>\n",
       "<style scoped>\n",
       "    .dataframe tbody tr th:only-of-type {\n",
       "        vertical-align: middle;\n",
       "    }\n",
       "\n",
       "    .dataframe tbody tr th {\n",
       "        vertical-align: top;\n",
       "    }\n",
       "\n",
       "    .dataframe thead th {\n",
       "        text-align: right;\n",
       "    }\n",
       "</style>\n",
       "<table border=\"1\" class=\"dataframe\">\n",
       "  <thead>\n",
       "    <tr style=\"text-align: right;\">\n",
       "      <th></th>\n",
       "      <th>tariffs_id</th>\n",
       "      <th>messages_included</th>\n",
       "      <th>mb_per_month_included</th>\n",
       "      <th>minutes_included</th>\n",
       "      <th>rub_monthly_fee</th>\n",
       "      <th>rub_per_gb</th>\n",
       "      <th>rub_per_message</th>\n",
       "      <th>rub_per_minute</th>\n",
       "      <th>tariff_name</th>\n",
       "    </tr>\n",
       "  </thead>\n",
       "  <tbody>\n",
       "    <tr>\n",
       "      <th>0</th>\n",
       "      <td>0</td>\n",
       "      <td>50</td>\n",
       "      <td>15360</td>\n",
       "      <td>500</td>\n",
       "      <td>550</td>\n",
       "      <td>200</td>\n",
       "      <td>3</td>\n",
       "      <td>3</td>\n",
       "      <td>smart</td>\n",
       "    </tr>\n",
       "    <tr>\n",
       "      <th>1</th>\n",
       "      <td>1</td>\n",
       "      <td>1000</td>\n",
       "      <td>30720</td>\n",
       "      <td>3000</td>\n",
       "      <td>1950</td>\n",
       "      <td>150</td>\n",
       "      <td>1</td>\n",
       "      <td>1</td>\n",
       "      <td>ultra</td>\n",
       "    </tr>\n",
       "  </tbody>\n",
       "</table>\n",
       "</div>"
      ],
      "text/plain": [
       "   tariffs_id  messages_included  mb_per_month_included  minutes_included  \\\n",
       "0           0                 50                  15360               500   \n",
       "1           1               1000                  30720              3000   \n",
       "\n",
       "   rub_monthly_fee  rub_per_gb  rub_per_message  rub_per_minute tariff_name  \n",
       "0              550         200                3               3       smart  \n",
       "1             1950         150                1               1       ultra  "
      ]
     },
     "execution_count": 966,
     "metadata": {},
     "output_type": "execute_result"
    }
   ],
   "source": [
    "# добавим столбец с уникальными значениями\n",
    "df_tariffs.insert(0, 'tariffs_id',  df_tariffs.index)\n",
    "# проверим данные\n",
    "df_tariffs.head()"
   ]
  },
  {
   "cell_type": "markdown",
   "metadata": {
    "pycharm": {
     "name": "#%% md\n"
    }
   },
   "source": [
    "#### Таблица users"
   ]
  },
  {
   "cell_type": "code",
   "execution_count": 967,
   "metadata": {
    "pycharm": {
     "name": "#%%\n"
    }
   },
   "outputs": [
    {
     "data": {
      "text/html": [
       "<div>\n",
       "<style scoped>\n",
       "    .dataframe tbody tr th:only-of-type {\n",
       "        vertical-align: middle;\n",
       "    }\n",
       "\n",
       "    .dataframe tbody tr th {\n",
       "        vertical-align: top;\n",
       "    }\n",
       "\n",
       "    .dataframe thead th {\n",
       "        text-align: right;\n",
       "    }\n",
       "</style>\n",
       "<table border=\"1\" class=\"dataframe\">\n",
       "  <thead>\n",
       "    <tr style=\"text-align: right;\">\n",
       "      <th></th>\n",
       "      <th>user_id</th>\n",
       "      <th>age</th>\n",
       "      <th>churn_date</th>\n",
       "      <th>city</th>\n",
       "      <th>first_name</th>\n",
       "      <th>last_name</th>\n",
       "      <th>reg_date</th>\n",
       "      <th>tariff_name</th>\n",
       "    </tr>\n",
       "  </thead>\n",
       "  <tbody>\n",
       "    <tr>\n",
       "      <th>0</th>\n",
       "      <td>1000</td>\n",
       "      <td>52</td>\n",
       "      <td>2022-03-30</td>\n",
       "      <td>Краснодар</td>\n",
       "      <td>Рафаил</td>\n",
       "      <td>Верещагин</td>\n",
       "      <td>2018-05-25</td>\n",
       "      <td>ultra</td>\n",
       "    </tr>\n",
       "    <tr>\n",
       "      <th>1</th>\n",
       "      <td>1001</td>\n",
       "      <td>41</td>\n",
       "      <td>2022-03-30</td>\n",
       "      <td>Москва</td>\n",
       "      <td>Иван</td>\n",
       "      <td>Ежов</td>\n",
       "      <td>2018-11-01</td>\n",
       "      <td>smart</td>\n",
       "    </tr>\n",
       "    <tr>\n",
       "      <th>2</th>\n",
       "      <td>1002</td>\n",
       "      <td>59</td>\n",
       "      <td>2022-03-30</td>\n",
       "      <td>Стерлитамак</td>\n",
       "      <td>Евгений</td>\n",
       "      <td>Абрамович</td>\n",
       "      <td>2018-06-17</td>\n",
       "      <td>smart</td>\n",
       "    </tr>\n",
       "  </tbody>\n",
       "</table>\n",
       "</div>"
      ],
      "text/plain": [
       "   user_id  age  churn_date         city first_name  last_name    reg_date  \\\n",
       "0     1000   52  2022-03-30    Краснодар     Рафаил  Верещагин  2018-05-25   \n",
       "1     1001   41  2022-03-30       Москва       Иван       Ежов  2018-11-01   \n",
       "2     1002   59  2022-03-30  Стерлитамак    Евгений  Абрамович  2018-06-17   \n",
       "\n",
       "  tariff_name  \n",
       "0       ultra  \n",
       "1       smart  \n",
       "2       smart  "
      ]
     },
     "execution_count": 967,
     "metadata": {},
     "output_type": "execute_result"
    }
   ],
   "source": [
    "# заменим пропуски в поле `churn_date` на значение текущей даты\n",
    "df_users['churn_date'] = df_users['churn_date'].fillna(datetime.now().date())\n",
    "# переименуем столбцы\n",
    "df_users = df_users.rename(columns={'tariff': 'tariff_name'})\n",
    "# проверим данные\n",
    "df_users.head(3)"
   ]
  },
  {
   "cell_type": "code",
   "execution_count": 968,
   "metadata": {
    "pycharm": {
     "name": "#%%\n"
    }
   },
   "outputs": [
    {
     "data": {
      "text/plain": [
       "0"
      ]
     },
     "execution_count": 968,
     "metadata": {},
     "output_type": "execute_result"
    }
   ],
   "source": [
    "# посмотрим наличие дупликатов\n",
    "df_messages.duplicated().sum()"
   ]
  },
  {
   "cell_type": "markdown",
   "metadata": {
    "pycharm": {
     "name": "#%% md\n"
    }
   },
   "source": [
    "Перед объединением таблиц выполним группировку данных по пользователям и месяцам в таблицах `df_calls`, `df_internet`, `df_messages`."
   ]
  },
  {
   "cell_type": "code",
   "execution_count": 969,
   "metadata": {
    "pycharm": {
     "name": "#%%\n"
    }
   },
   "outputs": [
    {
     "data": {
      "text/html": [
       "<div>\n",
       "<style scoped>\n",
       "    .dataframe tbody tr th:only-of-type {\n",
       "        vertical-align: middle;\n",
       "    }\n",
       "\n",
       "    .dataframe tbody tr th {\n",
       "        vertical-align: top;\n",
       "    }\n",
       "\n",
       "    .dataframe thead th {\n",
       "        text-align: right;\n",
       "    }\n",
       "</style>\n",
       "<table border=\"1\" class=\"dataframe\">\n",
       "  <thead>\n",
       "    <tr style=\"text-align: right;\">\n",
       "      <th></th>\n",
       "      <th>month</th>\n",
       "      <th>user_id</th>\n",
       "      <th>number_minutes</th>\n",
       "      <th>number_calls</th>\n",
       "    </tr>\n",
       "  </thead>\n",
       "  <tbody>\n",
       "    <tr>\n",
       "      <th>0</th>\n",
       "      <td>1</td>\n",
       "      <td>1005</td>\n",
       "      <td>95.0</td>\n",
       "      <td>15</td>\n",
       "    </tr>\n",
       "    <tr>\n",
       "      <th>1</th>\n",
       "      <td>1</td>\n",
       "      <td>1032</td>\n",
       "      <td>380.0</td>\n",
       "      <td>61</td>\n",
       "    </tr>\n",
       "    <tr>\n",
       "      <th>2</th>\n",
       "      <td>1</td>\n",
       "      <td>1045</td>\n",
       "      <td>9.0</td>\n",
       "      <td>1</td>\n",
       "    </tr>\n",
       "    <tr>\n",
       "      <th>3</th>\n",
       "      <td>1</td>\n",
       "      <td>1055</td>\n",
       "      <td>551.0</td>\n",
       "      <td>64</td>\n",
       "    </tr>\n",
       "    <tr>\n",
       "      <th>4</th>\n",
       "      <td>1</td>\n",
       "      <td>1071</td>\n",
       "      <td>194.0</td>\n",
       "      <td>24</td>\n",
       "    </tr>\n",
       "  </tbody>\n",
       "</table>\n",
       "</div>"
      ],
      "text/plain": [
       "   month  user_id  number_minutes  number_calls\n",
       "0      1     1005            95.0            15\n",
       "1      1     1032           380.0            61\n",
       "2      1     1045             9.0             1\n",
       "3      1     1055           551.0            64\n",
       "4      1     1071           194.0            24"
      ]
     },
     "execution_count": 969,
     "metadata": {},
     "output_type": "execute_result"
    }
   ],
   "source": [
    "# переведем значения поля call_date из object в datetime\n",
    "df_calls['call_date'] = pd.to_datetime(df_calls['call_date'])\n",
    "# выполним группировку по месяцам и пользователям\n",
    "df_calls = df_calls.groupby([df_calls['call_date'].dt.month, df_calls['user_id']]).agg({'call_duration': 'sum', 'call_id': 'count'}).reset_index().rename(columns={'call_date': 'month', 'call_duration': 'number_minutes', 'call_id': 'number_calls'})\n",
    "df_calls.head()"
   ]
  },
  {
   "cell_type": "code",
   "execution_count": 970,
   "metadata": {
    "pycharm": {
     "name": "#%%\n"
    }
   },
   "outputs": [
    {
     "data": {
      "text/html": [
       "<div>\n",
       "<style scoped>\n",
       "    .dataframe tbody tr th:only-of-type {\n",
       "        vertical-align: middle;\n",
       "    }\n",
       "\n",
       "    .dataframe tbody tr th {\n",
       "        vertical-align: top;\n",
       "    }\n",
       "\n",
       "    .dataframe thead th {\n",
       "        text-align: right;\n",
       "    }\n",
       "</style>\n",
       "<table border=\"1\" class=\"dataframe\">\n",
       "  <thead>\n",
       "    <tr style=\"text-align: right;\">\n",
       "      <th></th>\n",
       "      <th>month</th>\n",
       "      <th>user_id</th>\n",
       "      <th>number_gb</th>\n",
       "    </tr>\n",
       "  </thead>\n",
       "  <tbody>\n",
       "    <tr>\n",
       "      <th>0</th>\n",
       "      <td>1</td>\n",
       "      <td>1005</td>\n",
       "      <td>2727.97</td>\n",
       "    </tr>\n",
       "    <tr>\n",
       "      <th>1</th>\n",
       "      <td>1</td>\n",
       "      <td>1032</td>\n",
       "      <td>24127.69</td>\n",
       "    </tr>\n",
       "    <tr>\n",
       "      <th>2</th>\n",
       "      <td>1</td>\n",
       "      <td>1045</td>\n",
       "      <td>2346.71</td>\n",
       "    </tr>\n",
       "    <tr>\n",
       "      <th>3</th>\n",
       "      <td>1</td>\n",
       "      <td>1055</td>\n",
       "      <td>17090.88</td>\n",
       "    </tr>\n",
       "    <tr>\n",
       "      <th>4</th>\n",
       "      <td>1</td>\n",
       "      <td>1071</td>\n",
       "      <td>15604.34</td>\n",
       "    </tr>\n",
       "  </tbody>\n",
       "</table>\n",
       "</div>"
      ],
      "text/plain": [
       "   month  user_id  number_gb\n",
       "0      1     1005    2727.97\n",
       "1      1     1032   24127.69\n",
       "2      1     1045    2346.71\n",
       "3      1     1055   17090.88\n",
       "4      1     1071   15604.34"
      ]
     },
     "execution_count": 970,
     "metadata": {},
     "output_type": "execute_result"
    }
   ],
   "source": [
    "# переведем значения поля session_date из object в datetime\n",
    "df_internet['session_date'] = pd.to_datetime(df_internet['session_date'])\n",
    "# выполним группировку по месяцам и пользователям\n",
    "df_internet = df_internet.groupby([df_internet['session_date'].dt.month, df_internet['user_id']])['mb_used'].sum().reset_index().rename(columns={'session_date': 'month', 'mb_used': 'number_gb'})\n",
    "df_internet.head()"
   ]
  },
  {
   "cell_type": "code",
   "execution_count": 971,
   "metadata": {
    "pycharm": {
     "name": "#%%\n"
    }
   },
   "outputs": [
    {
     "data": {
      "text/html": [
       "<div>\n",
       "<style scoped>\n",
       "    .dataframe tbody tr th:only-of-type {\n",
       "        vertical-align: middle;\n",
       "    }\n",
       "\n",
       "    .dataframe tbody tr th {\n",
       "        vertical-align: top;\n",
       "    }\n",
       "\n",
       "    .dataframe thead th {\n",
       "        text-align: right;\n",
       "    }\n",
       "</style>\n",
       "<table border=\"1\" class=\"dataframe\">\n",
       "  <thead>\n",
       "    <tr style=\"text-align: right;\">\n",
       "      <th></th>\n",
       "      <th>month</th>\n",
       "      <th>user_id</th>\n",
       "      <th>number_messages</th>\n",
       "    </tr>\n",
       "  </thead>\n",
       "  <tbody>\n",
       "    <tr>\n",
       "      <th>0</th>\n",
       "      <td>1</td>\n",
       "      <td>1005</td>\n",
       "      <td>7</td>\n",
       "    </tr>\n",
       "    <tr>\n",
       "      <th>1</th>\n",
       "      <td>1</td>\n",
       "      <td>1032</td>\n",
       "      <td>38</td>\n",
       "    </tr>\n",
       "    <tr>\n",
       "      <th>2</th>\n",
       "      <td>1</td>\n",
       "      <td>1045</td>\n",
       "      <td>5</td>\n",
       "    </tr>\n",
       "    <tr>\n",
       "      <th>3</th>\n",
       "      <td>1</td>\n",
       "      <td>1055</td>\n",
       "      <td>30</td>\n",
       "    </tr>\n",
       "    <tr>\n",
       "      <th>4</th>\n",
       "      <td>1</td>\n",
       "      <td>1071</td>\n",
       "      <td>16</td>\n",
       "    </tr>\n",
       "  </tbody>\n",
       "</table>\n",
       "</div>"
      ],
      "text/plain": [
       "   month  user_id  number_messages\n",
       "0      1     1005                7\n",
       "1      1     1032               38\n",
       "2      1     1045                5\n",
       "3      1     1055               30\n",
       "4      1     1071               16"
      ]
     },
     "execution_count": 971,
     "metadata": {},
     "output_type": "execute_result"
    }
   ],
   "source": [
    "# переведем значения поля message_date из object в datetime\n",
    "df_messages['message_date'] = pd.to_datetime(df_messages['message_date'])\n",
    "# выполним группировку по месяцам и пользователям\n",
    "df_messages = df_messages.groupby([df_messages['message_date'].dt.month, df_messages['user_id']])['messages_id'].count().reset_index().rename(columns={'message_date': 'month', 'messages_id': 'number_messages'})\n",
    "df_messages.head()"
   ]
  },
  {
   "cell_type": "code",
   "execution_count": 972,
   "metadata": {
    "pycharm": {
     "name": "#%%\n"
    }
   },
   "outputs": [
    {
     "name": "stdout",
     "output_type": "stream",
     "text": [
      "<class 'pandas.core.frame.DataFrame'>\n",
      "Int64Index: 3214 entries, 0 to 3213\n",
      "Data columns (total 16 columns):\n",
      " #   Column                 Non-Null Count  Dtype  \n",
      "---  ------                 --------------  -----  \n",
      " 0   month                  3214 non-null   int64  \n",
      " 1   user_id                3214 non-null   int64  \n",
      " 2   number_minutes         3174 non-null   float64\n",
      " 3   number_calls           3174 non-null   float64\n",
      " 4   number_gb              3203 non-null   float64\n",
      " 5   number_messages        2717 non-null   float64\n",
      " 6   city                   3214 non-null   object \n",
      " 7   tariff_name            3214 non-null   object \n",
      " 8   tariffs_id             3214 non-null   int64  \n",
      " 9   messages_included      3214 non-null   int64  \n",
      " 10  mb_per_month_included  3214 non-null   int64  \n",
      " 11  minutes_included       3214 non-null   int64  \n",
      " 12  rub_monthly_fee        3214 non-null   int64  \n",
      " 13  rub_per_gb             3214 non-null   int64  \n",
      " 14  rub_per_message        3214 non-null   int64  \n",
      " 15  rub_per_minute         3214 non-null   int64  \n",
      "dtypes: float64(4), int64(10), object(2)\n",
      "memory usage: 426.9+ KB\n"
     ]
    }
   ],
   "source": [
    "# соединим таблицы\n",
    "df = df_calls.merge(df_internet, on=['month','user_id'], how='outer')\n",
    "df = df.merge(df_messages, on=['month','user_id'], how='outer')\n",
    "df = df.merge(df_users[['user_id', 'city', 'tariff_name']], on='user_id', how='left')\n",
    "df = df.merge(df_tariffs, on='tariff_name')\n",
    "# проверим данные на выходе\n",
    "df.info()"
   ]
  },
  {
   "cell_type": "code",
   "execution_count": 973,
   "metadata": {
    "pycharm": {
     "name": "#%%\n"
    }
   },
   "outputs": [
    {
     "data": {
      "text/plain": [
       "498"
      ]
     },
     "execution_count": 973,
     "metadata": {},
     "output_type": "execute_result"
    }
   ],
   "source": [
    "# проверим количество пользователей в выборке после склеивания таблиц\n",
    "df['user_id'].nunique()"
   ]
  },
  {
   "cell_type": "markdown",
   "metadata": {
    "pycharm": {
     "name": "#%% md\n"
    }
   },
   "source": [
    "В результате внешнего соединения количество пользователей в данных уменьшилось всего на 1%. (с 500 до 498)"
   ]
  },
  {
   "cell_type": "code",
   "execution_count": 974,
   "metadata": {
    "pycharm": {
     "name": "#%%\n"
    }
   },
   "outputs": [
    {
     "data": {
      "text/plain": [
       "month                    0\n",
       "user_id                  0\n",
       "number_minutes           0\n",
       "number_calls             0\n",
       "number_gb                0\n",
       "number_messages          0\n",
       "city                     0\n",
       "tariff_name              0\n",
       "tariffs_id               0\n",
       "messages_included        0\n",
       "mb_per_month_included    0\n",
       "minutes_included         0\n",
       "rub_monthly_fee          0\n",
       "rub_per_gb               0\n",
       "rub_per_message          0\n",
       "rub_per_minute           0\n",
       "dtype: int64"
      ]
     },
     "execution_count": 974,
     "metadata": {},
     "output_type": "execute_result"
    }
   ],
   "source": [
    "# заполним пропущенные значения нулями\n",
    "df = df.fillna(0)\n",
    "# проверим наличие пропусков\n",
    "df.isna().sum()"
   ]
  },
  {
   "cell_type": "markdown",
   "metadata": {
    "pycharm": {
     "name": "#%% md\n"
    }
   },
   "source": [
    "### Приведение данных к нужным типам"
   ]
  },
  {
   "cell_type": "code",
   "execution_count": 975,
   "metadata": {
    "pycharm": {
     "name": "#%%\n"
    }
   },
   "outputs": [
    {
     "name": "stdout",
     "output_type": "stream",
     "text": [
      "<class 'pandas.core.frame.DataFrame'>\n",
      "Int64Index: 3214 entries, 0 to 3213\n",
      "Data columns (total 16 columns):\n",
      " #   Column                 Non-Null Count  Dtype   \n",
      "---  ------                 --------------  -----   \n",
      " 0   month                  3214 non-null   int64   \n",
      " 1   user_id                3214 non-null   int64   \n",
      " 2   number_minutes         3214 non-null   float64 \n",
      " 3   number_calls           3214 non-null   int64   \n",
      " 4   number_gb              3214 non-null   float64 \n",
      " 5   number_messages        3214 non-null   int64   \n",
      " 6   city                   3214 non-null   category\n",
      " 7   tariff_name            3214 non-null   category\n",
      " 8   tariffs_id             3214 non-null   int64   \n",
      " 9   messages_included      3214 non-null   int64   \n",
      " 10  mb_per_month_included  3214 non-null   int64   \n",
      " 11  minutes_included       3214 non-null   int64   \n",
      " 12  rub_monthly_fee        3214 non-null   int64   \n",
      " 13  rub_per_gb             3214 non-null   int64   \n",
      " 14  rub_per_message        3214 non-null   int64   \n",
      " 15  rub_per_minute         3214 non-null   int64   \n",
      "dtypes: category(2), float64(2), int64(12)\n",
      "memory usage: 385.7 KB\n"
     ]
    }
   ],
   "source": [
    "# переведем в целочисленный тип\n",
    "df['number_messages'] = df['number_messages'].astype('int64')\n",
    "df['number_calls'] = df['number_calls'].astype('int64')\n",
    "# переведем в категориальный тип\n",
    "df['tariff_name'] = df['tariff_name'].astype('category')\n",
    "df['city'] = df['city'].astype('category')\n",
    "# проверим внесенные изменения\n",
    "df.info()"
   ]
  },
  {
   "cell_type": "markdown",
   "metadata": {
    "pycharm": {
     "name": "#%% md\n"
    }
   },
   "source": [
    "### Дополнительные расчеты.\n",
    "#### Количество сделанных звонков пользователем по месяцам"
   ]
  },
  {
   "cell_type": "code",
   "execution_count": 976,
   "metadata": {
    "pycharm": {
     "name": "#%%\n"
    }
   },
   "outputs": [
    {
     "data": {
      "text/html": [
       "<div>\n",
       "<style scoped>\n",
       "    .dataframe tbody tr th:only-of-type {\n",
       "        vertical-align: middle;\n",
       "    }\n",
       "\n",
       "    .dataframe tbody tr th {\n",
       "        vertical-align: top;\n",
       "    }\n",
       "\n",
       "    .dataframe thead th {\n",
       "        text-align: right;\n",
       "    }\n",
       "</style>\n",
       "<table border=\"1\" class=\"dataframe\">\n",
       "  <thead>\n",
       "    <tr style=\"text-align: right;\">\n",
       "      <th></th>\n",
       "      <th>month</th>\n",
       "      <th>user_id</th>\n",
       "      <th>number_calls</th>\n",
       "    </tr>\n",
       "  </thead>\n",
       "  <tbody>\n",
       "    <tr>\n",
       "      <th>0</th>\n",
       "      <td>1</td>\n",
       "      <td>1005</td>\n",
       "      <td>15</td>\n",
       "    </tr>\n",
       "    <tr>\n",
       "      <th>1</th>\n",
       "      <td>1</td>\n",
       "      <td>1032</td>\n",
       "      <td>61</td>\n",
       "    </tr>\n",
       "    <tr>\n",
       "      <th>2</th>\n",
       "      <td>1</td>\n",
       "      <td>1045</td>\n",
       "      <td>1</td>\n",
       "    </tr>\n",
       "  </tbody>\n",
       "</table>\n",
       "</div>"
      ],
      "text/plain": [
       "   month  user_id  number_calls\n",
       "0      1     1005            15\n",
       "1      1     1032            61\n",
       "2      1     1045             1"
      ]
     },
     "metadata": {},
     "output_type": "display_data"
    }
   ],
   "source": [
    "# данный признак рассчитан нами на этапе предварительной группировки перед объединением таблиц\n",
    "number_calls_month = df[['month', 'user_id', 'number_calls']]\n",
    "display(number_calls_month.head(3))"
   ]
  },
  {
   "cell_type": "markdown",
   "metadata": {
    "pycharm": {
     "name": "#%% md\n"
    }
   },
   "source": [
    "#### Количество израсходованных минут разговора пользователем по месяцам"
   ]
  },
  {
   "cell_type": "code",
   "execution_count": 977,
   "metadata": {
    "pycharm": {
     "name": "#%%\n"
    }
   },
   "outputs": [
    {
     "data": {
      "text/html": [
       "<div>\n",
       "<style scoped>\n",
       "    .dataframe tbody tr th:only-of-type {\n",
       "        vertical-align: middle;\n",
       "    }\n",
       "\n",
       "    .dataframe tbody tr th {\n",
       "        vertical-align: top;\n",
       "    }\n",
       "\n",
       "    .dataframe thead th {\n",
       "        text-align: right;\n",
       "    }\n",
       "</style>\n",
       "<table border=\"1\" class=\"dataframe\">\n",
       "  <thead>\n",
       "    <tr style=\"text-align: right;\">\n",
       "      <th></th>\n",
       "      <th>month</th>\n",
       "      <th>user_id</th>\n",
       "      <th>number_minutes</th>\n",
       "    </tr>\n",
       "  </thead>\n",
       "  <tbody>\n",
       "    <tr>\n",
       "      <th>0</th>\n",
       "      <td>1</td>\n",
       "      <td>1005</td>\n",
       "      <td>95.0</td>\n",
       "    </tr>\n",
       "    <tr>\n",
       "      <th>1</th>\n",
       "      <td>1</td>\n",
       "      <td>1032</td>\n",
       "      <td>380.0</td>\n",
       "    </tr>\n",
       "    <tr>\n",
       "      <th>2</th>\n",
       "      <td>1</td>\n",
       "      <td>1045</td>\n",
       "      <td>9.0</td>\n",
       "    </tr>\n",
       "  </tbody>\n",
       "</table>\n",
       "</div>"
      ],
      "text/plain": [
       "   month  user_id  number_minutes\n",
       "0      1     1005            95.0\n",
       "1      1     1032           380.0\n",
       "2      1     1045             9.0"
      ]
     },
     "metadata": {},
     "output_type": "display_data"
    }
   ],
   "source": [
    "# данный признак рассчитан нами на этапе предварительной группировки перед объединением таблиц\n",
    "minutes_month = df[['month', 'user_id', 'number_minutes']]\n",
    "display(minutes_month.head(3))"
   ]
  },
  {
   "cell_type": "markdown",
   "metadata": {
    "pycharm": {
     "name": "#%% md\n"
    }
   },
   "source": [
    "#### Количество отправленных сообщений пользователем по месяцам"
   ]
  },
  {
   "cell_type": "code",
   "execution_count": 978,
   "metadata": {
    "pycharm": {
     "name": "#%%\n"
    }
   },
   "outputs": [
    {
     "data": {
      "text/html": [
       "<div>\n",
       "<style scoped>\n",
       "    .dataframe tbody tr th:only-of-type {\n",
       "        vertical-align: middle;\n",
       "    }\n",
       "\n",
       "    .dataframe tbody tr th {\n",
       "        vertical-align: top;\n",
       "    }\n",
       "\n",
       "    .dataframe thead th {\n",
       "        text-align: right;\n",
       "    }\n",
       "</style>\n",
       "<table border=\"1\" class=\"dataframe\">\n",
       "  <thead>\n",
       "    <tr style=\"text-align: right;\">\n",
       "      <th></th>\n",
       "      <th>month</th>\n",
       "      <th>user_id</th>\n",
       "      <th>number_messages</th>\n",
       "    </tr>\n",
       "  </thead>\n",
       "  <tbody>\n",
       "    <tr>\n",
       "      <th>0</th>\n",
       "      <td>1</td>\n",
       "      <td>1005</td>\n",
       "      <td>7</td>\n",
       "    </tr>\n",
       "    <tr>\n",
       "      <th>1</th>\n",
       "      <td>1</td>\n",
       "      <td>1032</td>\n",
       "      <td>38</td>\n",
       "    </tr>\n",
       "    <tr>\n",
       "      <th>2</th>\n",
       "      <td>1</td>\n",
       "      <td>1045</td>\n",
       "      <td>5</td>\n",
       "    </tr>\n",
       "  </tbody>\n",
       "</table>\n",
       "</div>"
      ],
      "text/plain": [
       "   month  user_id  number_messages\n",
       "0      1     1005                7\n",
       "1      1     1032               38\n",
       "2      1     1045                5"
      ]
     },
     "metadata": {},
     "output_type": "display_data"
    }
   ],
   "source": [
    "# данный признак рассчитан нами на этапе предварительной группировки перед объединением таблиц\n",
    "messages_month = df[['month', 'user_id', 'number_messages']]\n",
    "display(messages_month.head(3))"
   ]
  },
  {
   "cell_type": "markdown",
   "metadata": {
    "pycharm": {
     "name": "#%% md\n"
    }
   },
   "source": [
    "#### Объем израсходованного интернет-трафика по месяцам"
   ]
  },
  {
   "cell_type": "code",
   "execution_count": 979,
   "metadata": {
    "pycharm": {
     "name": "#%%\n"
    }
   },
   "outputs": [
    {
     "data": {
      "text/html": [
       "<div>\n",
       "<style scoped>\n",
       "    .dataframe tbody tr th:only-of-type {\n",
       "        vertical-align: middle;\n",
       "    }\n",
       "\n",
       "    .dataframe tbody tr th {\n",
       "        vertical-align: top;\n",
       "    }\n",
       "\n",
       "    .dataframe thead th {\n",
       "        text-align: right;\n",
       "    }\n",
       "</style>\n",
       "<table border=\"1\" class=\"dataframe\">\n",
       "  <thead>\n",
       "    <tr style=\"text-align: right;\">\n",
       "      <th></th>\n",
       "      <th>month</th>\n",
       "      <th>user_id</th>\n",
       "      <th>number_gb</th>\n",
       "    </tr>\n",
       "  </thead>\n",
       "  <tbody>\n",
       "    <tr>\n",
       "      <th>0</th>\n",
       "      <td>1</td>\n",
       "      <td>1005</td>\n",
       "      <td>2728.0</td>\n",
       "    </tr>\n",
       "    <tr>\n",
       "      <th>1</th>\n",
       "      <td>1</td>\n",
       "      <td>1032</td>\n",
       "      <td>24128.0</td>\n",
       "    </tr>\n",
       "    <tr>\n",
       "      <th>2</th>\n",
       "      <td>1</td>\n",
       "      <td>1045</td>\n",
       "      <td>2347.0</td>\n",
       "    </tr>\n",
       "  </tbody>\n",
       "</table>\n",
       "</div>"
      ],
      "text/plain": [
       "   month  user_id  number_gb\n",
       "0      1     1005     2728.0\n",
       "1      1     1032    24128.0\n",
       "2      1     1045     2347.0"
      ]
     },
     "metadata": {},
     "output_type": "display_data"
    }
   ],
   "source": [
    "# согласно примечания - для веб-трафика отдельные сессии не считаются. Вместо этого общая сумма за месяц округляется в бо́льшую сторону.\n",
    "# выполним округление в большую сторону\n",
    "df.number_gb = np.ceil(df.number_gb)\n",
    "\n",
    "# данный признак рассчитан нами на этапе предварительной группировки перед объединением таблиц\n",
    "mb_month = df[['month', 'user_id', 'number_gb']]\n",
    "display(mb_month.head(3))"
   ]
  },
  {
   "cell_type": "markdown",
   "metadata": {
    "pycharm": {
     "name": "#%% md\n"
    }
   },
   "source": [
    "#### Помесячная выручка с каждого пользователя\n",
    "<div class=\"alert alert-info\"> <b>Примечание:</b>\n",
    "вычтите бесплатный лимит из суммарного количества звонков, сообщений и интернет-трафика; остаток умножьте на значение из тарифного плана; прибавьте абонентскую плату, соответствующую тарифному плану.\n",
    "</div>"
   ]
  },
  {
   "cell_type": "code",
   "execution_count": 980,
   "metadata": {
    "pycharm": {
     "name": "#%%\n"
    }
   },
   "outputs": [
    {
     "data": {
      "text/html": [
       "<div>\n",
       "<style scoped>\n",
       "    .dataframe tbody tr th:only-of-type {\n",
       "        vertical-align: middle;\n",
       "    }\n",
       "\n",
       "    .dataframe tbody tr th {\n",
       "        vertical-align: top;\n",
       "    }\n",
       "\n",
       "    .dataframe thead th {\n",
       "        text-align: right;\n",
       "    }\n",
       "</style>\n",
       "<table border=\"1\" class=\"dataframe\">\n",
       "  <thead>\n",
       "    <tr style=\"text-align: right;\">\n",
       "      <th></th>\n",
       "      <th>month</th>\n",
       "      <th>user_id</th>\n",
       "      <th>number_minutes</th>\n",
       "      <th>number_calls</th>\n",
       "      <th>number_gb</th>\n",
       "      <th>number_messages</th>\n",
       "      <th>city</th>\n",
       "      <th>tariff_name</th>\n",
       "      <th>tariffs_id</th>\n",
       "      <th>messages_included</th>\n",
       "      <th>mb_per_month_included</th>\n",
       "      <th>minutes_included</th>\n",
       "      <th>rub_monthly_fee</th>\n",
       "      <th>rub_per_gb</th>\n",
       "      <th>rub_per_message</th>\n",
       "      <th>rub_per_minute</th>\n",
       "      <th>revenue_min</th>\n",
       "    </tr>\n",
       "  </thead>\n",
       "  <tbody>\n",
       "    <tr>\n",
       "      <th>0</th>\n",
       "      <td>1</td>\n",
       "      <td>1005</td>\n",
       "      <td>95.0</td>\n",
       "      <td>15</td>\n",
       "      <td>2728.0</td>\n",
       "      <td>7</td>\n",
       "      <td>Набережные Челны</td>\n",
       "      <td>smart</td>\n",
       "      <td>0</td>\n",
       "      <td>50</td>\n",
       "      <td>15360</td>\n",
       "      <td>500</td>\n",
       "      <td>550</td>\n",
       "      <td>200</td>\n",
       "      <td>3</td>\n",
       "      <td>3</td>\n",
       "      <td>-665.0</td>\n",
       "    </tr>\n",
       "    <tr>\n",
       "      <th>1</th>\n",
       "      <td>1</td>\n",
       "      <td>1032</td>\n",
       "      <td>380.0</td>\n",
       "      <td>61</td>\n",
       "      <td>24128.0</td>\n",
       "      <td>38</td>\n",
       "      <td>Ульяновск</td>\n",
       "      <td>smart</td>\n",
       "      <td>0</td>\n",
       "      <td>50</td>\n",
       "      <td>15360</td>\n",
       "      <td>500</td>\n",
       "      <td>550</td>\n",
       "      <td>200</td>\n",
       "      <td>3</td>\n",
       "      <td>3</td>\n",
       "      <td>190.0</td>\n",
       "    </tr>\n",
       "    <tr>\n",
       "      <th>2</th>\n",
       "      <td>1</td>\n",
       "      <td>1045</td>\n",
       "      <td>9.0</td>\n",
       "      <td>1</td>\n",
       "      <td>2347.0</td>\n",
       "      <td>5</td>\n",
       "      <td>Улан-Удэ</td>\n",
       "      <td>smart</td>\n",
       "      <td>0</td>\n",
       "      <td>50</td>\n",
       "      <td>15360</td>\n",
       "      <td>500</td>\n",
       "      <td>550</td>\n",
       "      <td>200</td>\n",
       "      <td>3</td>\n",
       "      <td>3</td>\n",
       "      <td>-923.0</td>\n",
       "    </tr>\n",
       "  </tbody>\n",
       "</table>\n",
       "</div>"
      ],
      "text/plain": [
       "   month  user_id  number_minutes  number_calls  number_gb  number_messages  \\\n",
       "0      1     1005            95.0            15     2728.0                7   \n",
       "1      1     1032           380.0            61    24128.0               38   \n",
       "2      1     1045             9.0             1     2347.0                5   \n",
       "\n",
       "               city tariff_name  tariffs_id  messages_included  \\\n",
       "0  Набережные Челны       smart           0                 50   \n",
       "1         Ульяновск       smart           0                 50   \n",
       "2          Улан-Удэ       smart           0                 50   \n",
       "\n",
       "   mb_per_month_included  minutes_included  rub_monthly_fee  rub_per_gb  \\\n",
       "0                  15360               500              550         200   \n",
       "1                  15360               500              550         200   \n",
       "2                  15360               500              550         200   \n",
       "\n",
       "   rub_per_message  rub_per_minute  revenue_min  \n",
       "0                3               3       -665.0  \n",
       "1                3               3        190.0  \n",
       "2                3               3       -923.0  "
      ]
     },
     "metadata": {},
     "output_type": "display_data"
    }
   ],
   "source": [
    "# добавим вычисляемый столбец с выручкой по звонкам\n",
    "df['revenue_min'] = (df['number_minutes'] - df['minutes_included']) * df['rub_per_minute'] + df['rub_monthly_fee']\n",
    "display(df.head(3))"
   ]
  },
  {
   "cell_type": "code",
   "execution_count": 981,
   "metadata": {
    "pycharm": {
     "name": "#%%\n"
    }
   },
   "outputs": [
    {
     "data": {
      "text/html": [
       "<div>\n",
       "<style scoped>\n",
       "    .dataframe tbody tr th:only-of-type {\n",
       "        vertical-align: middle;\n",
       "    }\n",
       "\n",
       "    .dataframe tbody tr th {\n",
       "        vertical-align: top;\n",
       "    }\n",
       "\n",
       "    .dataframe thead th {\n",
       "        text-align: right;\n",
       "    }\n",
       "</style>\n",
       "<table border=\"1\" class=\"dataframe\">\n",
       "  <thead>\n",
       "    <tr style=\"text-align: right;\">\n",
       "      <th></th>\n",
       "      <th>month</th>\n",
       "      <th>user_id</th>\n",
       "      <th>number_minutes</th>\n",
       "      <th>number_calls</th>\n",
       "      <th>number_gb</th>\n",
       "      <th>number_messages</th>\n",
       "      <th>city</th>\n",
       "      <th>tariff_name</th>\n",
       "      <th>tariffs_id</th>\n",
       "      <th>messages_included</th>\n",
       "      <th>mb_per_month_included</th>\n",
       "      <th>minutes_included</th>\n",
       "      <th>rub_monthly_fee</th>\n",
       "      <th>rub_per_gb</th>\n",
       "      <th>rub_per_message</th>\n",
       "      <th>rub_per_minute</th>\n",
       "      <th>revenue_min</th>\n",
       "      <th>revenue_ms</th>\n",
       "    </tr>\n",
       "  </thead>\n",
       "  <tbody>\n",
       "    <tr>\n",
       "      <th>0</th>\n",
       "      <td>1</td>\n",
       "      <td>1005</td>\n",
       "      <td>95.0</td>\n",
       "      <td>15</td>\n",
       "      <td>2728.0</td>\n",
       "      <td>7</td>\n",
       "      <td>Набережные Челны</td>\n",
       "      <td>smart</td>\n",
       "      <td>0</td>\n",
       "      <td>50</td>\n",
       "      <td>15360</td>\n",
       "      <td>500</td>\n",
       "      <td>550</td>\n",
       "      <td>200</td>\n",
       "      <td>3</td>\n",
       "      <td>3</td>\n",
       "      <td>-665.0</td>\n",
       "      <td>421</td>\n",
       "    </tr>\n",
       "    <tr>\n",
       "      <th>1</th>\n",
       "      <td>1</td>\n",
       "      <td>1032</td>\n",
       "      <td>380.0</td>\n",
       "      <td>61</td>\n",
       "      <td>24128.0</td>\n",
       "      <td>38</td>\n",
       "      <td>Ульяновск</td>\n",
       "      <td>smart</td>\n",
       "      <td>0</td>\n",
       "      <td>50</td>\n",
       "      <td>15360</td>\n",
       "      <td>500</td>\n",
       "      <td>550</td>\n",
       "      <td>200</td>\n",
       "      <td>3</td>\n",
       "      <td>3</td>\n",
       "      <td>190.0</td>\n",
       "      <td>514</td>\n",
       "    </tr>\n",
       "    <tr>\n",
       "      <th>2</th>\n",
       "      <td>1</td>\n",
       "      <td>1045</td>\n",
       "      <td>9.0</td>\n",
       "      <td>1</td>\n",
       "      <td>2347.0</td>\n",
       "      <td>5</td>\n",
       "      <td>Улан-Удэ</td>\n",
       "      <td>smart</td>\n",
       "      <td>0</td>\n",
       "      <td>50</td>\n",
       "      <td>15360</td>\n",
       "      <td>500</td>\n",
       "      <td>550</td>\n",
       "      <td>200</td>\n",
       "      <td>3</td>\n",
       "      <td>3</td>\n",
       "      <td>-923.0</td>\n",
       "      <td>415</td>\n",
       "    </tr>\n",
       "  </tbody>\n",
       "</table>\n",
       "</div>"
      ],
      "text/plain": [
       "   month  user_id  number_minutes  number_calls  number_gb  number_messages  \\\n",
       "0      1     1005            95.0            15     2728.0                7   \n",
       "1      1     1032           380.0            61    24128.0               38   \n",
       "2      1     1045             9.0             1     2347.0                5   \n",
       "\n",
       "               city tariff_name  tariffs_id  messages_included  \\\n",
       "0  Набережные Челны       smart           0                 50   \n",
       "1         Ульяновск       smart           0                 50   \n",
       "2          Улан-Удэ       smart           0                 50   \n",
       "\n",
       "   mb_per_month_included  minutes_included  rub_monthly_fee  rub_per_gb  \\\n",
       "0                  15360               500              550         200   \n",
       "1                  15360               500              550         200   \n",
       "2                  15360               500              550         200   \n",
       "\n",
       "   rub_per_message  rub_per_minute  revenue_min  revenue_ms  \n",
       "0                3               3       -665.0         421  \n",
       "1                3               3        190.0         514  \n",
       "2                3               3       -923.0         415  "
      ]
     },
     "metadata": {},
     "output_type": "display_data"
    }
   ],
   "source": [
    "# добавим вычисляемый столбец c выручкjq по сообщениям\n",
    "df['revenue_ms'] = (df['number_messages'] - df['messages_included']) * df['rub_per_message'] + df['rub_monthly_fee']\n",
    "display(df.head(3))"
   ]
  },
  {
   "cell_type": "code",
   "execution_count": 982,
   "metadata": {
    "pycharm": {
     "name": "#%%\n"
    }
   },
   "outputs": [
    {
     "data": {
      "text/html": [
       "<div>\n",
       "<style scoped>\n",
       "    .dataframe tbody tr th:only-of-type {\n",
       "        vertical-align: middle;\n",
       "    }\n",
       "\n",
       "    .dataframe tbody tr th {\n",
       "        vertical-align: top;\n",
       "    }\n",
       "\n",
       "    .dataframe thead th {\n",
       "        text-align: right;\n",
       "    }\n",
       "</style>\n",
       "<table border=\"1\" class=\"dataframe\">\n",
       "  <thead>\n",
       "    <tr style=\"text-align: right;\">\n",
       "      <th></th>\n",
       "      <th>month</th>\n",
       "      <th>user_id</th>\n",
       "      <th>number_minutes</th>\n",
       "      <th>number_calls</th>\n",
       "      <th>number_gb</th>\n",
       "      <th>number_messages</th>\n",
       "      <th>city</th>\n",
       "      <th>tariff_name</th>\n",
       "      <th>tariffs_id</th>\n",
       "      <th>messages_included</th>\n",
       "      <th>mb_per_month_included</th>\n",
       "      <th>minutes_included</th>\n",
       "      <th>rub_monthly_fee</th>\n",
       "      <th>rub_per_gb</th>\n",
       "      <th>rub_per_message</th>\n",
       "      <th>rub_per_minute</th>\n",
       "      <th>revenue_min</th>\n",
       "      <th>revenue_ms</th>\n",
       "      <th>revenue_gb</th>\n",
       "    </tr>\n",
       "  </thead>\n",
       "  <tbody>\n",
       "    <tr>\n",
       "      <th>0</th>\n",
       "      <td>1</td>\n",
       "      <td>1005</td>\n",
       "      <td>95.0</td>\n",
       "      <td>15</td>\n",
       "      <td>2728.0</td>\n",
       "      <td>7</td>\n",
       "      <td>Набережные Челны</td>\n",
       "      <td>smart</td>\n",
       "      <td>0</td>\n",
       "      <td>50</td>\n",
       "      <td>15360</td>\n",
       "      <td>500</td>\n",
       "      <td>550</td>\n",
       "      <td>200</td>\n",
       "      <td>3</td>\n",
       "      <td>3</td>\n",
       "      <td>-665.0</td>\n",
       "      <td>421</td>\n",
       "      <td>-1850.0</td>\n",
       "    </tr>\n",
       "    <tr>\n",
       "      <th>1</th>\n",
       "      <td>1</td>\n",
       "      <td>1032</td>\n",
       "      <td>380.0</td>\n",
       "      <td>61</td>\n",
       "      <td>24128.0</td>\n",
       "      <td>38</td>\n",
       "      <td>Ульяновск</td>\n",
       "      <td>smart</td>\n",
       "      <td>0</td>\n",
       "      <td>50</td>\n",
       "      <td>15360</td>\n",
       "      <td>500</td>\n",
       "      <td>550</td>\n",
       "      <td>200</td>\n",
       "      <td>3</td>\n",
       "      <td>3</td>\n",
       "      <td>190.0</td>\n",
       "      <td>514</td>\n",
       "      <td>2350.0</td>\n",
       "    </tr>\n",
       "    <tr>\n",
       "      <th>2</th>\n",
       "      <td>1</td>\n",
       "      <td>1045</td>\n",
       "      <td>9.0</td>\n",
       "      <td>1</td>\n",
       "      <td>2347.0</td>\n",
       "      <td>5</td>\n",
       "      <td>Улан-Удэ</td>\n",
       "      <td>smart</td>\n",
       "      <td>0</td>\n",
       "      <td>50</td>\n",
       "      <td>15360</td>\n",
       "      <td>500</td>\n",
       "      <td>550</td>\n",
       "      <td>200</td>\n",
       "      <td>3</td>\n",
       "      <td>3</td>\n",
       "      <td>-923.0</td>\n",
       "      <td>415</td>\n",
       "      <td>-1850.0</td>\n",
       "    </tr>\n",
       "  </tbody>\n",
       "</table>\n",
       "</div>"
      ],
      "text/plain": [
       "   month  user_id  number_minutes  number_calls  number_gb  number_messages  \\\n",
       "0      1     1005            95.0            15     2728.0                7   \n",
       "1      1     1032           380.0            61    24128.0               38   \n",
       "2      1     1045             9.0             1     2347.0                5   \n",
       "\n",
       "               city tariff_name  tariffs_id  messages_included  \\\n",
       "0  Набережные Челны       smart           0                 50   \n",
       "1         Ульяновск       smart           0                 50   \n",
       "2          Улан-Удэ       smart           0                 50   \n",
       "\n",
       "   mb_per_month_included  minutes_included  rub_monthly_fee  rub_per_gb  \\\n",
       "0                  15360               500              550         200   \n",
       "1                  15360               500              550         200   \n",
       "2                  15360               500              550         200   \n",
       "\n",
       "   rub_per_message  rub_per_minute  revenue_min  revenue_ms  revenue_gb  \n",
       "0                3               3       -665.0         421     -1850.0  \n",
       "1                3               3        190.0         514      2350.0  \n",
       "2                3               3       -923.0         415     -1850.0  "
      ]
     },
     "metadata": {},
     "output_type": "display_data"
    }
   ],
   "source": [
    "# добавим вычисляемый столбец c выручкой по интернет-трафику\n",
    "df['revenue_gb'] = np.ceil((df['number_gb'] - df['mb_per_month_included']) / 1024) * df['rub_per_gb'] + df['rub_monthly_fee']\n",
    "display(df.head(3))"
   ]
  },
  {
   "cell_type": "code",
   "execution_count": 983,
   "metadata": {
    "pycharm": {
     "name": "#%%\n"
    }
   },
   "outputs": [
    {
     "data": {
      "text/html": [
       "<div>\n",
       "<style scoped>\n",
       "    .dataframe tbody tr th:only-of-type {\n",
       "        vertical-align: middle;\n",
       "    }\n",
       "\n",
       "    .dataframe tbody tr th {\n",
       "        vertical-align: top;\n",
       "    }\n",
       "\n",
       "    .dataframe thead th {\n",
       "        text-align: right;\n",
       "    }\n",
       "</style>\n",
       "<table border=\"1\" class=\"dataframe\">\n",
       "  <thead>\n",
       "    <tr style=\"text-align: right;\">\n",
       "      <th></th>\n",
       "      <th>month</th>\n",
       "      <th>user_id</th>\n",
       "      <th>number_minutes</th>\n",
       "      <th>number_calls</th>\n",
       "      <th>number_gb</th>\n",
       "      <th>number_messages</th>\n",
       "      <th>city</th>\n",
       "      <th>tariff_name</th>\n",
       "      <th>revenue_min</th>\n",
       "      <th>revenue_ms</th>\n",
       "      <th>revenue_gb</th>\n",
       "    </tr>\n",
       "  </thead>\n",
       "  <tbody>\n",
       "    <tr>\n",
       "      <th>0</th>\n",
       "      <td>1</td>\n",
       "      <td>1005</td>\n",
       "      <td>95.0</td>\n",
       "      <td>15</td>\n",
       "      <td>2728.0</td>\n",
       "      <td>7</td>\n",
       "      <td>Набережные Челны</td>\n",
       "      <td>smart</td>\n",
       "      <td>-665.0</td>\n",
       "      <td>421</td>\n",
       "      <td>-1850.0</td>\n",
       "    </tr>\n",
       "    <tr>\n",
       "      <th>1</th>\n",
       "      <td>1</td>\n",
       "      <td>1032</td>\n",
       "      <td>380.0</td>\n",
       "      <td>61</td>\n",
       "      <td>24128.0</td>\n",
       "      <td>38</td>\n",
       "      <td>Ульяновск</td>\n",
       "      <td>smart</td>\n",
       "      <td>190.0</td>\n",
       "      <td>514</td>\n",
       "      <td>2350.0</td>\n",
       "    </tr>\n",
       "    <tr>\n",
       "      <th>2</th>\n",
       "      <td>1</td>\n",
       "      <td>1045</td>\n",
       "      <td>9.0</td>\n",
       "      <td>1</td>\n",
       "      <td>2347.0</td>\n",
       "      <td>5</td>\n",
       "      <td>Улан-Удэ</td>\n",
       "      <td>smart</td>\n",
       "      <td>-923.0</td>\n",
       "      <td>415</td>\n",
       "      <td>-1850.0</td>\n",
       "    </tr>\n",
       "  </tbody>\n",
       "</table>\n",
       "</div>"
      ],
      "text/plain": [
       "   month  user_id  number_minutes  number_calls  number_gb  number_messages  \\\n",
       "0      1     1005            95.0            15     2728.0                7   \n",
       "1      1     1032           380.0            61    24128.0               38   \n",
       "2      1     1045             9.0             1     2347.0                5   \n",
       "\n",
       "               city tariff_name  revenue_min  revenue_ms  revenue_gb  \n",
       "0  Набережные Челны       smart       -665.0         421     -1850.0  \n",
       "1         Ульяновск       smart        190.0         514      2350.0  \n",
       "2          Улан-Удэ       smart       -923.0         415     -1850.0  "
      ]
     },
     "metadata": {},
     "output_type": "display_data"
    }
   ],
   "source": [
    "# избавимся от полей, которые использовались для расчетов\n",
    "df = df.drop(['minutes_included', 'rub_per_minute', 'messages_included', 'rub_per_message', 'rub_monthly_fee', 'mb_per_month_included', 'rub_per_gb', 'tariffs_id'], axis=1)\n",
    "\n",
    "# проверим удаление\n",
    "display(df.head(3))"
   ]
  },
  {
   "cell_type": "code",
   "execution_count": 984,
   "metadata": {
    "pycharm": {
     "name": "#%%\n"
    }
   },
   "outputs": [
    {
     "data": {
      "text/html": [
       "<div>\n",
       "<style scoped>\n",
       "    .dataframe tbody tr th:only-of-type {\n",
       "        vertical-align: middle;\n",
       "    }\n",
       "\n",
       "    .dataframe tbody tr th {\n",
       "        vertical-align: top;\n",
       "    }\n",
       "\n",
       "    .dataframe thead th {\n",
       "        text-align: right;\n",
       "    }\n",
       "</style>\n",
       "<table border=\"1\" class=\"dataframe\">\n",
       "  <thead>\n",
       "    <tr style=\"text-align: right;\">\n",
       "      <th></th>\n",
       "      <th>month</th>\n",
       "      <th>user_id</th>\n",
       "      <th>number_minutes</th>\n",
       "      <th>number_calls</th>\n",
       "      <th>number_gb</th>\n",
       "      <th>number_messages</th>\n",
       "      <th>city</th>\n",
       "      <th>tariff_name</th>\n",
       "      <th>revenue_min</th>\n",
       "      <th>revenue_ms</th>\n",
       "      <th>revenue_gb</th>\n",
       "      <th>revenue_month</th>\n",
       "    </tr>\n",
       "  </thead>\n",
       "  <tbody>\n",
       "    <tr>\n",
       "      <th>0</th>\n",
       "      <td>1</td>\n",
       "      <td>1005</td>\n",
       "      <td>95.0</td>\n",
       "      <td>15</td>\n",
       "      <td>2728.0</td>\n",
       "      <td>7</td>\n",
       "      <td>Набережные Челны</td>\n",
       "      <td>smart</td>\n",
       "      <td>-665.0</td>\n",
       "      <td>421</td>\n",
       "      <td>-1850.0</td>\n",
       "      <td>-2094.0</td>\n",
       "    </tr>\n",
       "    <tr>\n",
       "      <th>34</th>\n",
       "      <td>2</td>\n",
       "      <td>1005</td>\n",
       "      <td>456.0</td>\n",
       "      <td>69</td>\n",
       "      <td>7384.0</td>\n",
       "      <td>38</td>\n",
       "      <td>Набережные Челны</td>\n",
       "      <td>smart</td>\n",
       "      <td>418.0</td>\n",
       "      <td>514</td>\n",
       "      <td>-850.0</td>\n",
       "      <td>82.0</td>\n",
       "    </tr>\n",
       "    <tr>\n",
       "      <th>92</th>\n",
       "      <td>3</td>\n",
       "      <td>1005</td>\n",
       "      <td>606.0</td>\n",
       "      <td>77</td>\n",
       "      <td>11105.0</td>\n",
       "      <td>56</td>\n",
       "      <td>Набережные Челны</td>\n",
       "      <td>smart</td>\n",
       "      <td>868.0</td>\n",
       "      <td>568</td>\n",
       "      <td>-250.0</td>\n",
       "      <td>1186.0</td>\n",
       "    </tr>\n",
       "    <tr>\n",
       "      <th>169</th>\n",
       "      <td>4</td>\n",
       "      <td>1005</td>\n",
       "      <td>712.0</td>\n",
       "      <td>101</td>\n",
       "      <td>9352.0</td>\n",
       "      <td>41</td>\n",
       "      <td>Набережные Челны</td>\n",
       "      <td>smart</td>\n",
       "      <td>1186.0</td>\n",
       "      <td>523</td>\n",
       "      <td>-450.0</td>\n",
       "      <td>1259.0</td>\n",
       "    </tr>\n",
       "    <tr>\n",
       "      <th>281</th>\n",
       "      <td>5</td>\n",
       "      <td>1005</td>\n",
       "      <td>595.0</td>\n",
       "      <td>73</td>\n",
       "      <td>7866.0</td>\n",
       "      <td>42</td>\n",
       "      <td>Набережные Челны</td>\n",
       "      <td>smart</td>\n",
       "      <td>835.0</td>\n",
       "      <td>526</td>\n",
       "      <td>-850.0</td>\n",
       "      <td>511.0</td>\n",
       "    </tr>\n",
       "    <tr>\n",
       "      <th>423</th>\n",
       "      <td>6</td>\n",
       "      <td>1005</td>\n",
       "      <td>612.0</td>\n",
       "      <td>80</td>\n",
       "      <td>9864.0</td>\n",
       "      <td>47</td>\n",
       "      <td>Набережные Челны</td>\n",
       "      <td>smart</td>\n",
       "      <td>886.0</td>\n",
       "      <td>541</td>\n",
       "      <td>-450.0</td>\n",
       "      <td>977.0</td>\n",
       "    </tr>\n",
       "    <tr>\n",
       "      <th>586</th>\n",
       "      <td>7</td>\n",
       "      <td>1005</td>\n",
       "      <td>569.0</td>\n",
       "      <td>77</td>\n",
       "      <td>7695.0</td>\n",
       "      <td>56</td>\n",
       "      <td>Набережные Челны</td>\n",
       "      <td>smart</td>\n",
       "      <td>757.0</td>\n",
       "      <td>568</td>\n",
       "      <td>-850.0</td>\n",
       "      <td>475.0</td>\n",
       "    </tr>\n",
       "    <tr>\n",
       "      <th>787</th>\n",
       "      <td>8</td>\n",
       "      <td>1005</td>\n",
       "      <td>619.0</td>\n",
       "      <td>71</td>\n",
       "      <td>7544.0</td>\n",
       "      <td>64</td>\n",
       "      <td>Набережные Челны</td>\n",
       "      <td>smart</td>\n",
       "      <td>907.0</td>\n",
       "      <td>592</td>\n",
       "      <td>-850.0</td>\n",
       "      <td>649.0</td>\n",
       "    </tr>\n",
       "    <tr>\n",
       "      <th>1021</th>\n",
       "      <td>9</td>\n",
       "      <td>1005</td>\n",
       "      <td>479.0</td>\n",
       "      <td>66</td>\n",
       "      <td>7017.0</td>\n",
       "      <td>52</td>\n",
       "      <td>Набережные Челны</td>\n",
       "      <td>smart</td>\n",
       "      <td>487.0</td>\n",
       "      <td>556</td>\n",
       "      <td>-1050.0</td>\n",
       "      <td>-7.0</td>\n",
       "    </tr>\n",
       "    <tr>\n",
       "      <th>1280</th>\n",
       "      <td>10</td>\n",
       "      <td>1005</td>\n",
       "      <td>723.0</td>\n",
       "      <td>100</td>\n",
       "      <td>7801.0</td>\n",
       "      <td>44</td>\n",
       "      <td>Набережные Челны</td>\n",
       "      <td>smart</td>\n",
       "      <td>1219.0</td>\n",
       "      <td>532</td>\n",
       "      <td>-850.0</td>\n",
       "      <td>901.0</td>\n",
       "    </tr>\n",
       "    <tr>\n",
       "      <th>1574</th>\n",
       "      <td>11</td>\n",
       "      <td>1005</td>\n",
       "      <td>547.0</td>\n",
       "      <td>75</td>\n",
       "      <td>12667.0</td>\n",
       "      <td>51</td>\n",
       "      <td>Набережные Челны</td>\n",
       "      <td>smart</td>\n",
       "      <td>691.0</td>\n",
       "      <td>553</td>\n",
       "      <td>150.0</td>\n",
       "      <td>1394.0</td>\n",
       "    </tr>\n",
       "    <tr>\n",
       "      <th>1889</th>\n",
       "      <td>12</td>\n",
       "      <td>1005</td>\n",
       "      <td>592.0</td>\n",
       "      <td>84</td>\n",
       "      <td>8669.0</td>\n",
       "      <td>54</td>\n",
       "      <td>Набережные Челны</td>\n",
       "      <td>smart</td>\n",
       "      <td>826.0</td>\n",
       "      <td>562</td>\n",
       "      <td>-650.0</td>\n",
       "      <td>738.0</td>\n",
       "    </tr>\n",
       "  </tbody>\n",
       "</table>\n",
       "</div>"
      ],
      "text/plain": [
       "      month  user_id  number_minutes  number_calls  number_gb  \\\n",
       "0         1     1005            95.0            15     2728.0   \n",
       "34        2     1005           456.0            69     7384.0   \n",
       "92        3     1005           606.0            77    11105.0   \n",
       "169       4     1005           712.0           101     9352.0   \n",
       "281       5     1005           595.0            73     7866.0   \n",
       "423       6     1005           612.0            80     9864.0   \n",
       "586       7     1005           569.0            77     7695.0   \n",
       "787       8     1005           619.0            71     7544.0   \n",
       "1021      9     1005           479.0            66     7017.0   \n",
       "1280     10     1005           723.0           100     7801.0   \n",
       "1574     11     1005           547.0            75    12667.0   \n",
       "1889     12     1005           592.0            84     8669.0   \n",
       "\n",
       "      number_messages              city tariff_name  revenue_min  revenue_ms  \\\n",
       "0                   7  Набережные Челны       smart       -665.0         421   \n",
       "34                 38  Набережные Челны       smart        418.0         514   \n",
       "92                 56  Набережные Челны       smart        868.0         568   \n",
       "169                41  Набережные Челны       smart       1186.0         523   \n",
       "281                42  Набережные Челны       smart        835.0         526   \n",
       "423                47  Набережные Челны       smart        886.0         541   \n",
       "586                56  Набережные Челны       smart        757.0         568   \n",
       "787                64  Набережные Челны       smart        907.0         592   \n",
       "1021               52  Набережные Челны       smart        487.0         556   \n",
       "1280               44  Набережные Челны       smart       1219.0         532   \n",
       "1574               51  Набережные Челны       smart        691.0         553   \n",
       "1889               54  Набережные Челны       smart        826.0         562   \n",
       "\n",
       "      revenue_gb  revenue_month  \n",
       "0        -1850.0        -2094.0  \n",
       "34        -850.0           82.0  \n",
       "92        -250.0         1186.0  \n",
       "169       -450.0         1259.0  \n",
       "281       -850.0          511.0  \n",
       "423       -450.0          977.0  \n",
       "586       -850.0          475.0  \n",
       "787       -850.0          649.0  \n",
       "1021     -1050.0           -7.0  \n",
       "1280      -850.0          901.0  \n",
       "1574       150.0         1394.0  \n",
       "1889      -650.0          738.0  "
      ]
     },
     "metadata": {},
     "output_type": "display_data"
    }
   ],
   "source": [
    "# добавим вычисляемый столбец \"выручка по пользователю по месяцам\"\n",
    "df['revenue_month'] = df['revenue_min'] + df['revenue_ms'] + df['revenue_gb']\n",
    "\n",
    "# выведим результат вычислений на примере пользователя с user_id = 1005\n",
    "display(df[df['user_id'] == 1005])"
   ]
  },
  {
   "cell_type": "markdown",
   "metadata": {
    "pycharm": {
     "name": "#%% md\n"
    }
   },
   "source": [
    "## Анализ данных\n",
    "**Сколько минут разговора, сколько сообщений и какой объём интернет-трафика требуется пользователям каждого тарифа в месяц?\n",
    "Рассчитаем среднее количество, дисперсию и стандартное отклонение.**"
   ]
  },
  {
   "cell_type": "code",
   "execution_count": 985,
   "metadata": {
    "pycharm": {
     "name": "#%%\n"
    }
   },
   "outputs": [
    {
     "data": {
      "text/html": [
       "<div>\n",
       "<style scoped>\n",
       "    .dataframe tbody tr th:only-of-type {\n",
       "        vertical-align: middle;\n",
       "    }\n",
       "\n",
       "    .dataframe tbody tr th {\n",
       "        vertical-align: top;\n",
       "    }\n",
       "\n",
       "    .dataframe thead tr th {\n",
       "        text-align: left;\n",
       "    }\n",
       "\n",
       "    .dataframe thead tr:last-of-type th {\n",
       "        text-align: right;\n",
       "    }\n",
       "</style>\n",
       "<table border=\"1\" class=\"dataframe\">\n",
       "  <thead>\n",
       "    <tr>\n",
       "      <th></th>\n",
       "      <th colspan=\"6\" halign=\"left\">mean</th>\n",
       "      <th colspan=\"6\" halign=\"left\">var</th>\n",
       "      <th colspan=\"6\" halign=\"left\">std</th>\n",
       "    </tr>\n",
       "    <tr>\n",
       "      <th></th>\n",
       "      <th colspan=\"2\" halign=\"left\">number_gb</th>\n",
       "      <th colspan=\"2\" halign=\"left\">number_messages</th>\n",
       "      <th colspan=\"2\" halign=\"left\">number_minutes</th>\n",
       "      <th colspan=\"2\" halign=\"left\">number_gb</th>\n",
       "      <th colspan=\"2\" halign=\"left\">number_messages</th>\n",
       "      <th colspan=\"2\" halign=\"left\">number_minutes</th>\n",
       "      <th colspan=\"2\" halign=\"left\">number_gb</th>\n",
       "      <th colspan=\"2\" halign=\"left\">number_messages</th>\n",
       "      <th colspan=\"2\" halign=\"left\">number_minutes</th>\n",
       "    </tr>\n",
       "    <tr>\n",
       "      <th>tariff_name</th>\n",
       "      <th>smart</th>\n",
       "      <th>ultra</th>\n",
       "      <th>smart</th>\n",
       "      <th>ultra</th>\n",
       "      <th>smart</th>\n",
       "      <th>ultra</th>\n",
       "      <th>smart</th>\n",
       "      <th>ultra</th>\n",
       "      <th>smart</th>\n",
       "      <th>ultra</th>\n",
       "      <th>smart</th>\n",
       "      <th>ultra</th>\n",
       "      <th>smart</th>\n",
       "      <th>ultra</th>\n",
       "      <th>smart</th>\n",
       "      <th>ultra</th>\n",
       "      <th>smart</th>\n",
       "      <th>ultra</th>\n",
       "    </tr>\n",
       "    <tr>\n",
       "      <th>month</th>\n",
       "      <th></th>\n",
       "      <th></th>\n",
       "      <th></th>\n",
       "      <th></th>\n",
       "      <th></th>\n",
       "      <th></th>\n",
       "      <th></th>\n",
       "      <th></th>\n",
       "      <th></th>\n",
       "      <th></th>\n",
       "      <th></th>\n",
       "      <th></th>\n",
       "      <th></th>\n",
       "      <th></th>\n",
       "      <th></th>\n",
       "      <th></th>\n",
       "      <th></th>\n",
       "      <th></th>\n",
       "    </tr>\n",
       "  </thead>\n",
       "  <tbody>\n",
       "    <tr>\n",
       "      <th>1</th>\n",
       "      <td>8514.176471</td>\n",
       "      <td>13141.333333</td>\n",
       "      <td>18.235294</td>\n",
       "      <td>33.777778</td>\n",
       "      <td>203.852941</td>\n",
       "      <td>428.111111</td>\n",
       "      <td>4.153401e+07</td>\n",
       "      <td>4.713590e+07</td>\n",
       "      <td>262.367201</td>\n",
       "      <td>940.694444</td>\n",
       "      <td>23787.341355</td>\n",
       "      <td>72769.361111</td>\n",
       "      <td>6444.688602</td>\n",
       "      <td>6865.558699</td>\n",
       "      <td>16.197753</td>\n",
       "      <td>30.670742</td>\n",
       "      <td>154.231454</td>\n",
       "      <td>269.757968</td>\n",
       "    </tr>\n",
       "    <tr>\n",
       "      <th>2</th>\n",
       "      <td>11597.517241</td>\n",
       "      <td>11776.333333</td>\n",
       "      <td>24.086207</td>\n",
       "      <td>21.958333</td>\n",
       "      <td>298.689655</td>\n",
       "      <td>297.125000</td>\n",
       "      <td>3.902912e+07</td>\n",
       "      <td>1.133121e+08</td>\n",
       "      <td>473.097701</td>\n",
       "      <td>716.824275</td>\n",
       "      <td>36412.287961</td>\n",
       "      <td>87919.679348</td>\n",
       "      <td>6247.328777</td>\n",
       "      <td>10644.816978</td>\n",
       "      <td>21.750809</td>\n",
       "      <td>26.773574</td>\n",
       "      <td>190.820041</td>\n",
       "      <td>296.512528</td>\n",
       "    </tr>\n",
       "    <tr>\n",
       "      <th>3</th>\n",
       "      <td>15104.649351</td>\n",
       "      <td>17536.054054</td>\n",
       "      <td>31.857143</td>\n",
       "      <td>32.297297</td>\n",
       "      <td>390.051948</td>\n",
       "      <td>489.648649</td>\n",
       "      <td>3.396841e+07</td>\n",
       "      <td>1.199431e+08</td>\n",
       "      <td>718.492481</td>\n",
       "      <td>1732.381381</td>\n",
       "      <td>36823.155161</td>\n",
       "      <td>111384.900901</td>\n",
       "      <td>5828.242162</td>\n",
       "      <td>10951.854696</td>\n",
       "      <td>26.804710</td>\n",
       "      <td>41.621886</td>\n",
       "      <td>191.893604</td>\n",
       "      <td>333.743765</td>\n",
       "    </tr>\n",
       "    <tr>\n",
       "      <th>4</th>\n",
       "      <td>13462.651786</td>\n",
       "      <td>16828.600000</td>\n",
       "      <td>30.741071</td>\n",
       "      <td>31.563636</td>\n",
       "      <td>367.133929</td>\n",
       "      <td>458.018182</td>\n",
       "      <td>3.246972e+07</td>\n",
       "      <td>9.445340e+07</td>\n",
       "      <td>602.139559</td>\n",
       "      <td>1407.287542</td>\n",
       "      <td>34778.207127</td>\n",
       "      <td>71653.870034</td>\n",
       "      <td>5698.221206</td>\n",
       "      <td>9718.714039</td>\n",
       "      <td>24.538532</td>\n",
       "      <td>37.513831</td>\n",
       "      <td>186.489161</td>\n",
       "      <td>267.682405</td>\n",
       "    </tr>\n",
       "    <tr>\n",
       "      <th>5</th>\n",
       "      <td>15805.659574</td>\n",
       "      <td>19363.671642</td>\n",
       "      <td>33.773050</td>\n",
       "      <td>37.850746</td>\n",
       "      <td>387.361702</td>\n",
       "      <td>510.328358</td>\n",
       "      <td>3.573960e+07</td>\n",
       "      <td>1.009244e+08</td>\n",
       "      <td>730.990983</td>\n",
       "      <td>1624.644052</td>\n",
       "      <td>34820.061094</td>\n",
       "      <td>83870.193578</td>\n",
       "      <td>5978.260685</td>\n",
       "      <td>10046.112771</td>\n",
       "      <td>27.036845</td>\n",
       "      <td>40.306874</td>\n",
       "      <td>186.601343</td>\n",
       "      <td>289.603511</td>\n",
       "    </tr>\n",
       "    <tr>\n",
       "      <th>6</th>\n",
       "      <td>15795.146341</td>\n",
       "      <td>18925.404762</td>\n",
       "      <td>33.402439</td>\n",
       "      <td>41.726190</td>\n",
       "      <td>395.640244</td>\n",
       "      <td>479.702381</td>\n",
       "      <td>3.353713e+07</td>\n",
       "      <td>8.635645e+07</td>\n",
       "      <td>806.806374</td>\n",
       "      <td>1986.297619</td>\n",
       "      <td>30742.918861</td>\n",
       "      <td>91535.946500</td>\n",
       "      <td>5791.124844</td>\n",
       "      <td>9292.817347</td>\n",
       "      <td>28.404337</td>\n",
       "      <td>44.567899</td>\n",
       "      <td>175.336587</td>\n",
       "      <td>302.549081</td>\n",
       "    </tr>\n",
       "    <tr>\n",
       "      <th>7</th>\n",
       "      <td>15743.616915</td>\n",
       "      <td>20496.153846</td>\n",
       "      <td>33.751244</td>\n",
       "      <td>49.846154</td>\n",
       "      <td>408.353234</td>\n",
       "      <td>545.791209</td>\n",
       "      <td>3.477686e+07</td>\n",
       "      <td>1.013082e+08</td>\n",
       "      <td>799.887811</td>\n",
       "      <td>2372.042735</td>\n",
       "      <td>32250.269602</td>\n",
       "      <td>94322.278144</td>\n",
       "      <td>5897.191102</td>\n",
       "      <td>10065.198600</td>\n",
       "      <td>28.282288</td>\n",
       "      <td>48.703621</td>\n",
       "      <td>179.583601</td>\n",
       "      <td>307.119322</td>\n",
       "    </tr>\n",
       "    <tr>\n",
       "      <th>8</th>\n",
       "      <td>16611.208511</td>\n",
       "      <td>19576.570093</td>\n",
       "      <td>33.638298</td>\n",
       "      <td>48.439252</td>\n",
       "      <td>421.468085</td>\n",
       "      <td>510.775701</td>\n",
       "      <td>3.128725e+07</td>\n",
       "      <td>1.097589e+08</td>\n",
       "      <td>838.257501</td>\n",
       "      <td>2171.739199</td>\n",
       "      <td>34793.583379</td>\n",
       "      <td>97956.496385</td>\n",
       "      <td>5593.500857</td>\n",
       "      <td>10476.586961</td>\n",
       "      <td>28.952677</td>\n",
       "      <td>46.601923</td>\n",
       "      <td>186.530382</td>\n",
       "      <td>312.980026</td>\n",
       "    </tr>\n",
       "    <tr>\n",
       "      <th>9</th>\n",
       "      <td>16304.096154</td>\n",
       "      <td>19204.765217</td>\n",
       "      <td>33.638462</td>\n",
       "      <td>52.286957</td>\n",
       "      <td>428.611538</td>\n",
       "      <td>539.443478</td>\n",
       "      <td>2.699978e+07</td>\n",
       "      <td>8.998638e+07</td>\n",
       "      <td>790.617820</td>\n",
       "      <td>2152.855530</td>\n",
       "      <td>33535.342723</td>\n",
       "      <td>105716.775286</td>\n",
       "      <td>5196.131409</td>\n",
       "      <td>9486.115073</td>\n",
       "      <td>28.117927</td>\n",
       "      <td>46.398874</td>\n",
       "      <td>183.126576</td>\n",
       "      <td>325.141162</td>\n",
       "    </tr>\n",
       "    <tr>\n",
       "      <th>10</th>\n",
       "      <td>16757.585034</td>\n",
       "      <td>20045.845528</td>\n",
       "      <td>33.765306</td>\n",
       "      <td>58.430894</td>\n",
       "      <td>426.136054</td>\n",
       "      <td>558.081301</td>\n",
       "      <td>3.433238e+07</td>\n",
       "      <td>9.610052e+07</td>\n",
       "      <td>816.111966</td>\n",
       "      <td>2697.181661</td>\n",
       "      <td>35392.336375</td>\n",
       "      <td>106464.583500</td>\n",
       "      <td>5859.384178</td>\n",
       "      <td>9803.087281</td>\n",
       "      <td>28.567673</td>\n",
       "      <td>51.934398</td>\n",
       "      <td>188.128510</td>\n",
       "      <td>326.289110</td>\n",
       "    </tr>\n",
       "    <tr>\n",
       "      <th>11</th>\n",
       "      <td>16896.193038</td>\n",
       "      <td>19787.313433</td>\n",
       "      <td>34.075949</td>\n",
       "      <td>55.791045</td>\n",
       "      <td>435.265823</td>\n",
       "      <td>541.380597</td>\n",
       "      <td>2.851872e+07</td>\n",
       "      <td>9.815928e+07</td>\n",
       "      <td>805.937071</td>\n",
       "      <td>2476.948491</td>\n",
       "      <td>31605.237050</td>\n",
       "      <td>96570.057064</td>\n",
       "      <td>5340.291831</td>\n",
       "      <td>9907.536740</td>\n",
       "      <td>28.389031</td>\n",
       "      <td>49.768951</td>\n",
       "      <td>177.778618</td>\n",
       "      <td>310.757232</td>\n",
       "    </tr>\n",
       "    <tr>\n",
       "      <th>12</th>\n",
       "      <td>18114.148368</td>\n",
       "      <td>21793.683453</td>\n",
       "      <td>35.994065</td>\n",
       "      <td>60.611511</td>\n",
       "      <td>478.560831</td>\n",
       "      <td>592.805755</td>\n",
       "      <td>3.106583e+07</td>\n",
       "      <td>1.077116e+08</td>\n",
       "      <td>934.952346</td>\n",
       "      <td>2681.978417</td>\n",
       "      <td>39698.622033</td>\n",
       "      <td>117276.331561</td>\n",
       "      <td>5573.673161</td>\n",
       "      <td>10378.418874</td>\n",
       "      <td>30.576990</td>\n",
       "      <td>51.787821</td>\n",
       "      <td>199.245131</td>\n",
       "      <td>342.456321</td>\n",
       "    </tr>\n",
       "  </tbody>\n",
       "</table>\n",
       "</div>"
      ],
      "text/plain": [
       "                     mean                                           \\\n",
       "                number_gb               number_messages              \n",
       "tariff_name         smart         ultra           smart      ultra   \n",
       "month                                                                \n",
       "1             8514.176471  13141.333333       18.235294  33.777778   \n",
       "2            11597.517241  11776.333333       24.086207  21.958333   \n",
       "3            15104.649351  17536.054054       31.857143  32.297297   \n",
       "4            13462.651786  16828.600000       30.741071  31.563636   \n",
       "5            15805.659574  19363.671642       33.773050  37.850746   \n",
       "6            15795.146341  18925.404762       33.402439  41.726190   \n",
       "7            15743.616915  20496.153846       33.751244  49.846154   \n",
       "8            16611.208511  19576.570093       33.638298  48.439252   \n",
       "9            16304.096154  19204.765217       33.638462  52.286957   \n",
       "10           16757.585034  20045.845528       33.765306  58.430894   \n",
       "11           16896.193038  19787.313433       34.075949  55.791045   \n",
       "12           18114.148368  21793.683453       35.994065  60.611511   \n",
       "\n",
       "                                                 var                \\\n",
       "            number_minutes                 number_gb                 \n",
       "tariff_name          smart       ultra         smart         ultra   \n",
       "month                                                                \n",
       "1               203.852941  428.111111  4.153401e+07  4.713590e+07   \n",
       "2               298.689655  297.125000  3.902912e+07  1.133121e+08   \n",
       "3               390.051948  489.648649  3.396841e+07  1.199431e+08   \n",
       "4               367.133929  458.018182  3.246972e+07  9.445340e+07   \n",
       "5               387.361702  510.328358  3.573960e+07  1.009244e+08   \n",
       "6               395.640244  479.702381  3.353713e+07  8.635645e+07   \n",
       "7               408.353234  545.791209  3.477686e+07  1.013082e+08   \n",
       "8               421.468085  510.775701  3.128725e+07  1.097589e+08   \n",
       "9               428.611538  539.443478  2.699978e+07  8.998638e+07   \n",
       "10              426.136054  558.081301  3.433238e+07  9.610052e+07   \n",
       "11              435.265823  541.380597  2.851872e+07  9.815928e+07   \n",
       "12              478.560831  592.805755  3.106583e+07  1.077116e+08   \n",
       "\n",
       "                                                                        \\\n",
       "            number_messages              number_minutes                  \n",
       "tariff_name           smart        ultra          smart          ultra   \n",
       "month                                                                    \n",
       "1                262.367201   940.694444   23787.341355   72769.361111   \n",
       "2                473.097701   716.824275   36412.287961   87919.679348   \n",
       "3                718.492481  1732.381381   36823.155161  111384.900901   \n",
       "4                602.139559  1407.287542   34778.207127   71653.870034   \n",
       "5                730.990983  1624.644052   34820.061094   83870.193578   \n",
       "6                806.806374  1986.297619   30742.918861   91535.946500   \n",
       "7                799.887811  2372.042735   32250.269602   94322.278144   \n",
       "8                838.257501  2171.739199   34793.583379   97956.496385   \n",
       "9                790.617820  2152.855530   33535.342723  105716.775286   \n",
       "10               816.111966  2697.181661   35392.336375  106464.583500   \n",
       "11               805.937071  2476.948491   31605.237050   96570.057064   \n",
       "12               934.952346  2681.978417   39698.622033  117276.331561   \n",
       "\n",
       "                     std                                           \\\n",
       "               number_gb               number_messages              \n",
       "tariff_name        smart         ultra           smart      ultra   \n",
       "month                                                               \n",
       "1            6444.688602   6865.558699       16.197753  30.670742   \n",
       "2            6247.328777  10644.816978       21.750809  26.773574   \n",
       "3            5828.242162  10951.854696       26.804710  41.621886   \n",
       "4            5698.221206   9718.714039       24.538532  37.513831   \n",
       "5            5978.260685  10046.112771       27.036845  40.306874   \n",
       "6            5791.124844   9292.817347       28.404337  44.567899   \n",
       "7            5897.191102  10065.198600       28.282288  48.703621   \n",
       "8            5593.500857  10476.586961       28.952677  46.601923   \n",
       "9            5196.131409   9486.115073       28.117927  46.398874   \n",
       "10           5859.384178   9803.087281       28.567673  51.934398   \n",
       "11           5340.291831   9907.536740       28.389031  49.768951   \n",
       "12           5573.673161  10378.418874       30.576990  51.787821   \n",
       "\n",
       "                                        \n",
       "            number_minutes              \n",
       "tariff_name          smart       ultra  \n",
       "month                                   \n",
       "1               154.231454  269.757968  \n",
       "2               190.820041  296.512528  \n",
       "3               191.893604  333.743765  \n",
       "4               186.489161  267.682405  \n",
       "5               186.601343  289.603511  \n",
       "6               175.336587  302.549081  \n",
       "7               179.583601  307.119322  \n",
       "8               186.530382  312.980026  \n",
       "9               183.126576  325.141162  \n",
       "10              188.128510  326.289110  \n",
       "11              177.778618  310.757232  \n",
       "12              199.245131  342.456321  "
      ]
     },
     "metadata": {},
     "output_type": "display_data"
    }
   ],
   "source": [
    "# сформируем сводную таблицу\n",
    "analytical_table = pd.pivot_table(df,\n",
    "               index='month',\n",
    "               values=['number_minutes', 'number_messages', 'number_gb'],\n",
    "               columns='tariff_name',\n",
    "               aggfunc=[np.mean, np.var, np.std],\n",
    "               dropna=True)\n",
    "display(analytical_table)"
   ]
  },
  {
   "cell_type": "code",
   "execution_count": 986,
   "metadata": {
    "pycharm": {
     "name": "#%%\n"
    }
   },
   "outputs": [
    {
     "data": {
      "text/plain": [
       "<AxesSubplot:title={'center':'Ежемесячная потребность в интернет-трафике'}, ylabel='Count'>"
      ]
     },
     "execution_count": 986,
     "metadata": {},
     "output_type": "execute_result"
    },
    {
     "data": {
      "image/png": "[encoded data removed]",
      "text/plain": [
       "<Figure size 2160x720 with 1 Axes>"
      ]
     },
     "metadata": {},
     "output_type": "display_data"
    }
   ],
   "source": [
    "plt.title('Ежемесячная потребность в интернет-трафике')\n",
    "sns.histplot(data=analytical_table['mean']['number_gb'], bins=10, kde=True, multiple='dodge')"
   ]
  },
  {
   "cell_type": "code",
   "execution_count": 987,
   "metadata": {
    "pycharm": {
     "name": "#%%\n"
    }
   },
   "outputs": [
    {
     "name": "stdout",
     "output_type": "stream",
     "text": [
      "тариф \"SMART\":\n",
      "Математическое ожидание = 15058.887398675904\n",
      "Среднее стандартное отклонение = 5787.336567922614\n",
      "Средняя дисперсия = 33604901.338876985\n",
      "тариф \"ULTRA\":\n",
      "Математическое ожидание = 18206.310724662344\n",
      "Среднее стандартное отклонение = 9803.06817172056\n",
      "Средняя дисперсия = 97095853.65731575\n"
     ]
    }
   ],
   "source": [
    "print('тариф \"SMART\":')\n",
    "print('Математическое ожидание =', sum(analytical_table['mean']['number_gb']['smart']) / 12)\n",
    "print('Среднее стандартное отклонение =', sum(analytical_table['std']['number_gb']['smart']) / 12)\n",
    "print('Средняя дисперсия =', sum(analytical_table['var']['number_gb']['smart']) / 12)\n",
    "print('тариф \"ULTRA\":')\n",
    "print('Математическое ожидание =', sum(analytical_table['mean']['number_gb']['ultra']) / 12)\n",
    "print('Среднее стандартное отклонение =', sum(analytical_table['std']['number_gb']['ultra']) / 12)\n",
    "print('Средняя дисперсия =', sum(analytical_table['var']['number_gb']['ultra']) / 12)"
   ]
  },
  {
   "cell_type": "markdown",
   "metadata": {
    "pycharm": {
     "name": "#%% md\n"
    }
   },
   "source": [
    "Распределение потребности в интернет-трафике по тарифам заметно отличаются:\n",
    "    - распределение тарифа \"smart\" ближе к нормальному;\n",
    "    - распределение тарифа \"ultra\" имеет отрицательное искажение;\n",
    "    - распределение тарифа \"smart\" характеризуется меньшим разбросом, о чем говорит разница в значениях стандартного отклонения;\n",
    "    - количество пользователей тарифа \"smart\" превышает количество пользователей по тарифу \"ultra\"."
   ]
  },
  {
   "cell_type": "code",
   "execution_count": 988,
   "metadata": {
    "pycharm": {
     "name": "#%%\n"
    }
   },
   "outputs": [
    {
     "data": {
      "text/plain": [
       "<AxesSubplot:title={'center':'Ежемесячная потребность в минутах разговора'}, ylabel='Count'>"
      ]
     },
     "execution_count": 988,
     "metadata": {},
     "output_type": "execute_result"
    },
    {
     "data": {
      "image/png": "[encoded data removed]",
      "text/plain": [
       "<Figure size 2160x720 with 1 Axes>"
      ]
     },
     "metadata": {},
     "output_type": "display_data"
    }
   ],
   "source": [
    "plt.title('Ежемесячная потребность в минутах разговора')\n",
    "sns.histplot(analytical_table['mean']['number_minutes'], bins=10, kde=True, multiple='dodge')"
   ]
  },
  {
   "cell_type": "code",
   "execution_count": 989,
   "metadata": {
    "pycharm": {
     "name": "#%%\n"
    }
   },
   "outputs": [
    {
     "name": "stdout",
     "output_type": "stream",
     "text": [
      "тариф \"SMART\":\n",
      "Математическое ожидание = 386.76049870568676\n",
      "Среднее стандартное отклонение = 183.31375052974033\n",
      "Средняя дисперсия = 33719.94689342452\n",
      "тариф \"ULTRA\":\n",
      "Математическое ожидание = 495.9343101624627\n",
      "Среднее стандартное отклонение = 307.0493692547736\n",
      "Средняя дисперсия = 94786.70611763936\n"
     ]
    }
   ],
   "source": [
    "print('тариф \"SMART\":')\n",
    "print('Математическое ожидание =', sum(analytical_table['mean']['number_minutes']['smart']) / 12)\n",
    "print('Среднее стандартное отклонение =', sum(analytical_table['std']['number_minutes']['smart']) / 12)\n",
    "print('Средняя дисперсия =', sum(analytical_table['var']['number_minutes']['smart']) / 12)\n",
    "print('тариф \"ULTRA\":')\n",
    "print('Математическое ожидание =', sum(analytical_table['mean']['number_minutes']['ultra']) / 12)\n",
    "print('Среднее стандартное отклонение =', sum(analytical_table['std']['number_minutes']['ultra']) / 12)\n",
    "print('Средняя дисперсия =', sum(analytical_table['var']['number_minutes']['ultra']) / 12)"
   ]
  },
  {
   "cell_type": "markdown",
   "metadata": {
    "pycharm": {
     "name": "#%% md\n"
    }
   },
   "source": [
    "Картина распределения потребности в минутах разговора по тарифам аналогична интернет-трафику:\n",
    "    - распределение тарифа \"smart\" ближе к нормальному;\n",
    "    - распределение тарифа \"ultra\" имеет отрицательное искажение;\n",
    "    - распределение тарифа \"smart\" характеризуется меньшим разбросом, о чем говорит разница в значениях стандартного отклонения;\n",
    "    - количество пользователей тарифа \"smart\" превышает количество пользователей по тарифу \"ultra\"."
   ]
  },
  {
   "cell_type": "code",
   "execution_count": 990,
   "metadata": {
    "pycharm": {
     "name": "#%%\n"
    }
   },
   "outputs": [
    {
     "data": {
      "text/plain": [
       "<AxesSubplot:title={'center':'Ежемесячная потребность в текстовых сообщениях'}, ylabel='Count'>"
      ]
     },
     "execution_count": 990,
     "metadata": {},
     "output_type": "execute_result"
    },
    {
     "data": {
      "image/png": "[encoded data removed]",
      "text/plain": [
       "<Figure size 2160x720 with 1 Axes>"
      ]
     },
     "metadata": {},
     "output_type": "display_data"
    }
   ],
   "source": [
    "plt.title('Ежемесячная потребность в текстовых сообщениях')\n",
    "sns.histplot(analytical_table['mean']['number_messages'], bins=20, kde=True, multiple='dodge')"
   ]
  },
  {
   "cell_type": "code",
   "execution_count": 991,
   "metadata": {
    "pycharm": {
     "name": "#%%\n"
    }
   },
   "outputs": [
    {
     "name": "stdout",
     "output_type": "stream",
     "text": [
      "тариф \"SMART\":\n",
      "Математическое ожидание = 31.413210661085547\n",
      "Среднее стандартное отклонение = 26.468297761546292\n",
      "Средняя дисперсия = 714.9715679088049\n",
      "тариф \"ULTRA\":\n",
      "Математическое ожидание = 43.71498284147191\n",
      "Среднее стандартное отклонение = 43.05419954433202\n",
      "Средняя дисперсия = 1913.4062789967668\n"
     ]
    }
   ],
   "source": [
    "print('тариф \"SMART\":')\n",
    "print('Математическое ожидание =', sum(analytical_table['mean']['number_messages']['smart']) / 12)\n",
    "print('Среднее стандартное отклонение =', sum(analytical_table['std']['number_messages']['smart']) / 12)\n",
    "print('Средняя дисперсия =', sum(analytical_table['var']['number_messages']['smart']) / 12)\n",
    "print('тариф \"ULTRA\":')\n",
    "print('Математическое ожидание =', sum(analytical_table['mean']['number_messages']['ultra']) / 12)\n",
    "print('Среднее стандартное отклонение =', sum(analytical_table['std']['number_messages']['ultra']) / 12)\n",
    "print('Средняя дисперсия =', sum(analytical_table['var']['number_messages']['ultra']) / 12)"
   ]
  },
  {
   "cell_type": "markdown",
   "metadata": {
    "pycharm": {
     "name": "#%% md\n"
    }
   },
   "source": [
    "Картина распределения потребности в текстовых сообщениях по тарифам кардинально отличается от предыдущих распределений:\n",
    "    - распределение тарифа \"smart\" приближено к нормальному;\n",
    "    - распределение тарифа \"ultra\" приближается к равномерному распределению;\n",
    "    - распределение тарифа \"smart\" характеризуется меньшим разбросом, о чем говорит разница в значениях стандартного отклонения;\n",
    "    - математические ожидания по двум тарифам различны по значению;\n",
    "    - количество пользователей тарифа \"smart\" значительно превышает количество пользователей по тарифу \"ultra\"."
   ]
  },
  {
   "cell_type": "markdown",
   "metadata": {
    "pycharm": {
     "name": "#%% md\n"
    }
   },
   "source": [
    "## Проверка гипотез\n",
    "### Гипотеза 1\n",
    "**Cредняя выручка пользователей тарифов «Ультра» и «Смарт» различается**\n",
    "\n",
    "**Нулевая гипотеза:** Средняя выручка пользователей тарифов `Ultra` и `Smart` равны. $$H_0: `MeanRevenueUltra` = `MeanRevenueSmart`$$\n",
    "\n",
    "**Альтернативная гипотеза:** Cредняя выручка пользователей тарифов `Ultra` и `Smart` различаются. $$H_1: `MeanRevenueUltra` <> `MeanRevenueSmart`$$"
   ]
  },
  {
   "cell_type": "code",
   "execution_count": 992,
   "metadata": {
    "pycharm": {
     "name": "#%%\n"
    }
   },
   "outputs": [
    {
     "name": "stdout",
     "output_type": "stream",
     "text": [
      "Объем генеральной совокупности по тарифу SMART 2229 строк\n",
      "Объем генеральной совокупности по тарифу ULTRA 985 строк\n",
      "Средняя выручка по тарифу SMART =  1619.7263346792283\n",
      "Средняя выручка по тарифу ULTRA =  850.1492385786802\n"
     ]
    }
   ],
   "source": [
    "# сформируем генеральные совокупности по соответствующим тарифам\n",
    "df_smart = df.query('tariff_name == \"smart\"')\n",
    "df_ultra = df.query('tariff_name == \"ultra\"')\n",
    "print('Объем генеральной совокупности по тарифу SMART', len(df_smart), 'строк')\n",
    "print('Объем генеральной совокупности по тарифу ULTRA', len(df_ultra), 'строк')\n",
    "# рассчитаем среднии выручки по генеральным совокупностям\n",
    "print('Средняя выручка по тарифу SMART = ', df_smart['revenue_month'].mean())\n",
    "print('Средняя выручка по тарифу ULTRA = ', df_ultra['revenue_month'].mean())"
   ]
  },
  {
   "cell_type": "markdown",
   "metadata": {
    "pycharm": {
     "name": "#%% md\n"
    }
   },
   "source": [
    "Мы можем утверждать, что **средняя выручка пользователей тарифов «Ультра» и «Смарт» различается**."
   ]
  },
  {
   "cell_type": "markdown",
   "metadata": {
    "pycharm": {
     "name": "#%% md\n"
    }
   },
   "source": [
    "Проверим нулевую гипотезу с помощью статистического метода T-test для независимых генеральных совокупностей."
   ]
  },
  {
   "cell_type": "code",
   "execution_count": 993,
   "metadata": {
    "pycharm": {
     "name": "#%%\n"
    }
   },
   "outputs": [
    {
     "name": "stdout",
     "output_type": "stream",
     "text": [
      "Средняя выручка по случайной выборке тарифа SMART\" = 1331.93\n",
      "Средняя выручка по случайной выборке тарифа ULTRA = 1068.53\n"
     ]
    }
   ],
   "source": [
    "# выберим случайным образом из генеральных совокупностей по 1500 записей\n",
    "df_smart_random = df_smart.sample(100)\n",
    "df_ultra_random = df_ultra.sample(100)\n",
    "# рассчитаем среднии выручки по случайным выборкам\n",
    "mean_revenue_month_smart = df_smart_random['revenue_month'].mean()\n",
    "mean_revenue_month_ultra = df_ultra_random['revenue_month'].mean()\n",
    "print('Средняя выручка по случайной выборке тарифа SMART\" =', mean_revenue_month_smart)\n",
    "print('Средняя выручка по случайной выборке тарифа ULTRA =', mean_revenue_month_ultra)"
   ]
  },
  {
   "cell_type": "code",
   "execution_count": 994,
   "metadata": {
    "pycharm": {
     "name": "#%%\n"
    }
   },
   "outputs": [
    {
     "name": "stdout",
     "output_type": "stream",
     "text": [
      "p-значение:  0.22812246763801924\n",
      "Не получилось отвергнуть нулевую гипотезу\n"
     ]
    }
   ],
   "source": [
    "# Проверка гипотезы о равенстве среднего двух генеральных совокупностей по взятым из них выборкам\n",
    "alpha = .05 # критический уровень статистической значимости\n",
    "# если p-value окажется меньше него - отвегнем гипотезу\n",
    "results = st.ttest_ind(\n",
    "    df_smart_random['revenue_month'],\n",
    "    df_ultra_random['revenue_month'],\n",
    "    equal_var=True)\n",
    "\n",
    "print('p-значение: ', results.pvalue)\n",
    "\n",
    "if results.pvalue < alpha:\n",
    "    print(\"Отвергаем нулевую гипотезу\")\n",
    "else:\n",
    "    print(\"Не получилось отвергнуть нулевую гипотезу\")"
   ]
  },
  {
   "cell_type": "markdown",
   "metadata": {
    "pycharm": {
     "name": "#%% md\n"
    }
   },
   "source": [
    "### Гипотеза 2\n",
    "**Средняя выручка пользователей из Москвы отличается от выручки пользователей из других регионов**\n",
    "\n",
    "**Нулевая гипотеза:** Средняя выручка пользователей из Москвы равна выручке пользователей из других регионов. $$H_0: `MeanRevenueMoscow` = `MeanRevenueOther`$$\n",
    "\n",
    "**Альтернативная гипотеза:** Средняя выручка пользователей из Москвы не равна выручке пользователей из других регионов. $$H_1: `MeanRevenueMoscow` <> `MeanRevenueOther`$$"
   ]
  },
  {
   "cell_type": "code",
   "execution_count": 995,
   "metadata": {
    "pycharm": {
     "name": "#%%\n"
    }
   },
   "outputs": [
    {
     "name": "stdout",
     "output_type": "stream",
     "text": [
      "Объем генеральной совокупности по городу Москва 611 строк\n",
      "Объем генеральной совокупности по другим регионам 2603 строк\n",
      "Средняя выручка по городу Москва =  1416.5793780687397\n",
      "Средняя выручка по другим регионам =  1376.1955436035344\n"
     ]
    }
   ],
   "source": [
    "# сформируем генеральные совокупности по соответствующим регионам\n",
    "df_moscow = df.query('city == \"Москва\"')\n",
    "df_other = df.query('city != \"Москва\"')\n",
    "print('Объем генеральной совокупности по городу Москва', len(df_moscow), 'строк')\n",
    "print('Объем генеральной совокупности по другим регионам', len(df_other), 'строк')\n",
    "# рассчитаем среднии выручки по генеральным совокупностям\n",
    "print('Средняя выручка по городу Москва = ', df_moscow['revenue_month'].mean())\n",
    "print('Средняя выручка по другим регионам = ', df_other['revenue_month'].mean())"
   ]
  },
  {
   "cell_type": "markdown",
   "metadata": {
    "pycharm": {
     "name": "#%% md\n"
    }
   },
   "source": [
    "Мы видим, что средняя выручка по городу Москва отличается от средней выручки по другим регионам, но не значительно.\n",
    "Все же мы можем утверждать, что **Средняя выручка пользователей из Москвы отличается от выручки пользователей из других регионов**."
   ]
  },
  {
   "cell_type": "markdown",
   "metadata": {
    "pycharm": {
     "name": "#%% md\n"
    }
   },
   "source": [
    "Проверим нулевую гипотезу с помощью статистического метода T-test для независимых генеральных совокупностей."
   ]
  },
  {
   "cell_type": "code",
   "execution_count": 996,
   "metadata": {
    "pycharm": {
     "name": "#%%\n"
    }
   },
   "outputs": [
    {
     "name": "stdout",
     "output_type": "stream",
     "text": [
      "Средняя выручка по случайной выборке города Москва\" = 1404.96\n",
      "Средняя выручка по случайной выборке других регионов = 1296.01\n"
     ]
    }
   ],
   "source": [
    "# выберим случайным образом из генеральных совокупностей по 1500 записей\n",
    "df_moscow_random = df_moscow.sample(100)\n",
    "df_other_random = df_other.sample(100)\n",
    "# рассчитаем среднии выручки по случайным выборкам\n",
    "mean_revenue_month_moscow = df_moscow_random['revenue_month'].mean()\n",
    "mean_revenue_month_other = df_other_random['revenue_month'].mean()\n",
    "print('Средняя выручка по случайной выборке города Москва\" =', mean_revenue_month_moscow)\n",
    "print('Средняя выручка по случайной выборке других регионов =', mean_revenue_month_other)"
   ]
  },
  {
   "cell_type": "code",
   "execution_count": 997,
   "metadata": {
    "pycharm": {
     "name": "#%%\n"
    }
   },
   "outputs": [
    {
     "name": "stdout",
     "output_type": "stream",
     "text": [
      "p-значение:  0.6162047827852026\n",
      "Не получилось отвергнуть нулевую гипотезу\n"
     ]
    }
   ],
   "source": [
    "# Проверка гипотезы о равенстве среднего двух генеральных совокупностей по взятым из них выборкам\n",
    "alpha = .05 # критический уровень статистической значимости\n",
    "# если p-value окажется меньше него - отвегнем гипотезу\n",
    "results = st.ttest_ind(\n",
    "    df_moscow_random['revenue_month'],\n",
    "    df_other_random['revenue_month'],\n",
    "    equal_var=True)\n",
    "\n",
    "print('p-значение: ', results.pvalue)\n",
    "\n",
    "if results.pvalue < alpha:\n",
    "    print(\"Отвергаем нулевую гипотезу\")\n",
    "else:\n",
    "    print(\"Не получилось отвергнуть нулевую гипотезу\")"
   ]
  },
  {
   "cell_type": "markdown",
   "metadata": {
    "pycharm": {
     "name": "#%% md\n"
    }
   },
   "source": [
    "## Общий вывод\n",
    "### Аналитическая оценка тарифов.\n",
    "*Название тарифа* | *Средняя выручка* | *Средний трафик* | *Среднее количество минут* | *Среднее количество сообщений*\n",
    "---|-------------------|------------------|----------------------------|---|\n",
    "SMART | 1620              | 15 Гб            | 386                        | 31 |\n",
    "ULTRA | 850               | 18 Гб            | 495                        | 43 |\n",
    "\n",
    "- **Наиболее привлекательный в денежном выражении тариф SMART**\n",
    "- **Мы видим, что средняя потребность по различным критериям в разрезе по тарифам отличается незначительно, при этом стоимость абонентской платы по тарифам значительно отличается**\n",
    "**Рекомендации:**\n",
    "- перейти на единый тариф;\n",
    "- скорректировать тарифы в сторону уменьшения абонентской платы, включенных объемов: по трафику, минутам, сообщениям;\n",
    "- простимулировать активность пользователей тарифа ULTRA.\n",
    "\n",
    "\n",
    "\n",
    "Предлагаю оценить ошибку выборки и точность опыта (относительную ошибку выборки) в каждом опыте проверки нулевой гипотезы.\n",
    "Для расчетов будем использовать следующие формулы:\n",
    "\n",
    "**среднее арифметическое** $$\\mu = \\frac{\\sum \\left (x_{i} \\right )}{n}$$\n",
    "**ошибка выборки** $$S_x = S / \\sqrt{(n)}$$\n",
    "**относительная ошибка выборки** $$S_0 = S_x / \\mu * 100$$\n",
    "\n",
    "**критерий оценки**\n",
    "Результаты опыта считаются удовлетворительными, если ошибка выборочной средней не превышает 2-5%, если точность опыта\n",
    "выше 5% рекомендуется совершенствовать методику, а опыты с точностью более 7% браковать.\n",
    "### Опыт 1 (проверка гипотезы 1)"
   ]
  },
  {
   "cell_type": "code",
   "execution_count": 998,
   "metadata": {
    "pycharm": {
     "name": "#%%\n"
    }
   },
   "outputs": [
    {
     "name": "stdout",
     "output_type": "stream",
     "text": [
      "Стандартное отклонение выручки по тарифу \"SMART\" = 1584.224234475663\n",
      "Стандартное отклонение выручки по тарифу \"ULTRA\" = 1479.7603079891014\n"
     ]
    }
   ],
   "source": [
    "# рассчитаем стандартное отклонение случайной выборки по тарифам\n",
    "std_smart = np.std(df_smart_random['revenue_month'])\n",
    "std_ultra = np.std(df_ultra_random['revenue_month'])\n",
    "print('Стандартное отклонение выручки по тарифу \"SMART\" =', std_smart)\n",
    "print('Стандартное отклонение выручки по тарифу \"ULTRA\" =', std_ultra)"
   ]
  },
  {
   "cell_type": "code",
   "execution_count": 999,
   "metadata": {
    "pycharm": {
     "name": "#%%\n"
    }
   },
   "outputs": [
    {
     "name": "stdout",
     "output_type": "stream",
     "text": [
      "Ошибка выборки по тарифу \"SMART\" = 158.4224234475663\n",
      "Ошибка выборки по тарифу \"ULTRA\" = 147.97603079891013\n"
     ]
    }
   ],
   "source": [
    "# рассчитаем ошибку случайной выборки по тарифам\n",
    "sampling_error_smart = std_smart / np.sqrt(100)\n",
    "sampling_error_ultra = std_ultra / np.sqrt(100)\n",
    "print('Ошибка выборки по тарифу \"SMART\" =', sampling_error_smart)\n",
    "print('Ошибка выборки по тарифу \"ULTRA\" =', sampling_error_ultra)"
   ]
  },
  {
   "cell_type": "code",
   "execution_count": 1000,
   "metadata": {
    "pycharm": {
     "name": "#%%\n"
    }
   },
   "outputs": [
    {
     "name": "stdout",
     "output_type": "stream",
     "text": [
      "Ошибка опыта по тарифу \"SMART\" = 11.9 %\n",
      "Ошибка опыта по тарифу \"ULTRA\" = 13.8 %\n"
     ]
    }
   ],
   "source": [
    "# рассчитаем относительную ошибку (ошибку опыта) случайной выборки по тарифам\n",
    "relative_sampling_error_smart = (sampling_error_smart / mean_revenue_month_smart) * 100\n",
    "relative_sampling_error_ultra = (sampling_error_ultra / mean_revenue_month_ultra) * 100\n",
    "print('Ошибка опыта по тарифу \"SMART\" =', round(relative_sampling_error_smart, 1), '%')\n",
    "print('Ошибка опыта по тарифу \"ULTRA\" =', round(relative_sampling_error_ultra, 1), '%')"
   ]
  },
  {
   "cell_type": "markdown",
   "metadata": {
    "pycharm": {
     "name": "#%% md\n"
    }
   },
   "source": [
    "### Опыт 2 (проверка гипотезы 2)"
   ]
  },
  {
   "cell_type": "code",
   "execution_count": 1001,
   "metadata": {
    "pycharm": {
     "name": "#%%\n"
    }
   },
   "outputs": [
    {
     "name": "stdout",
     "output_type": "stream",
     "text": [
      "Стандартное отклонение выручки по городу Москва = 1469.674201447382\n",
      "Стандартное отклонение выручки по другим регионам = 1581.9909891968414\n"
     ]
    }
   ],
   "source": [
    "# рассчитаем стандартное отклонение случайной выборки по соотвествующим регионам\n",
    "std_moscow = np.std(df_moscow_random['revenue_month'])\n",
    "std_other = np.std(df_other_random['revenue_month'])\n",
    "print('Стандартное отклонение выручки по городу Москва =', std_moscow)\n",
    "print('Стандартное отклонение выручки по другим регионам =', std_other)"
   ]
  },
  {
   "cell_type": "code",
   "execution_count": 1002,
   "metadata": {
    "pycharm": {
     "name": "#%%\n"
    }
   },
   "outputs": [
    {
     "name": "stdout",
     "output_type": "stream",
     "text": [
      "Ошибка выборки по городу Москва = 146.9674201447382\n",
      "Ошибка выборки по другим регионам = 158.19909891968413\n"
     ]
    }
   ],
   "source": [
    "# рассчитаем ошибку случайной выборки по соответствующим регионам\n",
    "sampling_error_moscow = std_moscow / np.sqrt(100)\n",
    "sampling_error_other = std_other / np.sqrt(100)\n",
    "print('Ошибка выборки по городу Москва =', sampling_error_moscow)\n",
    "print('Ошибка выборки по другим регионам =', sampling_error_other)"
   ]
  },
  {
   "cell_type": "code",
   "execution_count": 1003,
   "metadata": {
    "pycharm": {
     "name": "#%%\n"
    }
   },
   "outputs": [
    {
     "name": "stdout",
     "output_type": "stream",
     "text": [
      "Ошибка опыта по городу Москва = 10.5 %\n",
      "Ошибка опыта по другим регионам = 12.2 %\n"
     ]
    }
   ],
   "source": [
    "# рассчитаем относительную ошибку (ошибку опыта) случайной выборки по соответствующим регионам\n",
    "relative_sampling_error_moscow = (sampling_error_moscow / mean_revenue_month_moscow) * 100\n",
    "relative_sampling_error_other = (sampling_error_other / mean_revenue_month_other) * 100\n",
    "print('Ошибка опыта по городу Москва =', round(relative_sampling_error_moscow, 1), '%')\n",
    "print('Ошибка опыта по другим регионам =', round(relative_sampling_error_other, 1), '%')"
   ]
  },
  {
   "cell_type": "markdown",
   "metadata": {
    "pycharm": {
     "name": "#%% md\n"
    }
   },
   "source": [
    "**По двум опытам относительная ошибка превышает 7%, результаты опытов можно признать неудовлетворительными. Необходимо увеличить объем выборки, либо пересмотреть методику оценки.**"
   ]
  }
 ],
 "metadata": {
  "kernelspec": {
   "display_name": "Python 3.9.13 ('base')",
   "language": "python",
   "name": "python3"
  },
  "language_info": {
   "codemirror_mode": {
    "name": "ipython",
    "version": 3
   },
   "file_extension": ".py",
   "mimetype": "text/x-python",
   "name": "python",
   "nbconvert_exporter": "python",
   "pygments_lexer": "ipython3",
   "version": "3.9.13"
  },
  "toc": {
   "base_numbering": 1,
   "nav_menu": {},
   "number_sections": true,
   "sideBar": true,
   "skip_h1_title": true,
   "title_cell": "Содержание",
   "title_sidebar": "Contents",
   "toc_cell": true,
   "toc_position": {},
   "toc_section_display": true,
   "toc_window_display": false
  },
  "vscode": {
   "interpreter": {
    "hash": "98b2437ccc6ba9df22f10a9e500b8092eb6320bb483d1f9e646e8fcb0e101460"
   }
  }
 },
 "nbformat": 4,
 "nbformat_minor": 1
}
